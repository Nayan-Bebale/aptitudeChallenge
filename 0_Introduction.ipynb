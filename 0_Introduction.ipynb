{
  "nbformat": 4,
  "nbformat_minor": 0,
  "metadata": {
    "colab": {
      "provenance": [],
      "authorship_tag": "ABX9TyMlJ9A++Aka4Viez4AN1+gQ",
      "include_colab_link": true
    },
    "kernelspec": {
      "name": "python3",
      "display_name": "Python 3"
    },
    "language_info": {
      "name": "python"
    }
  },
  "cells": [
    {
      "cell_type": "markdown",
      "metadata": {
        "id": "view-in-github",
        "colab_type": "text"
      },
      "source": [
        "<a href=\"https://colab.research.google.com/github/Nayan-Bebale/aptitudeChallenge/blob/main/0_Introduction.ipynb\" target=\"_parent\"><img src=\"https://colab.research.google.com/assets/colab-badge.svg\" alt=\"Open In Colab\"/></a>"
      ]
    },
    {
      "cell_type": "markdown",
      "source": [
        "# Important Aptitude Topics For Campus Placements\n",
        "\n",
        "Important Aptitude Topics for Placements are listed on this page. You can start you aptitude preparation for various Service Based and Product Based companies, by going through this page.\n",
        "\n",
        "On this page, you will find:-\n",
        "\n",
        "* Important Aptitude Topics for Campus Placements – Quants\n",
        "* Important Aptitude Topics for Campus Placements – Logical\n",
        "* Important Aptitude Topics for Campus Placements – Verbal Ability\n",
        "\n",
        "platform :- PrepInsta"
      ],
      "metadata": {
        "id": "lAvCbOll96F_"
      }
    },
    {
      "cell_type": "markdown",
      "source": [
        "## Most Important Aptitude Topics - Quants\n",
        "\n",
        "Quantitative Aptitude deals with mathematical ability of a candidate. This is often the toughest section of aptitude, and students face difficulty solving these questions. The most important topics in quantitative aptitude include the following:-\n",
        "\n",
        "\n",
        "### Numbers\n",
        "* HCF and LCM\n",
        "* Number System\n",
        "* Number Decimals & Fractions tcuts\n",
        "* Surds and Indices\n",
        "* Divisibility\n",
        "* Ages\n",
        "* LCM\n",
        "* HCF\n",
        "* Inverse\n",
        "\n",
        "\n",
        "### Speed and Work\n",
        "* Speed Time and Distance\n",
        "* Work and Time\n",
        "* Boats and Streams  \n",
        "* Pipes and Cisterns\n",
        "\n",
        "\n",
        "<img src=\"https://prepinstadotcom.s3.ap-south-1.amazonaws.com/wp-content/uploads/2024/03/important-quants-topics.webp\"/>\n",
        "\n",
        "### Classic Banking\n",
        "* Averages\n",
        "* Allegations and Mixtures\n",
        "* Ratio and Proportions Simple & Compound Interest\n",
        "* Simple Interest Compound Interest\n",
        "* Percentages\n",
        "* Profit & Loss\n",
        "* Others\n",
        "  * Successive Discount 1\n",
        "  * Successive Discount 2\n",
        "\n",
        "### Progressions\n",
        "* AP GP HP\n",
        "* Arithmetic Progressions\n",
        "* Geometric Progressions\n",
        "* Harmonic Progressions\n",
        "\n",
        "\n",
        "### Probability and Combinations\n",
        "* Probability\n",
        "* Permutation & Combination\n",
        "* Others\n",
        "  * Combination\n",
        "  * Circular Permutation\n",
        "\n",
        "### Geometry\n",
        "* Geometry\n",
        "* Heights and Distances\n",
        "* Perimeter Area and Volume\n",
        "* Coordinate Geometry\n",
        "* Venn Diagrams\n",
        "* Set Theory\n",
        "\n",
        "### Equations\n",
        "* Algebra\n",
        "* Linear Equations\n",
        "* Quadratic Equations\n",
        "\n",
        "### Misc\n",
        "* Logarithms\n",
        "* Clocks\n",
        "* Calendars\n",
        "* Clocks and Calendars\n",
        "* Others\n",
        "  * Finding remainder of large powers"
      ],
      "metadata": {
        "id": "1X0BSwKACimZ"
      }
    },
    {
      "cell_type": "markdown",
      "source": [
        "## Most Important Aptitude Topics - Logical\n",
        "\n",
        "Logical Reasoning, is another very important subject for Aptitude preparation. The candidate’s ability to think critically and analyze information to draw rational conclusions, is tested in this round. The most important topics asked in Logical Reasoning include:-\n",
        "\n",
        "### Series\n",
        "* Number Series\n",
        "* Coding and Number Series\n",
        "* Letter and Symbol Series\n",
        "* Logical Sequence of Words\n",
        "* Analogy and Classification Pattern\n",
        "\n",
        "### Statements\n",
        "* Statements and Conclusions\n",
        "* Statements and Assumptions\n",
        "* Data Sufficiency\n",
        "\n",
        "<img src=\"https://prepinstadotcom.s3.ap-south-1.amazonaws.com/wp-content/uploads/2024/03/important-logical-topics.webp\"/>\n",
        "\n",
        "### Visual Reasoning\n",
        "* Visual Reasoning\n",
        "* Cube and Cuboid\n",
        "* Cube\n",
        "* Dice\n",
        "\n",
        "### Classic Reasoning\n",
        "* Directional Senses\n",
        "* Blood Relations\n",
        "* Odd Man Out\n",
        "* syllogism\n",
        "\n",
        "### Arrangements\n",
        "* Arrangements\n",
        "* Seating Arrangements\n",
        "\n",
        "### Cryptarithmetic\n",
        "* Cryptarithmetic\n",
        "\n",
        "### Misc (But Important)\n",
        "* Coding Deductive Logic\n",
        "* Objective Reasoning\n",
        "* Selection Decision Tables\n",
        "* Attention to Details\n",
        "* Inferred Meaning"
      ],
      "metadata": {
        "id": "kX5pNgR9DN9E"
      }
    },
    {
      "cell_type": "markdown",
      "source": [
        "## Most Important Aptitude Topics - Verbal\n",
        "\n",
        "Verbal ability is crucial as it tests the candidate’s command over the English language. As most MNCs have a global client-base, candidate, hence they look for candidates with good communication skills. The important topics of Verbal Ability are:-\n",
        "\n",
        "### Basic Grammar\n",
        "* Basic Grammar  \n",
        "* Speech and Voices\n",
        "* Tenses\n",
        "* Articles\n",
        "* Tenses and Articles\n",
        "* Idioms and Phrases\n",
        "* Subject Verb Agreement\n",
        "* Prepositions and Conjunction\n",
        "* Selecting Words Relative Pronoun  \n",
        "* Sentence Completioncuts\n",
        "\n",
        "<img src=\"https://prepinstadotcom.s3.ap-south-1.amazonaws.com/wp-content/uploads/2024/03/important-verbal-topics.webp\" />\n",
        "\n",
        "### Sentences\n",
        "* Sentence Ordering\n",
        "* Contextual Vocabulary\n",
        "* Jumbled Sentence\n",
        "* Sentence Formation\n",
        "* Error Identification\n",
        "* Sentence Improvement and Construction\n",
        "\n",
        "### Paragraphs\n",
        "* Cloze Test\n",
        "* Fill in the blanks\n",
        "* Paragraph Ordering  \n",
        "* Para Jumbles\n",
        "\n",
        "### Synonyms - Antonyms\n",
        "* Synonyms and Antonyms\n",
        "* Synonyms\n",
        "* Antonyms\n",
        "\n",
        "### Reading Comprehension\n",
        "* Reading Comprehension"
      ],
      "metadata": {
        "id": "ZQ3cHnQbKH6D"
      }
    },
    {
      "cell_type": "markdown",
      "source": [
        "# FAQs on \"Important Aptitude Topics for Placements\"\n",
        "\n",
        "### Question: What are the most important aptitude topics for placements?\n",
        "Answer:-\n",
        "\n",
        "The most important aptitude topics for placements are divided into three categories:-\n",
        "\n",
        "Quantitative Aptitude\n",
        "Logical Reasoning\n",
        "Verbal Ability\n",
        "\n",
        "### Question: Is aptitude necessary for placements?\n",
        "Answer:-\n",
        "\n",
        "Yes, aptitude is necessary for placements as it is the first round for most companies."
      ],
      "metadata": {
        "id": "hBWmFrUBMdKh"
      }
    },
    {
      "cell_type": "code",
      "execution_count": null,
      "metadata": {
        "id": "v3uXAvlC9wgV"
      },
      "outputs": [],
      "source": []
    }
  ]
}