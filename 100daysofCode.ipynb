{
  "nbformat": 4,
  "nbformat_minor": 0,
  "metadata": {
    "colab": {
      "provenance": [],
      "authorship_tag": "ABX9TyPibwUk+rm20ezHwg3gg5SU",
      "include_colab_link": true
    },
    "kernelspec": {
      "name": "python3",
      "display_name": "Python 3"
    },
    "language_info": {
      "name": "python"
    }
  },
  "cells": [
    {
      "cell_type": "markdown",
      "metadata": {
        "id": "view-in-github",
        "colab_type": "text"
      },
      "source": [
        "<a href=\"https://colab.research.google.com/github/Nayan-Bebale/aptitudeChallenge/blob/main/100daysofCode.ipynb\" target=\"_parent\"><img src=\"https://colab.research.google.com/assets/colab-badge.svg\" alt=\"Open In Colab\"/></a>"
      ]
    },
    {
      "cell_type": "markdown",
      "source": [
        "# 100 days of challenge\n",
        "\n",
        "## day 1"
      ],
      "metadata": {
        "id": "Mnsf_5YnfiMB"
      }
    },
    {
      "cell_type": "code",
      "execution_count": null,
      "metadata": {
        "colab": {
          "base_uri": "https://localhost:8080/"
        },
        "id": "mUSUBxJyffjZ",
        "outputId": "d648f12e-7ca8-4a9d-ee3b-5bf33749aaac"
      },
      "outputs": [
        {
          "output_type": "stream",
          "name": "stdout",
          "text": [
            "d\n"
          ]
        }
      ],
      "source": [
        "strings = ['d', 'b', 'c', 'b', 'c', 'a']\n",
        "k = 2\n",
        "unique = set(strings)\n",
        "list_unique = list(unique)\n",
        "\n",
        "if len(list_unique) >= k:\n",
        "  print(list_unique[k-1])\n",
        "else:\n",
        "  print(\" \")\n"
      ]
    },
    {
      "cell_type": "code",
      "source": [
        "strings = ['d', 'b', 'c', 'b', 'c', 'a']\n",
        "k = 2\n",
        "strings.sort()\n",
        "hashmap = list()\n",
        "for i in range(0, len(strings)):\n",
        "  if i not in hashmap:\n",
        "    hashmap.append(strings[i])\n",
        "\n",
        "if len(hashmap) >= k:\n",
        "  print(hashmap[k-1])\n",
        "else:\n",
        "  print(\"\")"
      ],
      "metadata": {
        "colab": {
          "base_uri": "https://localhost:8080/"
        },
        "id": "zKPctXNbggK7",
        "outputId": "f36d0ba8-8e82-4238-d14f-3317b04289da"
      },
      "execution_count": null,
      "outputs": [
        {
          "output_type": "stream",
          "name": "stdout",
          "text": [
            "b\n"
          ]
        }
      ]
    },
    {
      "cell_type": "code",
      "source": [
        "string_count = {}\n",
        "for s in strings:\n",
        "    if s in string_count:\n",
        "        string_count[s] += 1\n",
        "    else:\n",
        "        string_count[s] = 1\n",
        "\n",
        "# List to collect unique strings in order of first appearance\n",
        "unique_strings = [s for s in strings if string_count[s] == 1]\n",
        "\n",
        "# Return the k-th unique string if it exists, else return an empty string\n",
        "if len(unique_strings) >= k:\n",
        "    print(unique_strings[k-1])\n",
        "else:\n",
        "    print(\"\")"
      ],
      "metadata": {
        "colab": {
          "base_uri": "https://localhost:8080/"
        },
        "id": "h_a9jvkbikYZ",
        "outputId": "a403a033-8f1e-4a78-e18c-2352eeed90e8"
      },
      "execution_count": null,
      "outputs": [
        {
          "output_type": "stream",
          "name": "stdout",
          "text": [
            "d\n"
          ]
        }
      ]
    },
    {
      "cell_type": "code",
      "source": [
        "n= 5\n",
        "k = 2\n",
        "strings = 'abdfa'\n",
        "new = strings[::-1]\n",
        "print(new)\n",
        "print(new[k-1])"
      ],
      "metadata": {
        "colab": {
          "base_uri": "https://localhost:8080/"
        },
        "id": "rT8nEVr2nyn0",
        "outputId": "28eb754f-1cbf-4145-b627-415994a8a07c"
      },
      "execution_count": null,
      "outputs": [
        {
          "output_type": "stream",
          "name": "stdout",
          "text": [
            "afdba\n",
            "f\n"
          ]
        }
      ]
    },
    {
      "cell_type": "code",
      "source": [
        "pairs = [1, 1, 2, 12, 4, 9]\n",
        "dict_pair = {}\n",
        "for i in range(0, len(pairs)-1, 2):\n",
        "  dict_pair[pairs[i]] = pairs[i+1]\n",
        "\n",
        "for l, r in dict_pair.items():\n",
        "  if r >= 2*l:\n",
        "    b = round((r+1)/2)\n",
        "    result = r-b\n",
        "    print(result)\n",
        "  else:\n",
        "    result = r - 1\n",
        "    print(result)"
      ],
      "metadata": {
        "colab": {
          "base_uri": "https://localhost:8080/"
        },
        "id": "XeI0jES9wmAO",
        "outputId": "aea2d911-eecf-42f7-b0a0-9bb3eb3d4d5e"
      },
      "execution_count": null,
      "outputs": [
        {
          "output_type": "stream",
          "name": "stdout",
          "text": [
            "0\n",
            "6\n",
            "4\n"
          ]
        }
      ]
    },
    {
      "cell_type": "code",
      "source": [
        "s = ['1', '2', '1', '3', '2', '5', '4', '4']\n",
        "dict_count = {}\n",
        "for i in range(0, len(s)-1, 2):\n",
        "  dict_count[s[i+1]] = s[i]\n",
        "values = [value for key, value in dict_count.items()]\n",
        "min_gain = min(values)\n",
        "max_gain = max(values)\n",
        "\n",
        "# one-liner\n",
        "max_key = int(list(dict_count.keys())[list(dict_count.values()).index(max_gain)])\n",
        "min_key= int(list(dict_count.keys())[list(dict_count.values()).index(min_gain)])\n",
        "\n",
        "print(max_key-min_key)"
      ],
      "metadata": {
        "colab": {
          "base_uri": "https://localhost:8080/"
        },
        "id": "VJUse8nftIQp",
        "outputId": "d33aeba3-bc5c-4f59-c407-69421cccbec3"
      },
      "execution_count": null,
      "outputs": [
        {
          "output_type": "stream",
          "name": "stdout",
          "text": [
            "2\n"
          ]
        }
      ]
    },
    {
      "cell_type": "code",
      "source": [
        "# creating a new dictionary\n",
        "my_dict ={\"Java\":100, \"Python\":112, \"C\":11}\n",
        "\n",
        "# one-liner\n",
        "max_key = int(list(dict_count.keys())[list(dict_count.values()).index(max_gain)])\n",
        "min_key= int(list(dict_count.keys())[list(dict_count.values()).index(min_gain)])\n",
        "print(max_key, min_key)\n",
        "print(max_key-min_key)"
      ],
      "metadata": {
        "colab": {
          "base_uri": "https://localhost:8080/"
        },
        "id": "_HYORX5v3ilr",
        "outputId": "4b0c6906-298f-46ad-f7b6-b4ce97022938"
      },
      "execution_count": null,
      "outputs": [
        {
          "output_type": "stream",
          "name": "stdout",
          "text": [
            "4 2\n",
            "2\n"
          ]
        }
      ]
    },
    {
      "cell_type": "code",
      "source": [
        "strings = ['d', 'b', 'c', 'b', 'c', 'a']\n",
        "k = 2\n",
        "\n",
        "distinct= {}\n",
        "unique = []\n",
        "for i in strings:\n",
        "  if i in distinct:\n",
        "    distinct[i] += 1\n",
        "  else:\n",
        "    distinct[i] = 1\n",
        "\n",
        "unique = [key for key, value in distinct.items() if value == 1]\n",
        "\n",
        "if len(unique) >= k:\n",
        "  print(unique[k-1])\n",
        "else:\n",
        "  print(\"\")\n"
      ],
      "metadata": {
        "id": "Ml-HooF2hcQT",
        "colab": {
          "base_uri": "https://localhost:8080/"
        },
        "outputId": "800a0a61-6d3d-4a66-dff0-34a4a3b4ffd3"
      },
      "execution_count": null,
      "outputs": [
        {
          "output_type": "stream",
          "name": "stdout",
          "text": [
            "a\n"
          ]
        }
      ]
    },
    {
      "cell_type": "markdown",
      "source": [
        "## Day 2"
      ],
      "metadata": {
        "id": "aJOKrqvalNCl"
      }
    },
    {
      "cell_type": "markdown",
      "source": [
        "Problem Statement\n",
        "\n",
        "In a lively car showroom, an array of cars awaits, each with its distinctive features. Picture yourself mixing and matching these cars in unique combinations to create dream blends which has a fscore equal to the XOR value of the combination.\n",
        "\n",
        "Your mission: compute the blend score, which is the XOR of the fscore values for all these dreamy combinations.\n",
        "\n",
        "Now, it's time to reveal the grand total!\n",
        "\n",
        "Input Format\n",
        "The first line of input consists of the integer n – representing the number of cars in the showroom.\n",
        "\n",
        "The second line consists of n integers - representing the features of the car.\n",
        "\n",
        "Output Format\n",
        "Print the sum of fscore obtained.\n",
        "```\n",
        "Constraints\n",
        "1 <= n<= 10000\n",
        "\n",
        "0 <= fi <= 10000.\n",
        "\n",
        "Sample Testcase 0\n",
        "Testcase Input\n",
        "5\n",
        "4 3 5 1 2\n",
        "Testcase Output\n",
        "3\n",
        "Explanation\n",
        "The xor of all the combinations possible is:\n",
        "```\n",
        "`\n",
        "4 ^ (4^3) ^ (4^3^5) ^ (4^3^5^1) ^ (4^3^5^1^2) ^ (3) ^ (3^5) ^ (3^5^1) ^ (3^5^1^2) ^ (5) ^ (5^1) ^ (5^1^2) ^ (1) ^ (1^2) ^ 2 = 3\n",
        "`\n",
        "```\n",
        "Sample Testcase 1\n",
        "Testcase Input\n",
        "4\n",
        "1 4 5 2\n",
        "Testcase Output\n",
        "0\n",
        "```"
      ],
      "metadata": {
        "id": "xRsnODo4_0UH"
      }
    },
    {
      "cell_type": "code",
      "source": [
        "import math\n",
        "def justCheck(arr, val):\n",
        "  if val in [0, 1]:\n",
        "    return 0\n",
        "  else:\n",
        "    print(arr)\n",
        "    print(val)\n",
        "    return math.pow(arr[val-1], justCheck(arr, val-1))\n",
        "arr = [4, 3, 5, 1, 2]\n",
        "justCheck(arr, len(arr))"
      ],
      "metadata": {
        "colab": {
          "base_uri": "https://localhost:8080/"
        },
        "id": "Ld_H43Cx88pJ",
        "outputId": "06615c70-1317-4f30-f54d-f9fb4c67f22b"
      },
      "execution_count": null,
      "outputs": [
        {
          "output_type": "stream",
          "name": "stdout",
          "text": [
            "[4, 3, 5, 1, 2]\n",
            "5\n",
            "[4, 3, 5, 1, 2]\n",
            "4\n",
            "[4, 3, 5, 1, 2]\n",
            "3\n",
            "[4, 3, 5, 1, 2]\n",
            "2\n"
          ]
        },
        {
          "output_type": "execute_result",
          "data": {
            "text/plain": [
              "2.0"
            ]
          },
          "metadata": {},
          "execution_count": 59
        }
      ]
    },
    {
      "cell_type": "code",
      "source": [
        "from itertools import combinations\n",
        "def blend_score(n, features):\n",
        "    result = 0\n",
        "    for r in range(1, n+1):\n",
        "        for combo in combinations(features, r):\n",
        "            combo_xor = 0\n",
        "            for num in combo:\n",
        "                combo_xor ^= num\n",
        "                result = math.pow(combo_xor, num)\n",
        "\n",
        "    return result\n",
        "\n",
        "blend_score(5, [4, 3, 5, 1, 2])"
      ],
      "metadata": {
        "colab": {
          "base_uri": "https://localhost:8080/"
        },
        "id": "2jxoqfWYCgZo",
        "outputId": "2ec790e4-b8e9-4259-c55f-5120b8402eed"
      },
      "execution_count": null,
      "outputs": [
        {
          "output_type": "execute_result",
          "data": {
            "text/plain": [
              "1.0"
            ]
          },
          "metadata": {},
          "execution_count": 60
        }
      ]
    },
    {
      "cell_type": "code",
      "source": [
        "def blend_score(n, features):\n",
        "    # Initialize the result\n",
        "    result = 0\n",
        "\n",
        "    # The count of combinations each element appears in is 2^(n-1)\n",
        "    count = 2 ** (n - 1)\n",
        "\n",
        "    # If count is odd, the element will contribute to the final XOR\n",
        "    if count % 2 == 1:\n",
        "        for feature in features:\n",
        "            result ^= feature\n",
        "\n",
        "    return result\n",
        "\n",
        "blend_score(5, [4, 3, 5, 1, 2])"
      ],
      "metadata": {
        "colab": {
          "base_uri": "https://localhost:8080/"
        },
        "id": "WaVbF5tLJUq-",
        "outputId": "e44818e4-7dae-454a-8127-3d5fa235ab48"
      },
      "execution_count": null,
      "outputs": [
        {
          "output_type": "execute_result",
          "data": {
            "text/plain": [
              "0"
            ]
          },
          "metadata": {},
          "execution_count": 61
        }
      ]
    },
    {
      "cell_type": "code",
      "source": [
        "def blend_score(features):\n",
        "\n",
        "    result = features[0]\n",
        "    for feature in features[1:]:\n",
        "      result ^= feature  # XOR operation\n",
        "    return result\n",
        "\n",
        "\n",
        "blend_score([4, 3, 5, 1, 2])"
      ],
      "metadata": {
        "colab": {
          "base_uri": "https://localhost:8080/"
        },
        "id": "_n68Ff_zD9BI",
        "outputId": "cb61a351-9168-44a3-e34a-d18e7b9c2806"
      },
      "execution_count": null,
      "outputs": [
        {
          "output_type": "execute_result",
          "data": {
            "text/plain": [
              "1"
            ]
          },
          "metadata": {},
          "execution_count": 62
        }
      ]
    },
    {
      "cell_type": "code",
      "source": [
        "import sys\n",
        "input = sys.stdin.read\n",
        "\n",
        "def max_min_diff(arr):\n",
        "  max_freq = float('-inf')\n",
        "  min_freq = float('inf')\n",
        "\n",
        "  for i in range(len(arr)):\n",
        "    count = 0\n",
        "    for j in range(len(arr)):\n",
        "      if arr[i] == arr[j]:\n",
        "        count += 1\n",
        "\n",
        "    max_freq = max(max_freq, count)\n",
        "    min_freq = min(min_freq, count)\n",
        "  return max_freq - min_freq\n",
        "\n",
        "# Read input\n",
        "data = input().strip().split()\n",
        "q = int(data[0])  # number of queries\n",
        "s = data[1:]  # remaining are the queries\n",
        "\n",
        "min_max = max_min_diff(s)\n",
        "print(min_max)"
      ],
      "metadata": {
        "id": "rZJv2DIPHB3d",
        "colab": {
          "base_uri": "https://localhost:8080/"
        },
        "outputId": "c6633009-92e1-43b9-bc18-db7d48cf8e97"
      },
      "execution_count": null,
      "outputs": [
        {
          "output_type": "error",
          "ename": "IndexError",
          "evalue": "list index out of range",
          "traceback": [
            "\u001b[0;31m---------------------------------------------------------------------------\u001b[0m",
            "\u001b[0;31mIndexError\u001b[0m                                Traceback (most recent call last)",
            "\u001b[0;32m<ipython-input-64-9cd56e892751>\u001b[0m in \u001b[0;36m<cell line: 20>\u001b[0;34m()\u001b[0m\n\u001b[1;32m     18\u001b[0m \u001b[0;31m# Read input\u001b[0m\u001b[0;34m\u001b[0m\u001b[0;34m\u001b[0m\u001b[0m\n\u001b[1;32m     19\u001b[0m \u001b[0mdata\u001b[0m \u001b[0;34m=\u001b[0m \u001b[0minput\u001b[0m\u001b[0;34m(\u001b[0m\u001b[0;34m)\u001b[0m\u001b[0;34m.\u001b[0m\u001b[0mstrip\u001b[0m\u001b[0;34m(\u001b[0m\u001b[0;34m)\u001b[0m\u001b[0;34m.\u001b[0m\u001b[0msplit\u001b[0m\u001b[0;34m(\u001b[0m\u001b[0;34m)\u001b[0m\u001b[0;34m\u001b[0m\u001b[0;34m\u001b[0m\u001b[0m\n\u001b[0;32m---> 20\u001b[0;31m \u001b[0mq\u001b[0m \u001b[0;34m=\u001b[0m \u001b[0mint\u001b[0m\u001b[0;34m(\u001b[0m\u001b[0mdata\u001b[0m\u001b[0;34m[\u001b[0m\u001b[0;36m0\u001b[0m\u001b[0;34m]\u001b[0m\u001b[0;34m)\u001b[0m  \u001b[0;31m# number of queries\u001b[0m\u001b[0;34m\u001b[0m\u001b[0;34m\u001b[0m\u001b[0m\n\u001b[0m\u001b[1;32m     21\u001b[0m \u001b[0ms\u001b[0m \u001b[0;34m=\u001b[0m \u001b[0mdata\u001b[0m\u001b[0;34m[\u001b[0m\u001b[0;36m1\u001b[0m\u001b[0;34m:\u001b[0m\u001b[0;34m]\u001b[0m  \u001b[0;31m# remaining are the queries\u001b[0m\u001b[0;34m\u001b[0m\u001b[0;34m\u001b[0m\u001b[0m\n\u001b[1;32m     22\u001b[0m \u001b[0;34m\u001b[0m\u001b[0m\n",
            "\u001b[0;31mIndexError\u001b[0m: list index out of range"
          ]
        }
      ]
    },
    {
      "cell_type": "code",
      "source": [
        "s = ['1', '2', '1', '3', '2', '5', '4', '4']\n",
        "\n",
        "index = 1\n",
        "results = []\n",
        "check = int(s[1])\n",
        "for i in range(1, len(s)-1, 2):\n",
        "  val = int(s[i])\n",
        "  print(val)\n",
        "  min_val = min(check, val)\n",
        "  max_val = max(check, val)\n",
        "  check = val\n",
        "\n",
        "\n",
        "print(max_val, min_val)"
      ],
      "metadata": {
        "id": "koW8ywMe_T99"
      },
      "execution_count": null,
      "outputs": []
    },
    {
      "cell_type": "code",
      "source": [
        "def compute_blend_score(n, features):\n",
        "    total_xor = 0\n",
        "    if n % 2 == 0:\n",
        "        return 0\n",
        "    else:\n",
        "        for feature in features:\n",
        "            total_xor ^= feature\n",
        "    return total_xor\n",
        "\n",
        "# Sample Input\n",
        "n = 5\n",
        "features = [4, 3, 5, 1, 2]\n",
        "\n",
        "# Calculate and Print Output\n",
        "print(compute_blend_score(n, features))  # Output should be 3\n",
        "\n",
        "# Another Sample Input\n",
        "n = 4\n",
        "features = [1, 4, 5, 2]\n",
        "\n",
        "# Calculate and Print Output\n",
        "print(compute_blend_score(n, features))  # Output should be 0\n"
      ],
      "metadata": {
        "id": "GXKiyduqCQim"
      },
      "execution_count": null,
      "outputs": []
    },
    {
      "cell_type": "code",
      "source": [
        "# Python3 implementation\n",
        "\n",
        "# Function to return the\n",
        "# maximum xor\n",
        "def max_xor(arr, n):\n",
        "\n",
        "\tmaxXor = 0;\n",
        "\n",
        "\t# Calculating xor of each pair\n",
        "\tfor i in range(n):\n",
        "\t\tfor j in range(i + 1, n):\n",
        "\t\t\tmaxXor = max(maxXor,\\\n",
        "\t\t\t\t\t\tarr[i] ^ arr[j]);\n",
        "\n",
        "\treturn maxXor;\n",
        "\n",
        "# Driver Code\n",
        "if __name__ == '__main__':\n",
        "\n",
        "\tarr = [4, 3, 5, 1, 2];\n",
        "\tn = len(arr);\n",
        "\n",
        "\tprint(max_xor(arr, n));\n",
        "\n",
        "# This code is contributed by 29AjayKumar\n"
      ],
      "metadata": {
        "id": "Q2DbnafHTX6t"
      },
      "execution_count": null,
      "outputs": []
    },
    {
      "cell_type": "code",
      "source": [
        "# Python program to find minimum\n",
        "# XOR value in an array.\n",
        "\n",
        "# Function to find minimum XOR pair\n",
        "def minXOR(arr, n):\n",
        "\n",
        "\t# Sort given array\n",
        "\tarr.sort();\n",
        "\n",
        "\tmin_xor = 999999\n",
        "\tval = 0\n",
        "\n",
        "\t# calculate min xor of\n",
        "\t# consecutive pairs\n",
        "\tfor i in range (0, n-1):\n",
        "\t\tfor j in range (i+1, n-1):\n",
        "\n",
        "\t\t\t# update minimum xor value\n",
        "\t\t\t# if required\n",
        "\t\t\tval = arr[i] ^ arr[j]\n",
        "\t\t\tmin_xor = min(min_xor, val)\n",
        "\treturn min_xor\n",
        "\n",
        "# Driver program\n",
        "arr = [4, 3, 5, 1, 2]\n",
        "n = len(arr)\n",
        "\n",
        "print(minXOR(arr, n))\n",
        "\n",
        "# This code is contributed by Sam007.\n"
      ],
      "metadata": {
        "id": "dvy3BtywUtfR"
      },
      "execution_count": null,
      "outputs": []
    },
    {
      "cell_type": "code",
      "source": [
        "def compute_blend_score(n, features):\n",
        "    total_xor = 0\n",
        "    if n % 2 == 0:\n",
        "        return 0\n",
        "    else:\n",
        "        for feature in features:\n",
        "            total_xor ^= feature\n",
        "    return total_xor\n",
        "\n",
        "# Sample Input\n",
        "n = 5\n",
        "features = [4, 3, 5, 1, 2]\n",
        "\n",
        "# Calculate and Print Output\n",
        "print(compute_blend_score(n, features))  # Output should be 3\n",
        "\n",
        "# Another Sample Input\n",
        "n = 4\n",
        "features = [1, 4, 5, 2]\n",
        "\n",
        "# Calculate and Print Output\n",
        "print(compute_blend_score(n, features))  # Output should be 0\n"
      ],
      "metadata": {
        "id": "yZANrvCRVBs7"
      },
      "execution_count": null,
      "outputs": []
    },
    {
      "cell_type": "code",
      "source": [
        "def compute_blend_score(n, features):\n",
        "    # If n is even, the result is always 0\n",
        "    if n % 2 == 0:\n",
        "        return 0\n",
        "\n",
        "    # If n is odd, compute the XOR of all elements\n",
        "    total_xor = 0\n",
        "    for feature in features:\n",
        "        total_xor ^= feature\n",
        "\n",
        "    return total_xor\n",
        "\n",
        "# Sample Input 0\n",
        "n = 5\n",
        "features = [4, 3, 5, 1, 2]\n",
        "print(compute_blend_score(n, features))  # Output: 3\n",
        "\n",
        "# Sample Input 1\n",
        "n = 4\n",
        "features = [1, 4, 5, 2]\n",
        "print(compute_blend_score(n, features))  # Output: 0\n"
      ],
      "metadata": {
        "id": "fVuEPJ3IW2nO"
      },
      "execution_count": null,
      "outputs": []
    },
    {
      "cell_type": "markdown",
      "source": [
        "## Day 3"
      ],
      "metadata": {
        "id": "A41vWLoOnNWZ"
      }
    },
    {
      "cell_type": "code",
      "source": [
        "moves = 'UUDDLR'\n",
        "x = 0\n",
        "y = 0\n",
        "for i in moves:\n",
        "  if 'R' == i:\n",
        "    x += 1\n",
        "  elif 'L' == i:\n",
        "    x -= 1\n",
        "  elif 'U' == i:\n",
        "    y += 1\n",
        "  elif 'D' == i:\n",
        "    y -= 1\n",
        "\n",
        "if x == y:\n",
        "  print('yes')\n",
        "else:\n",
        "  print('No')"
      ],
      "metadata": {
        "id": "hGUjqESqW_Ij"
      },
      "execution_count": null,
      "outputs": []
    },
    {
      "cell_type": "code",
      "source": [
        "str = '2123'\n",
        "str[::-1]"
      ],
      "metadata": {
        "id": "-Y21moy6nT8X"
      },
      "execution_count": null,
      "outputs": []
    },
    {
      "cell_type": "code",
      "source": [
        "def dictionay(s, dictionary):\n",
        "  temp = ''\n",
        "  check = []\n",
        "  for i in s:\n",
        "    temp += i\n",
        "    if temp in dictionary:\n",
        "      check.append(temp)\n",
        "      temp = ''\n",
        "\n",
        "  value = False\n",
        "  for j in dictionary:\n",
        "    if j in check:\n",
        "      value = True\n",
        "    else:\n",
        "      value = False\n",
        "      break\n",
        "\n",
        "  if value:\n",
        "    print('true')\n",
        "  else:\n",
        "    print('false')\n",
        "\n",
        "s = 'applepenapple'\n",
        "dictionary = ['apple', 'pen']\n",
        "dictionay(s, dictionary)"
      ],
      "metadata": {
        "id": "uthy0pxdnX1g"
      },
      "execution_count": null,
      "outputs": []
    },
    {
      "cell_type": "code",
      "source": [
        "def can_segment_string(s, dictionary):\n",
        "  for i in range(1, len(s) + 1):\n",
        "    first = s[0:i]\n",
        "    if first in dictionary:\n",
        "      second = s[i:]\n",
        "      if not second or second in dictionary or can_segment_string(second, dictionary):\n",
        "        return True\n",
        "  return False\n",
        "\n",
        "s = \"hellonow\";\n",
        "dictionary= set([\"hello\",\"hell\",\"on\",\"now\"])\n",
        "can_segment_string(s, dictionary)\n"
      ],
      "metadata": {
        "id": "aIdmmmTona90"
      },
      "execution_count": null,
      "outputs": []
    },
    {
      "cell_type": "code",
      "source": [
        "def can_segment(s, dictionary):\n",
        "    n = len(s)\n",
        "    dp = [False] * (n + 1)\n",
        "    dp[0] = True  # Base case: an empty string can be segmented\n",
        "\n",
        "    for i in range(1, n + 1):\n",
        "        for word in dictionary:\n",
        "            if dp[i - len(word)] and s[i - len(word):i] == word:\n",
        "                dp[i] = True\n",
        "                break\n",
        "\n",
        "    return 'true' if dp[n] else 'false'\n",
        "\n",
        "s = 'tttt'\n",
        "dictionary = ['ttt','tt','t']\n",
        "can_segment(s, dictionary)"
      ],
      "metadata": {
        "id": "FGNUgKDZnmN2"
      },
      "execution_count": null,
      "outputs": []
    },
    {
      "cell_type": "markdown",
      "source": [
        "### Dynamic Programming or DP\n",
        "\n",
        "**Dynamic Programming** is a method used in mathematics and computer science to solve complex problems by breaking them down into simpler subproblems. By solving each subproblem only once and storing the results, it avoids redundant computations, leading to more efficient solutions for a wide range of problems.\n",
        "\n",
        "<img src=\"https://media.geeksforgeeks.org/wp-content/uploads/20240319104901/dynamic-programming.webp\" height=200px/>\n",
        "\n",
        "<a href=\"https://www.geeksforgeeks.org/dynamic-programming/\">GfG DP</a>"
      ],
      "metadata": {
        "id": "X2ImxpyRnvPj"
      }
    },
    {
      "cell_type": "markdown",
      "source": [
        "**How Does Dynamic Programming (DP) Work?**\n",
        "\n",
        "* **Identify Subproblems**: Divide the main problem into smaller, independent subproblems.\n",
        "* **Store Solutions**: Solve each subproblem and store the solution in a table or array.\n",
        "* **Build Up Solutions**: Use the stored solutions to build up the solution to the main problem.\n",
        "* **Avoid Redundancy**: By storing solutions, DP ensures that each subproblem is solved only once, reducing computation time.\n",
        "\n",
        "\n",
        "\n",
        "**Examples of Dynamic Programming (DP)**\n",
        "\n",
        "Example 1: Consider the problem of finding the Fibonacci sequence:\n",
        "\n",
        "Fibonacci sequence: 0, 1, 1, 2, 3, 5, 8, 13, 21, 34, …\n",
        "\n",
        "**Brute Force Approach:**\n",
        "\n",
        "To find the nth Fibonacci number using a brute force approach, you would simply add the (n-1)th and (n-2)th Fibonacci numbers. This would work, but it would be inefficient for large values of n, as it would require calculating all the previous Fibonacci numbers.\n",
        "\n",
        "Dynamic Programming Approach:\n",
        "\n",
        "\n",
        "Fibonacci Series using Dynamic Programming\n",
        "\n",
        "\n",
        "* **Subproblems**: F(0), F(1), F(2), F(3), …\n",
        "* **Store Solutions**: Create a table to store the values of F(n) as they are calculated.\n",
        "* **Build Up Solutions**: For F(n), look up F(n-1) and F(n-2) in the table and add them.\n",
        "* **Avoid Redundancy**: The table ensures that each subproblem (e.g., F(2)) is solved only once.\n",
        "By using DP, we can efficiently calculate the Fibonacci sequence without having to recompute subproblems.\n",
        "\n",
        "Example 2: Longest common subsequence (finding the longest subsequence that is common to two strings)\n",
        "\n",
        "Example 3: Shortest path in a graph (finding the shortest path between two nodes in a graph)\n",
        "\n",
        "Example 4: Knapsack problem (finding the maximum value of items that can be placed in a knapsack with a given capacity)\n",
        "\n",
        "\n",
        "\n",
        "**Approaches of Dynamic Programming (DP)\n",
        "Dynamic programming can be achieved using two approaches:**\n",
        "\n",
        "1. **Top-Down Approach (Memoization):**\n",
        "In the top-down approach, also known as memoization, we start with the final solution and recursively break it down into smaller subproblems. To avoid redundant calculations, we store the results of solved subproblems in a memoization table.\n",
        "\n",
        "Let’s breakdown Top down approach:\n",
        "\n",
        "* Starts with the final solution and recursively breaks it down into smaller subproblems.\n",
        "* Stores the solutions to subproblems in a table to avoid redundant calculations.\n",
        "* Suitable when the number of subproblems is large and many of them are reused.\n",
        "\n",
        "2. **Bottom-Up Approach (Tabulation):**\n",
        "In the bottom-up approach, also known as tabulation, we start with the smallest subproblems and gradually build up to the final solution. We store the results of solved subproblems in a table to avoid redundant calculations.\n",
        "\n",
        "Let’s breakdown Bottom-up approach:\n",
        "\n",
        "* Starts with the smallest subproblems and gradually builds up to the final solution.\n",
        "* Fills a table with solutions to subproblems in a bottom-up manner.\n",
        "* Suitable when the number of subproblems is small and the optimal solution can be directly computed from the solutions to smaller subproblems.\n",
        "\n",
        "**Dynamic Programming (DP) Algorithm**\n",
        "\n",
        "Dynamic programming is a algorithmic technique that solves complex problems by breaking them down into smaller subproblems and storing their solutions for future use. It is particularly effective for problems that contains overlapping subproblems and optimal substructure.\n",
        "\n",
        "**Common Algorithms that Use Dynamic Programming:**\n",
        "* **Longest Common Subsequence (LCS)**: Finds the longest common subsequence between two strings.\n",
        "* **Shortest Path in a Graph**: Finds the shortest path between two nodes in a graph.\n",
        "* **Knapsack Problem**: Determines the maximum value of items that can be placed in a knapsack with a given capacity.\n",
        "* **Matrix Chain Multiplication**: Optimizes the order of matrix multiplication to minimize the number of operations.\n",
        "* **Fibonacci Sequence**: Calculates the nth Fibonacci number.\n",
        "\n",
        "**Advantages of Dynamic Programming (DP)**\n",
        "Dynamic programming has a wide range of advantages, including:\n",
        "\n",
        "* Avoids recomputing the same subproblems multiple times, leading to significant time savings.\n",
        "* Ensures that the optimal solution is found by considering all possible combinations.\n",
        "* Breaks down complex problems into smaller, more manageable subproblems.\n",
        "* Applications of Dynamic Programming (DP)\n",
        "\n",
        "**Dynamic programming has a wide range of applications, including:**\n",
        "\n",
        "* **Optimization**: Knapsack problem, shortest path problem, maximum subarray problem\n",
        "* **Computer Science**: Longest common subsequence, edit distance, string matching\n",
        "* **Operations Research**: Inventory management, scheduling, resource allocation"
      ],
      "metadata": {
        "id": "5Jz1zOBjpIGE"
      }
    },
    {
      "cell_type": "markdown",
      "source": [
        "**Problem Statement**\n",
        "\n",
        "James has two binary strings, ‘a’ and ‘b’. He asked Jimmy to find the sum of the number of positions at which the corresponding bits are different between a and all contiguous substrings of b of length of a.\n",
        "\n",
        "Help Jimmy to find the total sum.\n",
        "```\n",
        "Input Format\n",
        "The first line of input consists of string a.\n",
        "The second line of input consists of string b.\n",
        "Output Format\n",
        "Print a single line of output consisting of the total sum.\n",
        "\n",
        "Constraints\n",
        "1<= a.length , b.length<= 2 * 105\n",
        "\n",
        "Sample Testcase 0\n",
        "Testcase Input\n",
        "01\n",
        "00111\n",
        "Testcase Output\n",
        "3\n",
        "Explanation\n",
        "For the first sample case, there are four contiguous\n",
        "substrings of b of length |a|: \"00\", \"01\", \"11\", and\n",
        "\"11\". The distance between \"01\" and \"00\" is |0 - 0| + |1 - 0| = 1.\n",
        "The distance between \"01\" and\n",
        "\"01\" is |0 - 0| + |1 - 1| = 0. The distance between \"01\" and\n",
        "\"11\" is |0 - 1| + |1 - 1| = 1.\n",
        " Last distance counts\n",
        "twice, as there are two occurrences of string \"11\".\n",
        "The sum of these edit distances is 1 + 0 + 1 + 1 = 3.\n",
        " ```\n",
        " ```\n",
        "Sample Testcase 1\n",
        "Testcase Input\n",
        "0011\n",
        "0110\n",
        "Testcase Output\n",
        "2\n",
        "Explanation\n",
        "The total distance between string \"0011\" and string \"0110\"\n",
        "is |0 - 0| + |0 - 1| + |1 - 1| + |1 - 0| = 0 + 1 + 0 + 1 = 2.\n",
        "```\n"
      ],
      "metadata": {
        "id": "qZOr86CwQ5ew"
      }
    },
    {
      "cell_type": "code",
      "source": [
        "a = '0011'\n",
        "b = '0110'\n",
        "m = len(a)\n",
        "n = len(b)\n",
        "total_sum = 0\n",
        "\n",
        "for i in range(n-m+1):\n",
        "  sub_b = b[i:i+m]\n",
        "  hamming_distance = 0\n",
        "  for j in range(m):\n",
        "    if a[j] != sub_b[j]:\n",
        "      hamming_distance += 1\n",
        "  total_sum += hamming_distance\n",
        "\n",
        "print(total_sum)"
      ],
      "metadata": {
        "id": "keOrptsxnqHK"
      },
      "execution_count": null,
      "outputs": []
    },
    {
      "cell_type": "code",
      "source": [
        "a = '0011'\n",
        "b = '0110'\n",
        "m = len(a)\n",
        "n = len(b)\n",
        "total_sum = 0\n",
        "\n",
        "for i in range(n - m + 1):\n",
        "  sub_b = b[i:i + m]\n",
        "  hamming_distance = 0\n",
        "  for j in range(m):\n",
        "    if a[j] != sub_b[j]:\n",
        "      hamming_distance += 1\n",
        "  total_sum += hamming_distance\n",
        "\n",
        "print(total_sum)"
      ],
      "metadata": {
        "id": "h43A-GceS2_l"
      },
      "execution_count": null,
      "outputs": []
    },
    {
      "cell_type": "markdown",
      "source": [
        "## Day 4\n",
        "\n",
        "```\n",
        "Let the index of last occurence of ch be idx, reverse the string from idx.\n",
        "\n",
        "Input Format\n",
        "First line contains a string s.\n",
        "\n",
        "Output Format\n",
        "Return the transformed string\n",
        "\n",
        "Constraints\n",
        "1<=|s|<=100000\n",
        "\n",
        "Sample Testcase 0\n",
        "Testcase Input\n",
        "abc c\n",
        "Testcase Output\n",
        "abc\n",
        "Explanation\n",
        "Last occurrence of c is the last character of the string, so reversing it won’t change the string.\n",
        "Sample Testcase 1\n",
        "Testcase Input\n",
        "abxcced c\n",
        "Testcase Output\n",
        "abxcdec\n",
        "Explanation\n",
        "The last index of 'c' occuring is:4. Reersing the string from 4th index: \"ced\" to \"dec\".\n",
        "\n",
        "\n",
        "The final string therefore is: \"abxcdec\".\n",
        "\n",
        "```"
      ],
      "metadata": {
        "id": "rM-6D5HNVNSr"
      }
    },
    {
      "cell_type": "code",
      "source": [
        "s = \"abc\"\n",
        "ch = \"c\"\n",
        "if ch not in s:\n",
        "  print(s)\n",
        "rev = s[::-1]\n",
        "re_idx = rev.index(ch)\n",
        "idx = (len(s) - re_idx)-1\n",
        "if idx == 0:\n",
        "  print(s)\n",
        "else:\n",
        "  first = s[:idx]\n",
        "  second = s[idx:]\n",
        "  reverse = second[::-1]\n",
        "  output = first+reverse\n",
        "  print(output)\n"
      ],
      "metadata": {
        "id": "2X4RipE2YHH7"
      },
      "execution_count": null,
      "outputs": []
    },
    {
      "cell_type": "code",
      "source": [
        "s = \"abxcdec\"\n",
        "ch = \"c\"\n",
        "\n",
        "if ch not in s:\n",
        "  print(s)\n",
        "\n",
        "val = s.index(\"c\")\n",
        "print(val)\n",
        "\n",
        "if len(s) == (val-len(s)):\n",
        "  print(s)\n",
        "else:\n",
        "  new = s[:val+1]\n",
        "\n",
        "  new2 = s[val+1:]\n",
        "  revs = new2[::-1]\n",
        "  output = new+revs\n",
        "  print(output)"
      ],
      "metadata": {
        "id": "AtXQ2Qj2TX3L"
      },
      "execution_count": null,
      "outputs": []
    },
    {
      "cell_type": "markdown",
      "source": [
        "```\n",
        "Problem Statement\n",
        "Imagine you have a row of boxes. Each box can be either an \"a\" or a \"b\".\n",
        "\n",
        "To check if it's an ab pattern, you need to make sure that all the \"a\" boxes, if they exist, come before any \"b\" boxes, if they exist.\n",
        "\n",
        "If this order is maintained, it's an ab pattern; otherwise, it's not. Display \"YES\" if it is maintained else \"NO\".\n",
        "\n",
        "Input Format\n",
        "The first line contains a string s, deonting the row of boxes.\n",
        "\n",
        "Output Format\n",
        "If the boxes are in ab pattern print \"YES\" else \"NO\".\n",
        "\n",
        "Constraints\n",
        "1<= s.length <=106\n",
        "\n",
        "Sample Testcase 0\n",
        "Testcase Input\n",
        "aaaaab\n",
        "Testcase Output\n",
        "YES\n",
        "Explanation\n",
        "In the given sequence of boxes:\n",
        "\n",
        "\n",
        "All the boxes with 'a's are occuring before boxes with 'b's.\n",
        "\n",
        "\n",
        "So we print \"YES\".\n",
        "\n",
        "Sample Testcase 1\n",
        "Testcase Input\n",
        "aaba\n",
        "Testcase Output\n",
        "NO\n",
        "Explanation\n",
        "In the given sequence of boxes:\n",
        "\n",
        "\n",
        "The boxes with 'a' at index 3 is occuring after the box with 'b' so it doesn't follow the ab pattern.\n",
        "\n",
        "\n",
        "So we print \"NO\".\n",
        "```"
      ],
      "metadata": {
        "id": "1WtUERBt1wc2"
      }
    },
    {
      "cell_type": "code",
      "source": [
        "s = 'aaaaab'\n",
        "new = s[-1]\n",
        "\n",
        "if new == 'a':\n",
        "  print('No')"
      ],
      "metadata": {
        "id": "jHDyFfeOQWM3"
      },
      "execution_count": null,
      "outputs": []
    },
    {
      "cell_type": "markdown",
      "source": [
        "```\n",
        "Problem Statement\n",
        "Kritika has a collection of 2*n boxes, with n unique labels. Among them, one box is repeated n times.\n",
        "\n",
        "How can Kritika identify and print the label of the repeated box?\n",
        "\n",
        "Input Format\n",
        "An integer 2*n which represents the number of boxes.\n",
        "\n",
        "2*n space-separated integers representing the labels on the boxes.\n",
        "\n",
        "Output Format\n",
        "An integer value representing the label of the box repeated n times.\n",
        "\n",
        "Constraints\n",
        "2 <= n <= 5000\n",
        "number of boxes = 2*n\n",
        "0 <= label[i] <= 10^4\n",
        "Sample Testcase 0\n",
        "Testcase Input\n",
        "6\n",
        "6 5 1 5 5 7\n",
        "Testcase Output\n",
        "5\n",
        "Explanation\n",
        "The number of boxes is 6. And we can see that the boxes with label 5 gets repeated 3 times and therefore we display 5.\n",
        "\n",
        "Sample Testcase 1\n",
        "Testcase Input\n",
        "4\n",
        "0 1 1 2\n",
        "Testcase Output\n",
        "1\n",
        "Explanation\n",
        "The number of boxes is 4. And we can see that the boxes with label 1 gets repeated 2 times and therefore we display 1.\n",
        "```"
      ],
      "metadata": {
        "id": "tpZowrkR5R5n"
      }
    },
    {
      "cell_type": "code",
      "source": [
        "nums = [6, 5, 1, 5, 5, 7]\n",
        "dict_count = {}\n",
        "\n",
        "for i in nums:\n",
        "  dict_count[i] = dict_count.get(i, 0)+1\n",
        "\n",
        "for key, value in dict_count.items():\n",
        "  if value > 1:\n",
        "    print(key)\n"
      ],
      "metadata": {
        "id": "9tybUN2j2TPc"
      },
      "execution_count": null,
      "outputs": []
    },
    {
      "cell_type": "code",
      "source": [
        "s = \"aaaaa\"\n",
        "sub = ''\n",
        "dict_count = {}\n",
        "for i in s:\n",
        "  sub += i\n",
        "  if sub == sub[::-1]:\n",
        "    dict_count[sub] = len(sub)\n",
        "\n",
        "\n",
        "output = max(dict_count.values())\n",
        "print(output)\n"
      ],
      "metadata": {
        "id": "8z8Udvjq5-ex"
      },
      "execution_count": null,
      "outputs": []
    },
    {
      "cell_type": "markdown",
      "source": [
        "##Day 5"
      ],
      "metadata": {
        "id": "kRASFGo0OoET"
      }
    },
    {
      "cell_type": "code",
      "source": [
        "def logest_palindromic_substring_length(s):\n",
        "  n = len(s)\n",
        "  if n == 0:\n",
        "    return 0\n",
        "  dp = [[False] * n for _ in range(n)]\n",
        "\n",
        "  # print(len(dp))\n",
        "  for i in range(n):\n",
        "    dp[i][i] = True\n",
        "\n",
        "  # print(dp)\n",
        "\n",
        "  start = 0\n",
        "\n",
        "  for i in range(n-1):\n",
        "    if s[i] == s[i+1]:\n",
        "      dp[i][i+1] == True\n",
        "      start = i\n",
        "      max_length = 2\n",
        "\n",
        "  for length in range(3, n+1):\n",
        "    for i in range(n-length + 1):\n",
        "      j = i + length - 1\n",
        "      # print(j)\n",
        "      if s[i] == s[j] and dp[i+1][j-1]:\n",
        "        dp[i][j] = True\n",
        "        start = i\n",
        "        max_length = length\n",
        "\n",
        "    return max_length\n",
        "\n",
        "logest_palindromic_substring_length('abacc')"
      ],
      "metadata": {
        "id": "Io7V5daF3VDp"
      },
      "execution_count": null,
      "outputs": []
    },
    {
      "cell_type": "code",
      "source": [
        "gifts = [ 1, 3, 2, 3]\n",
        "gifts = [tuple(map(gifts[i], gifts[i+1])) for i in range(0, len(gifts)-1, 2)]\n",
        "\n",
        "print(gifts)"
      ],
      "metadata": {
        "id": "MyOKWzAyenQh"
      },
      "execution_count": null,
      "outputs": []
    },
    {
      "cell_type": "code",
      "source": [
        "gifts = [1, 3, 2, 3]\n",
        "gifts = [tuple(pair) for pair in zip(gifts[::2], gifts[1::2])]\n",
        "\n",
        "print(gifts)\n"
      ],
      "metadata": {
        "id": "zWOd5-Lxg_JI"
      },
      "execution_count": null,
      "outputs": []
    },
    {
      "cell_type": "code",
      "source": [
        "gifts = [ 1, 3, 2, 3]\n",
        "gifts = [tuple(pair) for pair in zip(gifts[::2], gifts[1::2])]\n",
        "n = 3\n",
        "m = 2\n",
        "def find_yougest_member(n,m, gifts):\n",
        "  in_degree = [0] * (n+1)\n",
        "  out_degree = [0] * (n+1)\n",
        "\n",
        "  for a, b in gifts:\n",
        "    in_degree[b] += 1\n",
        "    out_degree[a] += 1\n",
        "  print(in_degree, out_degree)\n",
        "\n",
        "\n",
        "  for i in range(1, n+1):\n",
        "    if in_degree[i] == n - 1 and out_degree[i] == 0:\n",
        "      return i\n",
        "  return -1\n",
        "\n",
        "find_yougest_member(n, m, gifts)"
      ],
      "metadata": {
        "id": "K23SX8HqPxM7"
      },
      "execution_count": null,
      "outputs": []
    },
    {
      "cell_type": "markdown",
      "source": [
        "## Day 6"
      ],
      "metadata": {
        "id": "nVvZZl9Kwhxq"
      }
    },
    {
      "cell_type": "code",
      "source": [
        "def count_sock_sets(socks):\n",
        "\n",
        "  color_counts = {}\n",
        "  for sock_color in socks:\n",
        "    color_counts[sock_color] = color_counts.get(sock_color, 0) + 1\n",
        "\n",
        "  # Count the number of sets for each color\n",
        "  total_sets = 0\n",
        "  for count in color_counts.values():\n",
        "    # Divide the count by 3 (number of socks per set)\n",
        "    total_sets += count // 3\n",
        "\n",
        "  return total_sets\n",
        "\n",
        "# Example usage\n",
        "socks = [1, 3, 3, 1, 1, 3]\n",
        "number_sets = count_sock_sets(socks)\n",
        "print(number_sets)  # Output: 2\n"
      ],
      "metadata": {
        "id": "CdhWFKuQb3_O"
      },
      "execution_count": null,
      "outputs": []
    },
    {
      "cell_type": "code",
      "source": [
        "def count_sock_sets(socks):\n",
        "  # Create a dictionary to store color counts\n",
        "  color_counts = {}\n",
        "  for sock_color in socks:\n",
        "    # Increment the count for the current sock color\n",
        "    color_counts[sock_color] = color_counts.get(sock_color, 0) + 1\n",
        "\n",
        "  # Count the number of sets for each color\n",
        "  total_sets = 0\n",
        "  for color, count in color_counts.items():\n",
        "    # Add full sets (count divisible by 3)\n",
        "    total_sets += count // 3\n",
        "    # Add remaining socks that can't form a full set (remainder)\n",
        "    total_sets += min(count % 3, 1)  # Consider only 1 set if remainder is 1 or 2\n",
        "\n",
        "  return total_sets\n",
        "\n",
        "# Example usage\n",
        "socks = [1, 3, 3, 1, 1, 3, 3]\n",
        "number_sets = count_sock_sets(socks)\n",
        "print(number_sets)  # Output: 5 (correct answer)\n"
      ],
      "metadata": {
        "id": "lIjqs2Nqpj2D"
      },
      "execution_count": null,
      "outputs": []
    },
    {
      "cell_type": "markdown",
      "source": [
        "## Day 7\n",
        "\n",
        "### Dynamic Programming- Deep Dive.\n",
        "\n",
        "Channel :- <a href=\"https://www.youtube.com/watch?v=_i4Yxeh5ceQ\">Watch Video</a>\n",
        "\n",
        "Questions from :- <a href=\"https://neetcode.io/practice\">NeetCode</a>\n",
        "\n",
        "Question 1:- <a href=\"https://neetcode.io/problems/climbing-stairs\">climbing-stairs</a>"
      ],
      "metadata": {
        "id": "Zp9nRF2OknWO"
      }
    },
    {
      "cell_type": "code",
      "source": [
        "def climbStairs(n):\n",
        "  one, two = 1, 1\n",
        "  for i in range(n-1):\n",
        "    temp = one\n",
        "    one += two\n",
        "    two = temp\n",
        "\n",
        "  return one\n",
        "\n",
        "climbStairs(5)"
      ],
      "metadata": {
        "id": "lXfP7TZ9ueMw"
      },
      "execution_count": null,
      "outputs": []
    },
    {
      "cell_type": "code",
      "source": [
        "cost = [10, 15, 20]\n",
        "cost.append(0)\n",
        "for i in range(len(cost)-3, -1, -1):\n",
        "  cost[i] += min(cost[i+1], cost[i+2])\n",
        "print(min(cost[0],cost[1]))"
      ],
      "metadata": {
        "id": "bXkJT3rgowvk"
      },
      "execution_count": null,
      "outputs": []
    },
    {
      "cell_type": "code",
      "source": [
        "nums = [1, 1, 3, 3]\n",
        "rob = []\n",
        "for i in range(0, len(nums)-2):\n",
        "  rob = min(nums[i] + rob[i+1::])\n",
        "\n",
        "print(rob)"
      ],
      "metadata": {
        "id": "XVKaDziuFQ0P"
      },
      "execution_count": null,
      "outputs": []
    },
    {
      "cell_type": "code",
      "source": [
        "nums = [3,4,3]\n",
        "rob1, rob2 = 0, 0\n",
        "for n in nums:\n",
        "  temp = max(n+rob1, rob2)\n",
        "  rob1 = rob2\n",
        "  rob2 = temp\n",
        "\n",
        "print(rob2)"
      ],
      "metadata": {
        "id": "uVXz5GaMK4eS"
      },
      "execution_count": null,
      "outputs": []
    },
    {
      "cell_type": "code",
      "source": [
        "nums = [2,9,8,3,6]\n",
        "rob1, rob2 = 0, 0\n",
        "for n in nums:\n",
        "  temp = max(n+rob1, rob2)\n",
        "  rob1 = rob2\n",
        "  rob2 = temp\n",
        "\n",
        "check = nums[0] + nums[-1]\n",
        "if rob2 <  check:\n",
        "  print(check)\n",
        "else:\n",
        "  print(rob2)"
      ],
      "metadata": {
        "id": "lB_CcIrZQ7fB"
      },
      "execution_count": null,
      "outputs": []
    },
    {
      "cell_type": "code",
      "source": [
        "class Solution:\n",
        "    def rob(self, nums):\n",
        "        return max(nums[0], self.helper(nums[1:]), self.helper(nums[:-1]))\n",
        "\n",
        "\n",
        "    def helper(self, nums):\n",
        "        rob1, rob2 = 0, 0\n",
        "        for n in nums:\n",
        "            newRob = max(rob1+n, rob2)\n",
        "            rob1 = rob2\n",
        "            rob2 = newRob\n",
        "\n",
        "        return rob2\n"
      ],
      "metadata": {
        "id": "DiXV4u6TbaGn"
      },
      "execution_count": null,
      "outputs": []
    },
    {
      "cell_type": "code",
      "source": [
        "s = \"abbc\"\n",
        "sub = ''\n",
        "dict_count = {}\n",
        "for i in s:\n",
        "  sub += i\n",
        "  if sub == sub[::-1]:\n",
        "    print(sub)\n",
        "    sub = ''\n",
        "\n"
      ],
      "metadata": {
        "id": "E6a3evZbowjt"
      },
      "execution_count": null,
      "outputs": []
    },
    {
      "cell_type": "code",
      "source": [
        "def logest_palindromic_substring_length(s):\n",
        "  n = len(s)\n",
        "  if n == 0:\n",
        "    return 0\n",
        "  dp = [[False] * n for _ in range(n)]\n",
        "\n",
        "  # print(len(dp))\n",
        "  for i in range(n):\n",
        "    dp[i][i] = True\n",
        "\n",
        "  # print(dp)\n",
        "\n",
        "  start = 0\n",
        "\n",
        "  for i in range(n-1):\n",
        "    if s[i] == s[i+1]:\n",
        "      dp[i][i+1] == True\n",
        "      start = i\n",
        "      max_length = 2\n",
        "\n",
        "  for length in range(3, n+1):\n",
        "    for i in range(n-length + 1):\n",
        "      j = i + length - 1\n",
        "      # print(j)\n",
        "      if s[i] == s[j] and dp[i+1][j-1]:\n",
        "        dp[i][j] = True\n",
        "        start = i\n",
        "        max_length = length\n",
        "\n",
        "    return max_length\n",
        "\n",
        "logest_palindromic_substring_length('abacc')"
      ],
      "metadata": {
        "id": "6b2Dh8RGqkaQ"
      },
      "execution_count": null,
      "outputs": []
    },
    {
      "cell_type": "code",
      "source": [
        "s = \"ababd\"\n",
        "substring = []\n",
        "sub = ''\n",
        "for i in range(len(s)-1):\n",
        "  sub += s[i]\n",
        "  if sub == sub[::-1]:\n",
        "    substring.append(sub)\n",
        "  sub = s[i]\n",
        "  print(sub)\n",
        "\n",
        "print(substring)"
      ],
      "metadata": {
        "id": "rTsvZ9e8AEsU"
      },
      "execution_count": null,
      "outputs": []
    },
    {
      "cell_type": "markdown",
      "source": [
        "## Day 11\n",
        "\n",
        "Top K Elements in List\n",
        "Given an integer array nums and an integer k, return the k most frequent elements within the array.\n",
        "\n",
        "The test cases are generated such that the answer is always unique.\n",
        "\n",
        "You may return the output in any order.\n",
        "\n",
        "Example 1:\n",
        "\n",
        "Input: nums = [1,2,2,3,3,3], k = 2\n",
        "\n",
        "Output: [2,3]\n",
        "\n",
        "Example 2:\n",
        "\n",
        "Input: nums = [7,7], k = 1\n",
        "\n",
        "Output: [7]"
      ],
      "metadata": {
        "id": "s5HLwNZPcGLq"
      }
    },
    {
      "cell_type": "code",
      "source": [
        "class Solution:\n",
        "    def topKFrequent(self, nums, k):\n",
        "        if len(nums) == k:\n",
        "            return nums\n",
        "        dict_count = {}\n",
        "        for i in nums:\n",
        "            dict_count[i] = dict_count.get(i, 0)+1\n",
        "\n",
        "        output = []\n",
        "        for key, value in dict_count.items():\n",
        "            if value >= k:\n",
        "                output.append(key)\n",
        "        return output\n"
      ],
      "metadata": {
        "id": "nMeUpzHSe5vF"
      },
      "execution_count": null,
      "outputs": []
    },
    {
      "cell_type": "code",
      "source": [
        "arr = [1,2,2,3,3,3]\n",
        "k = 2\n",
        "check = 0\n",
        "hashmap = set()\n",
        "for i in range(len(arr)-1):\n",
        "  if arr[i] == arr[i+1]:\n",
        "     check += 1\n",
        "     print(arr[i])\n",
        "     if check >= k-1:\n",
        "      hashmap.add(arr[i])\n",
        "  else:\n",
        "    check = 0\n",
        "\n",
        "hashmap"
      ],
      "metadata": {
        "id": "5QAS-eYLKHCZ"
      },
      "execution_count": null,
      "outputs": []
    },
    {
      "cell_type": "code",
      "source": [
        "from collections import Counter\n",
        "\n",
        "def topKFrequent(nums, k):\n",
        "    # Count the frequency of each element in the list\n",
        "    count = Counter(nums)\n",
        "\n",
        "    # Get the k most common elements\n",
        "    most_common = count.most_common(k)\n",
        "\n",
        "    # Extract just the elements from the most common list\n",
        "    result = [element for element, frequency in most_common]\n",
        "\n",
        "    return result\n",
        "\n",
        "# Example 1\n",
        "nums1 = [1, 2, 2, 3, 3, 3]\n",
        "k1 = 2\n",
        "print(topKFrequent(nums1, k1))  # Output: [2, 3]\n",
        "\n",
        "# Example 2\n",
        "nums2 = [7, 7]\n",
        "k2 = 1\n",
        "print(topKFrequent(nums2, k2))  # Output: [7]\n"
      ],
      "metadata": {
        "id": "OdaHytfWdyyD"
      },
      "execution_count": null,
      "outputs": []
    },
    {
      "cell_type": "code",
      "source": [
        "def topKFrequent(nums, k):\n",
        "    frequency = {}\n",
        "    for num in nums:\n",
        "        if num in frequency:\n",
        "            frequency[num] += 1\n",
        "        else:\n",
        "            frequency[num] = 1\n",
        "\n",
        "    sorted_elements = sorted(frequency, key=lambda x: frequency[x], reverse=True)\n",
        "    print(sorted_elements)\n",
        "\n",
        "    result = sorted_elements[:k]\n",
        "\n",
        "    return result\n",
        "\n",
        "\n",
        "nums1 = [1, 2, 2, 3, 3, 3]\n",
        "k1 = 2\n",
        "print(topKFrequent(nums1, k1))"
      ],
      "metadata": {
        "id": "G3kqbrA1keCm"
      },
      "execution_count": null,
      "outputs": []
    },
    {
      "cell_type": "markdown",
      "source": [
        "## Day 12\n",
        "\n",
        "```\n",
        "String Encode and Decode\n",
        "Design an algorithm to encode a list of strings to a single string. The encoded string is then decoded back to the original list of strings.\n",
        "\n",
        "Please implement encode and decode\n",
        "\n",
        "Example 1:\n",
        "\n",
        "Input: [\"neet\",\"code\",\"love\",\"you\"]\n",
        "\n",
        "Output:[\"neet\",\"code\",\"love\",\"you\"]\n",
        "Example 2:\n",
        "\n",
        "Input: [\"we\",\"say\",\":\",\"yes\"]\n",
        "\n",
        "Output: [\"we\",\"say\",\":\",\"yes\"]\n",
        "Constraints:\n",
        "\n",
        "0 <= strs.length < 100\n",
        "0 <= strs[i].length < 200\n",
        "strs[i] contains only UTF-8 characters.\n",
        "```"
      ],
      "metadata": {
        "id": "wvXxcJ64BIQk"
      }
    },
    {
      "cell_type": "code",
      "source": [
        "def encode(strs):\n",
        "  new = ''\n",
        "  for word in data:\n",
        "    new += word\n",
        "    new += '  '\n",
        "\n",
        "  return decode(new)\n",
        "\n",
        "def decode(s):\n",
        "  data = s.split(\"  \")\n",
        "  data.remove('')\n",
        "  return data\n",
        "\n",
        "data = [\"The quick brown fox\",\"jumps over the\",\"lazy dog\",\"1234567890\",\"abcdefghijklmnopqrstuvwxyz\"]\n",
        "print(encode(data))"
      ],
      "metadata": {
        "id": "f7IZ6xYOlcTM"
      },
      "execution_count": null,
      "outputs": []
    },
    {
      "cell_type": "code",
      "source": [
        "data = [\"neet\",\"code\",\"love\",\"you\"]\n",
        "new = ''\n",
        "for word in data:\n",
        "  new += word\n",
        "  new += ' '\n",
        "\n",
        "print(new)"
      ],
      "metadata": {
        "id": "Cw9EFearpCfK",
        "colab": {
          "base_uri": "https://localhost:8080/"
        },
        "outputId": "c314ac3e-de72-4795-fe62-2b0c69e12906"
      },
      "execution_count": null,
      "outputs": [
        {
          "output_type": "stream",
          "name": "stdout",
          "text": [
            "neet code love you \n"
          ]
        }
      ]
    },
    {
      "cell_type": "code",
      "source": [
        "encode = '3849 3840 3840 3855   3838 3850 3839 3840   3847 3850 3857 3840   3860 3850 3856'"
      ],
      "metadata": {
        "id": "ookszA42pELG"
      },
      "execution_count": null,
      "outputs": []
    },
    {
      "cell_type": "code",
      "source": [
        "ord('a')\n",
        "\n",
        "ord('1')"
      ],
      "metadata": {
        "id": "-HRg7symr5cP",
        "colab": {
          "base_uri": "https://localhost:8080/"
        },
        "outputId": "d02db0ce-bba8-47ce-e007-546d7d4f62d1"
      },
      "execution_count": null,
      "outputs": [
        {
          "output_type": "execute_result",
          "data": {
            "text/plain": [
              "49"
            ]
          },
          "metadata": {},
          "execution_count": 70
        }
      ]
    },
    {
      "cell_type": "code",
      "source": [
        "print(chr(97))\n",
        "print(chr(49))"
      ],
      "metadata": {
        "id": "5BJtC688sWgz",
        "colab": {
          "base_uri": "https://localhost:8080/"
        },
        "outputId": "e1c4db10-8741-4293-9f9b-6301124763d6"
      },
      "execution_count": null,
      "outputs": [
        {
          "output_type": "stream",
          "name": "stdout",
          "text": [
            "a\n",
            "1\n"
          ]
        }
      ]
    },
    {
      "cell_type": "code",
      "source": [
        "data = [\"neet\",\"code\",\"love\",\"you\"]\n",
        "new = ''\n",
        "for word in data:\n",
        "  for i in word:\n",
        "    new += str(ord(i))\n",
        "    new += ' '\n",
        "  new += '  '\n"
      ],
      "metadata": {
        "id": "PQkfkTdWssIN",
        "colab": {
          "base_uri": "https://localhost:8080/",
          "height": 211
        },
        "outputId": "6b09d963-496b-4768-cd3a-e01d4e22b6ec"
      },
      "execution_count": null,
      "outputs": [
        {
          "output_type": "error",
          "ename": "TypeError",
          "evalue": "'list' object is not callable",
          "traceback": [
            "\u001b[0;31m---------------------------------------------------------------------------\u001b[0m",
            "\u001b[0;31mTypeError\u001b[0m                                 Traceback (most recent call last)",
            "\u001b[0;32m<ipython-input-73-7518115e47cb>\u001b[0m in \u001b[0;36m<cell line: 3>\u001b[0;34m()\u001b[0m\n\u001b[1;32m      3\u001b[0m \u001b[0;32mfor\u001b[0m \u001b[0mword\u001b[0m \u001b[0;32min\u001b[0m \u001b[0mdata\u001b[0m\u001b[0;34m:\u001b[0m\u001b[0;34m\u001b[0m\u001b[0;34m\u001b[0m\u001b[0m\n\u001b[1;32m      4\u001b[0m   \u001b[0;32mfor\u001b[0m \u001b[0mi\u001b[0m \u001b[0;32min\u001b[0m \u001b[0mword\u001b[0m\u001b[0;34m:\u001b[0m\u001b[0;34m\u001b[0m\u001b[0;34m\u001b[0m\u001b[0m\n\u001b[0;32m----> 5\u001b[0;31m     \u001b[0mnew\u001b[0m \u001b[0;34m+=\u001b[0m \u001b[0mstr\u001b[0m\u001b[0;34m(\u001b[0m\u001b[0mord\u001b[0m\u001b[0;34m(\u001b[0m\u001b[0mi\u001b[0m\u001b[0;34m)\u001b[0m\u001b[0;34m)\u001b[0m\u001b[0;34m\u001b[0m\u001b[0;34m\u001b[0m\u001b[0m\n\u001b[0m\u001b[1;32m      6\u001b[0m     \u001b[0mnew\u001b[0m \u001b[0;34m+=\u001b[0m \u001b[0;34m' '\u001b[0m\u001b[0;34m\u001b[0m\u001b[0;34m\u001b[0m\u001b[0m\n\u001b[1;32m      7\u001b[0m   \u001b[0mnew\u001b[0m \u001b[0;34m+=\u001b[0m \u001b[0;34m'  '\u001b[0m\u001b[0;34m\u001b[0m\u001b[0;34m\u001b[0m\u001b[0m\n",
            "\u001b[0;31mTypeError\u001b[0m: 'list' object is not callable"
          ]
        }
      ]
    },
    {
      "cell_type": "code",
      "source": [
        "s = '32 32 32   33 64 35 36 37 94 38 42 40 41 95 43   76 111 110 103 83 116 114 105 110 103 87 105 116 104 78 111 83 112 97 99 101 115   65 110 111 116 104 101 114 44 32 83 116 114 105 110 103 32 87 105 116 104 44 32 67 111 109 109 97 115'\n",
        "data = s.split(' ')\n",
        "srt = ''\n",
        "take = 0\n",
        "new = []\n",
        "for i in data:\n",
        "  if i == '':\n",
        "    take += 1\n",
        "    if take == 2:\n",
        "      new.append(srt)\n",
        "      srt = ''\n",
        "  else:\n",
        "    take = 0\n",
        "    srt += chr(int(i))\n",
        "\n",
        "print(new)"
      ],
      "metadata": {
        "id": "3eDSea4zuAgI",
        "colab": {
          "base_uri": "https://localhost:8080/"
        },
        "outputId": "b95af99e-ae53-4b14-af61-f3d747da096d"
      },
      "execution_count": null,
      "outputs": [
        {
          "output_type": "stream",
          "name": "stdout",
          "text": [
            "['   ', '!@#$%^&*()_+', 'LongStringWithNoSpaces']\n"
          ]
        }
      ]
    },
    {
      "cell_type": "code",
      "source": [
        "class Solution:\n",
        "\n",
        "    def encode(self, strs):\n",
        "        new = ''\n",
        "        for word in strs:\n",
        "            for i in word:\n",
        "                new += str(ord(i))\n",
        "                new += ' '\n",
        "            new += '  '\n",
        "        return new\n",
        "\n",
        "    def decode(self, s):\n",
        "        data = s.split(' ')\n",
        "        srt = ''\n",
        "        take = 0\n",
        "        new = []\n",
        "        for i in data:\n",
        "            if i == '':\n",
        "                take += 1\n",
        "                if take == 2:\n",
        "                    new.append(srt)\n",
        "                    srt = ''\n",
        "            else:\n",
        "                take = 0\n",
        "                srt += chr(int(i))\n",
        "\n",
        "        return new\n"
      ],
      "metadata": {
        "id": "XDeMhVWwx9m0"
      },
      "execution_count": null,
      "outputs": []
    },
    {
      "cell_type": "code",
      "source": [
        "class Solution:\n",
        "    def encode(self, strs):\n",
        "        # Use list comprehension and join for more efficient string operations\n",
        "        encoded_strs = [' '.join(str(ord(char)) for char in word) for word in strs]\n",
        "        return '  '.join(encoded_strs) + '  '\n",
        "\n",
        "    def decode(self, s):\n",
        "        # Split the encoded string on double spaces to get the encoded words\n",
        "        encoded_words = s.strip().split('  ')\n",
        "        decoded_strs = [''.join(chr(int(num)) for num in word.split()) for word in encoded_words]\n",
        "        return decoded_strs\n",
        "\n",
        "# Example usage\n",
        "sol = Solution()\n",
        "encoded = sol.encode([\"hello\", \"world\"])\n",
        "print(\"Encoded:\", encoded)\n",
        "decoded = sol.decode(encoded)\n",
        "print(\"Decoded:\", decoded)\n"
      ],
      "metadata": {
        "id": "qwUIasrvB6sG"
      },
      "execution_count": null,
      "outputs": []
    },
    {
      "cell_type": "markdown",
      "source": [
        "```\n",
        "Products of Array Discluding Self\n",
        "Given an integer array nums, return an array output where output[i] is the product of all the elements of nums except nums[i].\n",
        "\n",
        "Each product is guaranteed to fit in a 32-bit integer.\n",
        "\n",
        "Follow-up: Could you solve it in\n",
        "𝑂(𝑛)\n",
        "O(n) time without using the division operation?\n",
        "\n",
        "Example 1:\n",
        "\n",
        "Input: nums = [1,2,4,6]\n",
        "\n",
        "Output: [48,24,12,8]\n",
        "Example 2:\n",
        "\n",
        "Input: nums = [-1,0,1,2,3]\n",
        "\n",
        "Output: [0,-6,0,0,0]\n",
        "Constraints:\n",
        "\n",
        "2 <= nums.length <= 1000\n",
        "-20 <= nums[i] <= 20\n",
        "```"
      ],
      "metadata": {
        "id": "EbZRCoF4FuUm"
      }
    },
    {
      "cell_type": "code",
      "source": [],
      "metadata": {
        "id": "F3UnFHWkB7QL"
      },
      "execution_count": null,
      "outputs": []
    }
  ]
}