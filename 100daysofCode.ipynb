{
  "nbformat": 4,
  "nbformat_minor": 0,
  "metadata": {
    "colab": {
      "provenance": [],
      "authorship_tag": "ABX9TyMb+3VTjsIGBKrFdi0wC205",
      "include_colab_link": true
    },
    "kernelspec": {
      "name": "python3",
      "display_name": "Python 3"
    },
    "language_info": {
      "name": "python"
    }
  },
  "cells": [
    {
      "cell_type": "markdown",
      "metadata": {
        "id": "view-in-github",
        "colab_type": "text"
      },
      "source": [
        "<a href=\"https://colab.research.google.com/github/Nayan-Bebale/aptitudeChallenge/blob/main/100daysofCode.ipynb\" target=\"_parent\"><img src=\"https://colab.research.google.com/assets/colab-badge.svg\" alt=\"Open In Colab\"/></a>"
      ]
    },
    {
      "cell_type": "markdown",
      "source": [
        "# 100 days of challenge"
      ],
      "metadata": {
        "id": "Mnsf_5YnfiMB"
      }
    },
    {
      "cell_type": "markdown",
      "source": [
        "## day 1"
      ],
      "metadata": {
        "id": "HCPs-DE5ZZyh"
      }
    },
    {
      "cell_type": "code",
      "execution_count": null,
      "metadata": {
        "colab": {
          "base_uri": "https://localhost:8080/"
        },
        "id": "mUSUBxJyffjZ",
        "outputId": "7cf35cb0-4490-4328-d61b-9622818855c2"
      },
      "outputs": [
        {
          "output_type": "stream",
          "name": "stdout",
          "text": [
            "a\n"
          ]
        }
      ],
      "source": [
        "# wronge answer\n",
        "\n",
        "strings = ['d', 'b', 'c', 'b', 'c', 'a']\n",
        "k = 2\n",
        "unique = set(strings)\n",
        "list_unique = list(unique)\n",
        "\n",
        "if len(list_unique) >= k:\n",
        "  print(list_unique[k-1])\n",
        "else:\n",
        "  print(\" \")\n"
      ]
    },
    {
      "cell_type": "code",
      "source": [
        "# wronge answer\n",
        "\n",
        "strings = ['d', 'b', 'c', 'b', 'c', 'a']\n",
        "k = 2\n",
        "strings.sort()\n",
        "hashmap = list()\n",
        "for i in range(0, len(strings)):\n",
        "  if i not in hashmap:\n",
        "    hashmap.append(strings[i])\n",
        "\n",
        "if len(hashmap) >= k:\n",
        "  print(hashmap[k-1])\n",
        "else:\n",
        "  print(\"\")"
      ],
      "metadata": {
        "colab": {
          "base_uri": "https://localhost:8080/"
        },
        "id": "zKPctXNbggK7",
        "outputId": "c6774529-2b1d-4d69-80a5-0659098691ac"
      },
      "execution_count": null,
      "outputs": [
        {
          "output_type": "stream",
          "name": "stdout",
          "text": [
            "b\n"
          ]
        }
      ]
    },
    {
      "cell_type": "code",
      "source": [
        "# right answer.\n",
        "\n",
        "strings = ['d', 'b', 'c', 'b', 'c', 'a']\n",
        "string_count = {}\n",
        "for s in strings:\n",
        "    if s in string_count:\n",
        "        string_count[s] += 1\n",
        "    else:\n",
        "        string_count[s] = 1\n",
        "\n",
        "# List to collect unique strings in order of first appearance\n",
        "unique_strings = [s for s in strings if string_count[s] == 1]\n",
        "\n",
        "# Return the k-th unique string if it exists, else return an empty string\n",
        "if len(unique_strings) >= k:\n",
        "    print(unique_strings[k-1])\n",
        "else:\n",
        "    print(\"\")"
      ],
      "metadata": {
        "colab": {
          "base_uri": "https://localhost:8080/"
        },
        "id": "h_a9jvkbikYZ",
        "outputId": "fc4d5d92-ec2e-4012-fb27-5cf68053da85"
      },
      "execution_count": null,
      "outputs": [
        {
          "output_type": "stream",
          "name": "stdout",
          "text": [
            "a\n"
          ]
        }
      ]
    },
    {
      "cell_type": "code",
      "source": [
        "n= 5\n",
        "k = 2\n",
        "strings = 'abdfa'\n",
        "new = strings[::-1]\n",
        "print(new)\n",
        "print(new[k-1])"
      ],
      "metadata": {
        "colab": {
          "base_uri": "https://localhost:8080/"
        },
        "id": "rT8nEVr2nyn0",
        "outputId": "28eb754f-1cbf-4145-b627-415994a8a07c"
      },
      "execution_count": null,
      "outputs": [
        {
          "output_type": "stream",
          "name": "stdout",
          "text": [
            "afdba\n",
            "f\n"
          ]
        }
      ]
    },
    {
      "cell_type": "code",
      "source": [
        "pairs = [1, 1, 2, 12, 4, 9]\n",
        "dict_pair = {}\n",
        "for i in range(0, len(pairs)-1, 2):\n",
        "  dict_pair[pairs[i]] = pairs[i+1]\n",
        "\n",
        "for l, r in dict_pair.items():\n",
        "  if r >= 2*l:\n",
        "    b = round((r+1)/2)\n",
        "    result = r-b\n",
        "    print(result)\n",
        "  else:\n",
        "    result = r - 1\n",
        "    print(result)"
      ],
      "metadata": {
        "colab": {
          "base_uri": "https://localhost:8080/"
        },
        "id": "XeI0jES9wmAO",
        "outputId": "aea2d911-eecf-42f7-b0a0-9bb3eb3d4d5e"
      },
      "execution_count": null,
      "outputs": [
        {
          "output_type": "stream",
          "name": "stdout",
          "text": [
            "0\n",
            "6\n",
            "4\n"
          ]
        }
      ]
    },
    {
      "cell_type": "code",
      "source": [
        "s = ['1', '2', '1', '3', '2', '5', '4', '4']\n",
        "dict_count = {}\n",
        "for i in range(0, len(s)-1, 2):\n",
        "  dict_count[s[i+1]] = s[i]\n",
        "print(dict_count)\n",
        "values = [value for key, value in dict_count.items()]\n",
        "min_gain = min(values)\n",
        "max_gain = max(values)\n",
        "\n",
        "# one-liner\n",
        "max_key = int(list(dict_count.keys())[list(dict_count.values()).index(max_gain)])\n",
        "min_key= int(list(dict_count.keys())[list(dict_count.values()).index(min_gain)])\n",
        "\n",
        "print(max_key-min_key)"
      ],
      "metadata": {
        "colab": {
          "base_uri": "https://localhost:8080/"
        },
        "id": "VJUse8nftIQp",
        "outputId": "5ed6f8ef-d4ff-4a43-8869-cc38f97314d5"
      },
      "execution_count": null,
      "outputs": [
        {
          "output_type": "stream",
          "name": "stdout",
          "text": [
            "{'2': '1', '3': '1', '5': '2', '4': '4'}\n",
            "2\n"
          ]
        }
      ]
    },
    {
      "cell_type": "code",
      "source": [
        "# get value by Index\n",
        "my_dict ={\"Java\":100, \"Python\":112, \"C\":11}\n",
        "inex = list(my_dict.keys())[list(my_dict.values()).index(100)]\n",
        "print(inex)"
      ],
      "metadata": {
        "colab": {
          "base_uri": "https://localhost:8080/"
        },
        "id": "jr8IWvwMgFVJ",
        "outputId": "6f10a6a0-43bc-49ab-e8e9-a2ba3a6722e5"
      },
      "execution_count": null,
      "outputs": [
        {
          "output_type": "stream",
          "name": "stdout",
          "text": [
            "Java\n"
          ]
        }
      ]
    },
    {
      "cell_type": "code",
      "source": [
        "# creating a new dictionary\n",
        "my_dict ={\"Java\":100, \"Python\":112, \"C\":11}\n",
        "\n",
        "# one-liner\n",
        "max_key = int(list(dict_count.keys())[list(dict_count.values()).index(max_gain)])\n",
        "min_key= int(list(dict_count.keys())[list(dict_count.values()).index(min_gain)])\n",
        "print(max_key, min_key)\n",
        "print(max_key-min_key)"
      ],
      "metadata": {
        "colab": {
          "base_uri": "https://localhost:8080/"
        },
        "id": "_HYORX5v3ilr",
        "outputId": "4b0c6906-298f-46ad-f7b6-b4ce97022938"
      },
      "execution_count": null,
      "outputs": [
        {
          "output_type": "stream",
          "name": "stdout",
          "text": [
            "4 2\n",
            "2\n"
          ]
        }
      ]
    },
    {
      "cell_type": "code",
      "source": [
        "strings = ['d', 'b', 'c', 'b', 'c', 'a']\n",
        "k = 2\n",
        "\n",
        "distinct= {}\n",
        "unique = []\n",
        "for i in strings:\n",
        "  if i in distinct:\n",
        "    distinct[i] += 1\n",
        "  else:\n",
        "    distinct[i] = 1\n",
        "\n",
        "unique = [key for key, value in distinct.items() if value == 1]\n",
        "\n",
        "if len(unique) >= k:\n",
        "  print(unique[k-1])\n",
        "else:\n",
        "  print(\"\")\n"
      ],
      "metadata": {
        "id": "Ml-HooF2hcQT",
        "colab": {
          "base_uri": "https://localhost:8080/"
        },
        "outputId": "800a0a61-6d3d-4a66-dff0-34a4a3b4ffd3"
      },
      "execution_count": null,
      "outputs": [
        {
          "output_type": "stream",
          "name": "stdout",
          "text": [
            "a\n"
          ]
        }
      ]
    },
    {
      "cell_type": "markdown",
      "source": [
        "## Day 2"
      ],
      "metadata": {
        "id": "aJOKrqvalNCl"
      }
    },
    {
      "cell_type": "markdown",
      "source": [
        "Problem Statement\n",
        "\n",
        "In a lively car showroom, an array of cars awaits, each with its distinctive features. Picture yourself mixing and matching these cars in unique combinations to create dream blends which has a fscore equal to the XOR value of the combination.\n",
        "\n",
        "Your mission: compute the blend score, which is the XOR of the fscore values for all these dreamy combinations.\n",
        "\n",
        "Now, it's time to reveal the grand total!\n",
        "\n",
        "Input Format\n",
        "The first line of input consists of the integer n – representing the number of cars in the showroom.\n",
        "\n",
        "The second line consists of n integers - representing the features of the car.\n",
        "\n",
        "Output Format\n",
        "Print the sum of fscore obtained.\n",
        "```\n",
        "Constraints\n",
        "1 <= n<= 10000\n",
        "\n",
        "0 <= fi <= 10000.\n",
        "\n",
        "Sample Testcase 0\n",
        "Testcase Input\n",
        "5\n",
        "4 3 5 1 2\n",
        "Testcase Output\n",
        "3\n",
        "Explanation\n",
        "The xor of all the combinations possible is:\n",
        "```\n",
        "`\n",
        "4 ^ (4^3) ^ (4^3^5) ^ (4^3^5^1) ^ (4^3^5^1^2) ^ (3) ^ (3^5) ^ (3^5^1) ^ (3^5^1^2) ^ (5) ^ (5^1) ^ (5^1^2) ^ (1) ^ (1^2) ^ 2 = 3\n",
        "`\n",
        "```\n",
        "Sample Testcase 1\n",
        "Testcase Input\n",
        "4\n",
        "1 4 5 2\n",
        "Testcase Output\n",
        "0\n",
        "```"
      ],
      "metadata": {
        "id": "xRsnODo4_0UH"
      }
    },
    {
      "cell_type": "code",
      "source": [
        "import math\n",
        "def justCheck(arr, val):\n",
        "  if val in [0, 1]:\n",
        "    return 0\n",
        "  else:\n",
        "    print(arr)\n",
        "    print(val)\n",
        "    return math.pow(arr[val-1], justCheck(arr, val-1))\n",
        "arr = [4, 3, 5, 1, 2]\n",
        "justCheck(arr, len(arr))"
      ],
      "metadata": {
        "colab": {
          "base_uri": "https://localhost:8080/"
        },
        "id": "Ld_H43Cx88pJ",
        "outputId": "06615c70-1317-4f30-f54d-f9fb4c67f22b"
      },
      "execution_count": null,
      "outputs": [
        {
          "output_type": "stream",
          "name": "stdout",
          "text": [
            "[4, 3, 5, 1, 2]\n",
            "5\n",
            "[4, 3, 5, 1, 2]\n",
            "4\n",
            "[4, 3, 5, 1, 2]\n",
            "3\n",
            "[4, 3, 5, 1, 2]\n",
            "2\n"
          ]
        },
        {
          "output_type": "execute_result",
          "data": {
            "text/plain": [
              "2.0"
            ]
          },
          "metadata": {},
          "execution_count": 59
        }
      ]
    },
    {
      "cell_type": "code",
      "source": [
        "from itertools import combinations\n",
        "def blend_score(n, features):\n",
        "    result = 0\n",
        "    for r in range(1, n+1):\n",
        "        for combo in combinations(features, r):\n",
        "            combo_xor = 0\n",
        "            for num in combo:\n",
        "                combo_xor ^= num\n",
        "                result = math.pow(combo_xor, num)\n",
        "\n",
        "    return result\n",
        "\n",
        "blend_score(5, [4, 3, 5, 1, 2])"
      ],
      "metadata": {
        "colab": {
          "base_uri": "https://localhost:8080/"
        },
        "id": "2jxoqfWYCgZo",
        "outputId": "2ec790e4-b8e9-4259-c55f-5120b8402eed"
      },
      "execution_count": null,
      "outputs": [
        {
          "output_type": "execute_result",
          "data": {
            "text/plain": [
              "1.0"
            ]
          },
          "metadata": {},
          "execution_count": 60
        }
      ]
    },
    {
      "cell_type": "code",
      "source": [
        "def blend_score(n, features):\n",
        "    # Initialize the result\n",
        "    result = 0\n",
        "\n",
        "    # The count of combinations each element appears in is 2^(n-1)\n",
        "    count = 2 ** (n - 1)\n",
        "\n",
        "    # If count is odd, the element will contribute to the final XOR\n",
        "    if count % 2 == 1:\n",
        "        for feature in features:\n",
        "            result ^= feature\n",
        "\n",
        "    return result\n",
        "\n",
        "blend_score(5, [4, 3, 5, 1, 2])"
      ],
      "metadata": {
        "colab": {
          "base_uri": "https://localhost:8080/"
        },
        "id": "WaVbF5tLJUq-",
        "outputId": "e44818e4-7dae-454a-8127-3d5fa235ab48"
      },
      "execution_count": null,
      "outputs": [
        {
          "output_type": "execute_result",
          "data": {
            "text/plain": [
              "0"
            ]
          },
          "metadata": {},
          "execution_count": 61
        }
      ]
    },
    {
      "cell_type": "code",
      "source": [
        "def blend_score(features):\n",
        "\n",
        "    result = features[0]\n",
        "    for feature in features[1:]:\n",
        "      result ^= feature  # XOR operation\n",
        "    return result\n",
        "\n",
        "\n",
        "blend_score([4, 3, 5, 1, 2])"
      ],
      "metadata": {
        "colab": {
          "base_uri": "https://localhost:8080/"
        },
        "id": "_n68Ff_zD9BI",
        "outputId": "cb61a351-9168-44a3-e34a-d18e7b9c2806"
      },
      "execution_count": null,
      "outputs": [
        {
          "output_type": "execute_result",
          "data": {
            "text/plain": [
              "1"
            ]
          },
          "metadata": {},
          "execution_count": 62
        }
      ]
    },
    {
      "cell_type": "code",
      "source": [
        "import sys\n",
        "input = sys.stdin.read\n",
        "\n",
        "def max_min_diff(arr):\n",
        "  max_freq = float('-inf')\n",
        "  min_freq = float('inf')\n",
        "\n",
        "  for i in range(len(arr)):\n",
        "    count = 0\n",
        "    for j in range(len(arr)):\n",
        "      if arr[i] == arr[j]:\n",
        "        count += 1\n",
        "\n",
        "    max_freq = max(max_freq, count)\n",
        "    min_freq = min(min_freq, count)\n",
        "  return max_freq - min_freq\n",
        "\n",
        "# Read input\n",
        "data = input().strip().split()\n",
        "q = int(data[0])  # number of queries\n",
        "s = data[1:]  # remaining are the queries\n",
        "\n",
        "min_max = max_min_diff(s)\n",
        "print(min_max)"
      ],
      "metadata": {
        "id": "rZJv2DIPHB3d",
        "colab": {
          "base_uri": "https://localhost:8080/"
        },
        "outputId": "c6633009-92e1-43b9-bc18-db7d48cf8e97"
      },
      "execution_count": null,
      "outputs": [
        {
          "output_type": "error",
          "ename": "IndexError",
          "evalue": "list index out of range",
          "traceback": [
            "\u001b[0;31m---------------------------------------------------------------------------\u001b[0m",
            "\u001b[0;31mIndexError\u001b[0m                                Traceback (most recent call last)",
            "\u001b[0;32m<ipython-input-64-9cd56e892751>\u001b[0m in \u001b[0;36m<cell line: 20>\u001b[0;34m()\u001b[0m\n\u001b[1;32m     18\u001b[0m \u001b[0;31m# Read input\u001b[0m\u001b[0;34m\u001b[0m\u001b[0;34m\u001b[0m\u001b[0m\n\u001b[1;32m     19\u001b[0m \u001b[0mdata\u001b[0m \u001b[0;34m=\u001b[0m \u001b[0minput\u001b[0m\u001b[0;34m(\u001b[0m\u001b[0;34m)\u001b[0m\u001b[0;34m.\u001b[0m\u001b[0mstrip\u001b[0m\u001b[0;34m(\u001b[0m\u001b[0;34m)\u001b[0m\u001b[0;34m.\u001b[0m\u001b[0msplit\u001b[0m\u001b[0;34m(\u001b[0m\u001b[0;34m)\u001b[0m\u001b[0;34m\u001b[0m\u001b[0;34m\u001b[0m\u001b[0m\n\u001b[0;32m---> 20\u001b[0;31m \u001b[0mq\u001b[0m \u001b[0;34m=\u001b[0m \u001b[0mint\u001b[0m\u001b[0;34m(\u001b[0m\u001b[0mdata\u001b[0m\u001b[0;34m[\u001b[0m\u001b[0;36m0\u001b[0m\u001b[0;34m]\u001b[0m\u001b[0;34m)\u001b[0m  \u001b[0;31m# number of queries\u001b[0m\u001b[0;34m\u001b[0m\u001b[0;34m\u001b[0m\u001b[0m\n\u001b[0m\u001b[1;32m     21\u001b[0m \u001b[0ms\u001b[0m \u001b[0;34m=\u001b[0m \u001b[0mdata\u001b[0m\u001b[0;34m[\u001b[0m\u001b[0;36m1\u001b[0m\u001b[0;34m:\u001b[0m\u001b[0;34m]\u001b[0m  \u001b[0;31m# remaining are the queries\u001b[0m\u001b[0;34m\u001b[0m\u001b[0;34m\u001b[0m\u001b[0m\n\u001b[1;32m     22\u001b[0m \u001b[0;34m\u001b[0m\u001b[0m\n",
            "\u001b[0;31mIndexError\u001b[0m: list index out of range"
          ]
        }
      ]
    },
    {
      "cell_type": "code",
      "source": [
        "s = ['1', '2', '1', '3', '2', '5', '4', '4']\n",
        "\n",
        "index = 1\n",
        "results = []\n",
        "check = int(s[1])\n",
        "for i in range(1, len(s)-1, 2):\n",
        "  val = int(s[i])\n",
        "  print(val)\n",
        "  min_val = min(check, val)\n",
        "  max_val = max(check, val)\n",
        "  check = val\n",
        "\n",
        "\n",
        "print(max_val, min_val)"
      ],
      "metadata": {
        "id": "koW8ywMe_T99"
      },
      "execution_count": null,
      "outputs": []
    },
    {
      "cell_type": "code",
      "source": [
        "def compute_blend_score(n, features):\n",
        "    total_xor = 0\n",
        "    if n % 2 == 0:\n",
        "        return 0\n",
        "    else:\n",
        "        for feature in features:\n",
        "            total_xor ^= feature\n",
        "    return total_xor\n",
        "\n",
        "# Sample Input\n",
        "n = 5\n",
        "features = [4, 3, 5, 1, 2]\n",
        "\n",
        "# Calculate and Print Output\n",
        "print(compute_blend_score(n, features))  # Output should be 3\n",
        "\n",
        "# Another Sample Input\n",
        "n = 4\n",
        "features = [1, 4, 5, 2]\n",
        "\n",
        "# Calculate and Print Output\n",
        "print(compute_blend_score(n, features))  # Output should be 0\n"
      ],
      "metadata": {
        "id": "GXKiyduqCQim"
      },
      "execution_count": null,
      "outputs": []
    },
    {
      "cell_type": "code",
      "source": [
        "# Python3 implementation\n",
        "\n",
        "# Function to return the\n",
        "# maximum xor\n",
        "def max_xor(arr, n):\n",
        "\n",
        "\tmaxXor = 0;\n",
        "\n",
        "\t# Calculating xor of each pair\n",
        "\tfor i in range(n):\n",
        "\t\tfor j in range(i + 1, n):\n",
        "\t\t\tmaxXor = max(maxXor,\\\n",
        "\t\t\t\t\t\tarr[i] ^ arr[j]);\n",
        "\n",
        "\treturn maxXor;\n",
        "\n",
        "# Driver Code\n",
        "if __name__ == '__main__':\n",
        "\n",
        "\tarr = [4, 3, 5, 1, 2];\n",
        "\tn = len(arr);\n",
        "\n",
        "\tprint(max_xor(arr, n));\n",
        "\n",
        "# This code is contributed by 29AjayKumar\n"
      ],
      "metadata": {
        "id": "Q2DbnafHTX6t"
      },
      "execution_count": null,
      "outputs": []
    },
    {
      "cell_type": "code",
      "source": [
        "# Python program to find minimum\n",
        "# XOR value in an array.\n",
        "\n",
        "# Function to find minimum XOR pair\n",
        "def minXOR(arr, n):\n",
        "\n",
        "\t# Sort given array\n",
        "\tarr.sort();\n",
        "\n",
        "\tmin_xor = 999999\n",
        "\tval = 0\n",
        "\n",
        "\t# calculate min xor of\n",
        "\t# consecutive pairs\n",
        "\tfor i in range (0, n-1):\n",
        "\t\tfor j in range (i+1, n-1):\n",
        "\n",
        "\t\t\t# update minimum xor value\n",
        "\t\t\t# if required\n",
        "\t\t\tval = arr[i] ^ arr[j]\n",
        "\t\t\tmin_xor = min(min_xor, val)\n",
        "\treturn min_xor\n",
        "\n",
        "# Driver program\n",
        "arr = [4, 3, 5, 1, 2]\n",
        "n = len(arr)\n",
        "\n",
        "print(minXOR(arr, n))\n",
        "\n",
        "# This code is contributed by Sam007.\n"
      ],
      "metadata": {
        "id": "dvy3BtywUtfR"
      },
      "execution_count": null,
      "outputs": []
    },
    {
      "cell_type": "code",
      "source": [
        "def compute_blend_score(n, features):\n",
        "    total_xor = 0\n",
        "    if n % 2 == 0:\n",
        "        return 0\n",
        "    else:\n",
        "        for feature in features:\n",
        "            total_xor ^= feature\n",
        "    return total_xor\n",
        "\n",
        "# Sample Input\n",
        "n = 5\n",
        "features = [4, 3, 5, 1, 2]\n",
        "\n",
        "# Calculate and Print Output\n",
        "print(compute_blend_score(n, features))  # Output should be 3\n",
        "\n",
        "# Another Sample Input\n",
        "n = 4\n",
        "features = [1, 4, 5, 2]\n",
        "\n",
        "# Calculate and Print Output\n",
        "print(compute_blend_score(n, features))  # Output should be 0\n"
      ],
      "metadata": {
        "id": "yZANrvCRVBs7"
      },
      "execution_count": null,
      "outputs": []
    },
    {
      "cell_type": "code",
      "source": [
        "def compute_blend_score(n, features):\n",
        "    # If n is even, the result is always 0\n",
        "    if n % 2 == 0:\n",
        "        return 0\n",
        "\n",
        "    # If n is odd, compute the XOR of all elements\n",
        "    total_xor = 0\n",
        "    for feature in features:\n",
        "        total_xor ^= feature\n",
        "\n",
        "    return total_xor\n",
        "\n",
        "# Sample Input 0\n",
        "n = 5\n",
        "features = [4, 3, 5, 1, 2]\n",
        "print(compute_blend_score(n, features))  # Output: 3\n",
        "\n",
        "# Sample Input 1\n",
        "n = 4\n",
        "features = [1, 4, 5, 2]\n",
        "print(compute_blend_score(n, features))  # Output: 0\n"
      ],
      "metadata": {
        "id": "fVuEPJ3IW2nO"
      },
      "execution_count": null,
      "outputs": []
    },
    {
      "cell_type": "markdown",
      "source": [
        "## Day 3"
      ],
      "metadata": {
        "id": "A41vWLoOnNWZ"
      }
    },
    {
      "cell_type": "code",
      "source": [
        "moves = 'UUDDLR'\n",
        "x = 0\n",
        "y = 0\n",
        "for i in moves:\n",
        "  if 'R' == i:\n",
        "    x += 1\n",
        "  elif 'L' == i:\n",
        "    x -= 1\n",
        "  elif 'U' == i:\n",
        "    y += 1\n",
        "  elif 'D' == i:\n",
        "    y -= 1\n",
        "\n",
        "if x == y:\n",
        "  print('yes')\n",
        "else:\n",
        "  print('No')"
      ],
      "metadata": {
        "id": "hGUjqESqW_Ij"
      },
      "execution_count": null,
      "outputs": []
    },
    {
      "cell_type": "code",
      "source": [
        "str = '2123'\n",
        "str[::-1]"
      ],
      "metadata": {
        "id": "-Y21moy6nT8X"
      },
      "execution_count": null,
      "outputs": []
    },
    {
      "cell_type": "code",
      "source": [
        "def dictionay(s, dictionary):\n",
        "  temp = ''\n",
        "  check = []\n",
        "  for i in s:\n",
        "    temp += i\n",
        "    if temp in dictionary:\n",
        "      check.append(temp)\n",
        "      temp = ''\n",
        "\n",
        "  value = False\n",
        "  for j in dictionary:\n",
        "    if j in check:\n",
        "      value = True\n",
        "    else:\n",
        "      value = False\n",
        "      break\n",
        "\n",
        "  if value:\n",
        "    print('true')\n",
        "  else:\n",
        "    print('false')\n",
        "\n",
        "s = 'applepenapple'\n",
        "dictionary = ['apple', 'pen']\n",
        "dictionay(s, dictionary)"
      ],
      "metadata": {
        "id": "uthy0pxdnX1g"
      },
      "execution_count": null,
      "outputs": []
    },
    {
      "cell_type": "code",
      "source": [
        "def can_segment_string(s, dictionary):\n",
        "  for i in range(1, len(s) + 1):\n",
        "    first = s[0:i]\n",
        "    if first in dictionary:\n",
        "      second = s[i:]\n",
        "      if not second or second in dictionary or can_segment_string(second, dictionary):\n",
        "        return True\n",
        "  return False\n",
        "\n",
        "s = \"hellonow\";\n",
        "dictionary= set([\"hello\",\"hell\",\"on\",\"now\"])\n",
        "can_segment_string(s, dictionary)\n"
      ],
      "metadata": {
        "id": "aIdmmmTona90",
        "colab": {
          "base_uri": "https://localhost:8080/"
        },
        "outputId": "5a2a9a58-c9cc-4a79-9095-79684c02fd3a"
      },
      "execution_count": null,
      "outputs": [
        {
          "output_type": "execute_result",
          "data": {
            "text/plain": [
              "True"
            ]
          },
          "metadata": {},
          "execution_count": 14
        }
      ]
    },
    {
      "cell_type": "code",
      "source": [
        "def can_segment(s, dictionary):\n",
        "    n = len(s)\n",
        "    dp = [False] * (n + 1)\n",
        "    dp[0] = True  # Base case: an empty string can be segmented\n",
        "\n",
        "    for i in range(1, n + 1):\n",
        "        for word in dictionary:\n",
        "            if dp[i - len(word)] and s[i - len(word):i] == word:\n",
        "                dp[i] = True\n",
        "                break\n",
        "\n",
        "    return 'true' if dp[n] else 'false'\n",
        "\n",
        "s = 'tttt'\n",
        "dictionary = ['ttt','tt','t']\n",
        "can_segment(s, dictionary)"
      ],
      "metadata": {
        "id": "FGNUgKDZnmN2",
        "colab": {
          "base_uri": "https://localhost:8080/",
          "height": 35
        },
        "outputId": "930f04c5-225e-485c-bd7f-2c166f6b53b7"
      },
      "execution_count": null,
      "outputs": [
        {
          "output_type": "execute_result",
          "data": {
            "text/plain": [
              "'true'"
            ],
            "application/vnd.google.colaboratory.intrinsic+json": {
              "type": "string"
            }
          },
          "metadata": {},
          "execution_count": 15
        }
      ]
    },
    {
      "cell_type": "markdown",
      "source": [
        "### Dynamic Programming or DP\n",
        "\n",
        "**Dynamic Programming** is a method used in mathematics and computer science to solve complex problems by breaking them down into simpler subproblems. By solving each subproblem only once and storing the results, it avoids redundant computations, leading to more efficient solutions for a wide range of problems.\n",
        "\n",
        "<img src=\"https://media.geeksforgeeks.org/wp-content/uploads/20240319104901/dynamic-programming.webp\" height=200px/>\n",
        "\n",
        "<a href=\"https://www.geeksforgeeks.org/dynamic-programming/\">GfG DP</a>"
      ],
      "metadata": {
        "id": "X2ImxpyRnvPj"
      }
    },
    {
      "cell_type": "markdown",
      "source": [
        "**How Does Dynamic Programming (DP) Work?**\n",
        "\n",
        "* **Identify Subproblems**: Divide the main problem into smaller, independent subproblems.\n",
        "* **Store Solutions**: Solve each subproblem and store the solution in a table or array.\n",
        "* **Build Up Solutions**: Use the stored solutions to build up the solution to the main problem.\n",
        "* **Avoid Redundancy**: By storing solutions, DP ensures that each subproblem is solved only once, reducing computation time.\n",
        "\n",
        "\n",
        "\n",
        "**Examples of Dynamic Programming (DP)**\n",
        "\n",
        "Example 1: Consider the problem of finding the Fibonacci sequence:\n",
        "\n",
        "Fibonacci sequence: 0, 1, 1, 2, 3, 5, 8, 13, 21, 34, …\n",
        "\n",
        "**Brute Force Approach:**\n",
        "\n",
        "To find the nth Fibonacci number using a brute force approach, you would simply add the (n-1)th and (n-2)th Fibonacci numbers. This would work, but it would be inefficient for large values of n, as it would require calculating all the previous Fibonacci numbers.\n",
        "\n",
        "Dynamic Programming Approach:\n",
        "\n",
        "\n",
        "Fibonacci Series using Dynamic Programming\n",
        "\n",
        "\n",
        "* **Subproblems**: F(0), F(1), F(2), F(3), …\n",
        "* **Store Solutions**: Create a table to store the values of F(n) as they are calculated.\n",
        "* **Build Up Solutions**: For F(n), look up F(n-1) and F(n-2) in the table and add them.\n",
        "* **Avoid Redundancy**: The table ensures that each subproblem (e.g., F(2)) is solved only once.\n",
        "By using DP, we can efficiently calculate the Fibonacci sequence without having to recompute subproblems.\n",
        "\n",
        "Example 2: Longest common subsequence (finding the longest subsequence that is common to two strings)\n",
        "\n",
        "Example 3: Shortest path in a graph (finding the shortest path between two nodes in a graph)\n",
        "\n",
        "Example 4: Knapsack problem (finding the maximum value of items that can be placed in a knapsack with a given capacity)\n",
        "\n",
        "\n",
        "\n",
        "**Approaches of Dynamic Programming (DP)\n",
        "Dynamic programming can be achieved using two approaches:**\n",
        "\n",
        "1. **Top-Down Approach (Memoization):**\n",
        "In the top-down approach, also known as memoization, we start with the final solution and recursively break it down into smaller subproblems. To avoid redundant calculations, we store the results of solved subproblems in a memoization table.\n",
        "\n",
        "Let’s breakdown Top down approach:\n",
        "\n",
        "* Starts with the final solution and recursively breaks it down into smaller subproblems.\n",
        "* Stores the solutions to subproblems in a table to avoid redundant calculations.\n",
        "* Suitable when the number of subproblems is large and many of them are reused.\n",
        "\n",
        "2. **Bottom-Up Approach (Tabulation):**\n",
        "In the bottom-up approach, also known as tabulation, we start with the smallest subproblems and gradually build up to the final solution. We store the results of solved subproblems in a table to avoid redundant calculations.\n",
        "\n",
        "Let’s breakdown Bottom-up approach:\n",
        "\n",
        "* Starts with the smallest subproblems and gradually builds up to the final solution.\n",
        "* Fills a table with solutions to subproblems in a bottom-up manner.\n",
        "* Suitable when the number of subproblems is small and the optimal solution can be directly computed from the solutions to smaller subproblems.\n",
        "\n",
        "**Dynamic Programming (DP) Algorithm**\n",
        "\n",
        "Dynamic programming is a algorithmic technique that solves complex problems by breaking them down into smaller subproblems and storing their solutions for future use. It is particularly effective for problems that contains overlapping subproblems and optimal substructure.\n",
        "\n",
        "**Common Algorithms that Use Dynamic Programming:**\n",
        "* **Longest Common Subsequence (LCS)**: Finds the longest common subsequence between two strings.\n",
        "* **Shortest Path in a Graph**: Finds the shortest path between two nodes in a graph.\n",
        "* **Knapsack Problem**: Determines the maximum value of items that can be placed in a knapsack with a given capacity.\n",
        "* **Matrix Chain Multiplication**: Optimizes the order of matrix multiplication to minimize the number of operations.\n",
        "* **Fibonacci Sequence**: Calculates the nth Fibonacci number.\n",
        "\n",
        "**Advantages of Dynamic Programming (DP)**\n",
        "Dynamic programming has a wide range of advantages, including:\n",
        "\n",
        "* Avoids recomputing the same subproblems multiple times, leading to significant time savings.\n",
        "* Ensures that the optimal solution is found by considering all possible combinations.\n",
        "* Breaks down complex problems into smaller, more manageable subproblems.\n",
        "* Applications of Dynamic Programming (DP)\n",
        "\n",
        "**Dynamic programming has a wide range of applications, including:**\n",
        "\n",
        "* **Optimization**: Knapsack problem, shortest path problem, maximum subarray problem\n",
        "* **Computer Science**: Longest common subsequence, edit distance, string matching\n",
        "* **Operations Research**: Inventory management, scheduling, resource allocation"
      ],
      "metadata": {
        "id": "5Jz1zOBjpIGE"
      }
    },
    {
      "cell_type": "markdown",
      "source": [
        "**Problem Statement**\n",
        "\n",
        "James has two binary strings, ‘a’ and ‘b’. He asked Jimmy to find the sum of the number of positions at which the corresponding bits are different between a and all contiguous substrings of b of length of a.\n",
        "\n",
        "Help Jimmy to find the total sum.\n",
        "```\n",
        "Input Format\n",
        "The first line of input consists of string a.\n",
        "The second line of input consists of string b.\n",
        "Output Format\n",
        "Print a single line of output consisting of the total sum.\n",
        "\n",
        "Constraints\n",
        "1<= a.length , b.length<= 2 * 105\n",
        "\n",
        "Sample Testcase 0\n",
        "Testcase Input\n",
        "01\n",
        "00111\n",
        "Testcase Output\n",
        "3\n",
        "Explanation\n",
        "For the first sample case, there are four contiguous\n",
        "substrings of b of length |a|: \"00\", \"01\", \"11\", and\n",
        "\"11\". The distance between \"01\" and \"00\" is |0 - 0| + |1 - 0| = 1.\n",
        "The distance between \"01\" and\n",
        "\"01\" is |0 - 0| + |1 - 1| = 0. The distance between \"01\" and\n",
        "\"11\" is |0 - 1| + |1 - 1| = 1.\n",
        " Last distance counts\n",
        "twice, as there are two occurrences of string \"11\".\n",
        "The sum of these edit distances is 1 + 0 + 1 + 1 = 3.\n",
        " ```\n",
        " ```\n",
        "Sample Testcase 1\n",
        "Testcase Input\n",
        "0011\n",
        "0110\n",
        "Testcase Output\n",
        "2\n",
        "Explanation\n",
        "The total distance between string \"0011\" and string \"0110\"\n",
        "is |0 - 0| + |0 - 1| + |1 - 1| + |1 - 0| = 0 + 1 + 0 + 1 = 2.\n",
        "```\n"
      ],
      "metadata": {
        "id": "qZOr86CwQ5ew"
      }
    },
    {
      "cell_type": "code",
      "source": [
        "a = '0011'\n",
        "b = '0110'\n",
        "m = len(a)\n",
        "n = len(b)\n",
        "total_sum = 0\n",
        "\n",
        "for i in range(n-m+1):\n",
        "  sub_b = b[i:i+m]\n",
        "  hamming_distance = 0\n",
        "  for j in range(m):\n",
        "    if a[j] != sub_b[j]:\n",
        "      hamming_distance += 1\n",
        "  total_sum += hamming_distance\n",
        "\n",
        "print(total_sum)"
      ],
      "metadata": {
        "id": "keOrptsxnqHK",
        "colab": {
          "base_uri": "https://localhost:8080/"
        },
        "outputId": "2c09e100-4abf-4ddb-9dbc-48f99d964115"
      },
      "execution_count": null,
      "outputs": [
        {
          "output_type": "stream",
          "name": "stdout",
          "text": [
            "2\n"
          ]
        }
      ]
    },
    {
      "cell_type": "code",
      "source": [
        "a = '0011'\n",
        "b = '0110'\n",
        "m = len(a)\n",
        "n = len(b)\n",
        "total_sum = 0\n",
        "\n",
        "for i in range(n - m + 1):\n",
        "  sub_b = b[i:i + m]\n",
        "  hamming_distance = 0\n",
        "  for j in range(m):\n",
        "    if a[j] != sub_b[j]:\n",
        "      hamming_distance += 1\n",
        "  total_sum += hamming_distance\n",
        "\n",
        "print(total_sum)"
      ],
      "metadata": {
        "id": "h43A-GceS2_l",
        "colab": {
          "base_uri": "https://localhost:8080/"
        },
        "outputId": "e10da7ee-50c6-4c45-dacb-5fe0c72fc177"
      },
      "execution_count": null,
      "outputs": [
        {
          "output_type": "stream",
          "name": "stdout",
          "text": [
            "2\n"
          ]
        }
      ]
    },
    {
      "cell_type": "markdown",
      "source": [
        "## Day 4\n",
        "\n",
        "```\n",
        "Let the index of last occurence of ch be idx, reverse the string from idx.\n",
        "\n",
        "Input Format\n",
        "First line contains a string s.\n",
        "\n",
        "Output Format\n",
        "Return the transformed string\n",
        "\n",
        "Constraints\n",
        "1<=|s|<=100000\n",
        "\n",
        "Sample Testcase 0\n",
        "Testcase Input\n",
        "abc c\n",
        "Testcase Output\n",
        "abc\n",
        "Explanation\n",
        "Last occurrence of c is the last character of the string, so reversing it won’t change the string.\n",
        "Sample Testcase 1\n",
        "Testcase Input\n",
        "abxcced c\n",
        "Testcase Output\n",
        "abxcdec\n",
        "Explanation\n",
        "The last index of 'c' occuring is:4. Reersing the string from 4th index: \"ced\" to \"dec\".\n",
        "\n",
        "\n",
        "The final string therefore is: \"abxcdec\".\n",
        "\n",
        "```"
      ],
      "metadata": {
        "id": "rM-6D5HNVNSr"
      }
    },
    {
      "cell_type": "code",
      "source": [
        "s = \"abc\"\n",
        "ch = \"c\"\n",
        "if ch not in s:\n",
        "  print(s)\n",
        "rev = s[::-1]\n",
        "re_idx = rev.index(ch)\n",
        "idx = (len(s) - re_idx)-1\n",
        "if idx == 0:\n",
        "  print(s)\n",
        "else:\n",
        "  first = s[:idx]\n",
        "  second = s[idx:]\n",
        "  reverse = second[::-1]\n",
        "  output = first+reverse\n",
        "  print(output)\n"
      ],
      "metadata": {
        "id": "2X4RipE2YHH7",
        "colab": {
          "base_uri": "https://localhost:8080/"
        },
        "outputId": "7590b326-b6ab-4a1b-8b91-326f63cd24f6"
      },
      "execution_count": null,
      "outputs": [
        {
          "output_type": "stream",
          "name": "stdout",
          "text": [
            "abc\n"
          ]
        }
      ]
    },
    {
      "cell_type": "code",
      "source": [
        "s = \"abxcdec\"\n",
        "ch = \"c\"\n",
        "\n",
        "if ch not in s:\n",
        "  print(s)\n",
        "\n",
        "val = s.index(\"c\")\n",
        "print(val)\n",
        "\n",
        "if len(s) == (val-len(s)):\n",
        "  print(s)\n",
        "else:\n",
        "  new = s[:val+1]\n",
        "\n",
        "  new2 = s[val+1:]\n",
        "  revs = new2[::-1]\n",
        "  output = new+revs\n",
        "  print(output)"
      ],
      "metadata": {
        "id": "AtXQ2Qj2TX3L",
        "colab": {
          "base_uri": "https://localhost:8080/"
        },
        "outputId": "ec916b92-adb6-4dda-dd12-c50cee89faa6"
      },
      "execution_count": null,
      "outputs": [
        {
          "output_type": "stream",
          "name": "stdout",
          "text": [
            "3\n",
            "abxcced\n"
          ]
        }
      ]
    },
    {
      "cell_type": "markdown",
      "source": [
        "```\n",
        "Problem Statement\n",
        "Imagine you have a row of boxes. Each box can be either an \"a\" or a \"b\".\n",
        "\n",
        "To check if it's an ab pattern, you need to make sure that all the \"a\" boxes, if they exist, come before any \"b\" boxes, if they exist.\n",
        "\n",
        "If this order is maintained, it's an ab pattern; otherwise, it's not. Display \"YES\" if it is maintained else \"NO\".\n",
        "\n",
        "Input Format\n",
        "The first line contains a string s, deonting the row of boxes.\n",
        "\n",
        "Output Format\n",
        "If the boxes are in ab pattern print \"YES\" else \"NO\".\n",
        "\n",
        "Constraints\n",
        "1<= s.length <=106\n",
        "\n",
        "Sample Testcase 0\n",
        "Testcase Input\n",
        "aaaaab\n",
        "Testcase Output\n",
        "YES\n",
        "Explanation\n",
        "In the given sequence of boxes:\n",
        "\n",
        "\n",
        "All the boxes with 'a's are occuring before boxes with 'b's.\n",
        "\n",
        "\n",
        "So we print \"YES\".\n",
        "\n",
        "Sample Testcase 1\n",
        "Testcase Input\n",
        "aaba\n",
        "Testcase Output\n",
        "NO\n",
        "Explanation\n",
        "In the given sequence of boxes:\n",
        "\n",
        "\n",
        "The boxes with 'a' at index 3 is occuring after the box with 'b' so it doesn't follow the ab pattern.\n",
        "\n",
        "\n",
        "So we print \"NO\".\n",
        "```"
      ],
      "metadata": {
        "id": "1WtUERBt1wc2"
      }
    },
    {
      "cell_type": "code",
      "source": [
        "s = 'aaaaab'\n",
        "new = s[-1]\n",
        "\n",
        "if new == 'a':\n",
        "  print('No')"
      ],
      "metadata": {
        "id": "jHDyFfeOQWM3"
      },
      "execution_count": null,
      "outputs": []
    },
    {
      "cell_type": "markdown",
      "source": [
        "```\n",
        "Problem Statement\n",
        "Kritika has a collection of 2*n boxes, with n unique labels. Among them, one box is repeated n times.\n",
        "\n",
        "How can Kritika identify and print the label of the repeated box?\n",
        "\n",
        "Input Format\n",
        "An integer 2*n which represents the number of boxes.\n",
        "\n",
        "2*n space-separated integers representing the labels on the boxes.\n",
        "\n",
        "Output Format\n",
        "An integer value representing the label of the box repeated n times.\n",
        "\n",
        "Constraints\n",
        "2 <= n <= 5000\n",
        "number of boxes = 2*n\n",
        "0 <= label[i] <= 10^4\n",
        "Sample Testcase 0\n",
        "Testcase Input\n",
        "6\n",
        "6 5 1 5 5 7\n",
        "Testcase Output\n",
        "5\n",
        "Explanation\n",
        "The number of boxes is 6. And we can see that the boxes with label 5 gets repeated 3 times and therefore we display 5.\n",
        "\n",
        "Sample Testcase 1\n",
        "Testcase Input\n",
        "4\n",
        "0 1 1 2\n",
        "Testcase Output\n",
        "1\n",
        "Explanation\n",
        "The number of boxes is 4. And we can see that the boxes with label 1 gets repeated 2 times and therefore we display 1.\n",
        "```"
      ],
      "metadata": {
        "id": "tpZowrkR5R5n"
      }
    },
    {
      "cell_type": "code",
      "source": [
        "nums = [6, 5, 1, 5, 5, 7]\n",
        "dict_count = {}\n",
        "\n",
        "for i in nums:\n",
        "  dict_count[i] = dict_count.get(i, 0)+1\n",
        "\n",
        "for key, value in dict_count.items():\n",
        "  if value > 1:\n",
        "    print(key)\n"
      ],
      "metadata": {
        "id": "9tybUN2j2TPc"
      },
      "execution_count": null,
      "outputs": []
    },
    {
      "cell_type": "code",
      "source": [
        "s = \"aaaaa\"\n",
        "sub = ''\n",
        "dict_count = {}\n",
        "for i in s:\n",
        "  sub += i\n",
        "  if sub == sub[::-1]:\n",
        "    dict_count[sub] = len(sub)\n",
        "\n",
        "\n",
        "output = max(dict_count.values())\n",
        "print(output)\n"
      ],
      "metadata": {
        "id": "8z8Udvjq5-ex"
      },
      "execution_count": null,
      "outputs": []
    },
    {
      "cell_type": "markdown",
      "source": [
        "##Day 5"
      ],
      "metadata": {
        "id": "kRASFGo0OoET"
      }
    },
    {
      "cell_type": "code",
      "source": [
        "def logest_palindromic_substring_length(s):\n",
        "  n = len(s)\n",
        "  if n == 0:\n",
        "    return 0\n",
        "  dp = [[False] * n for _ in range(n)]\n",
        "\n",
        "  # print(len(dp))\n",
        "  for i in range(n):\n",
        "    dp[i][i] = True\n",
        "\n",
        "  # print(dp)\n",
        "\n",
        "  start = 0\n",
        "\n",
        "  for i in range(n-1):\n",
        "    if s[i] == s[i+1]:\n",
        "      dp[i][i+1] == True\n",
        "      start = i\n",
        "      max_length = 2\n",
        "\n",
        "  for length in range(3, n+1):\n",
        "    for i in range(n-length + 1):\n",
        "      j = i + length - 1\n",
        "      # print(j)\n",
        "      if s[i] == s[j] and dp[i+1][j-1]:\n",
        "        dp[i][j] = True\n",
        "        start = i\n",
        "        max_length = length\n",
        "\n",
        "    return max_length\n",
        "\n",
        "logest_palindromic_substring_length('abacc')"
      ],
      "metadata": {
        "id": "Io7V5daF3VDp",
        "colab": {
          "base_uri": "https://localhost:8080/"
        },
        "outputId": "d43ce028-50d8-4f8a-de93-ae19ee3025eb"
      },
      "execution_count": null,
      "outputs": [
        {
          "output_type": "execute_result",
          "data": {
            "text/plain": [
              "3"
            ]
          },
          "metadata": {},
          "execution_count": 24
        }
      ]
    },
    {
      "cell_type": "code",
      "source": [
        "gifts = [1, 3, 2, 3]\n",
        "gifts = [tuple(pair) for pair in zip(gifts[::2], gifts[1::2])]\n",
        "\n",
        "print(gifts)\n"
      ],
      "metadata": {
        "id": "zWOd5-Lxg_JI",
        "colab": {
          "base_uri": "https://localhost:8080/"
        },
        "outputId": "c540c738-a5ca-4a84-88fd-c4e216a0c731"
      },
      "execution_count": null,
      "outputs": [
        {
          "output_type": "stream",
          "name": "stdout",
          "text": [
            "[(1, 3), (2, 3)]\n"
          ]
        }
      ]
    },
    {
      "cell_type": "code",
      "source": [
        "gifts = [ 1, 3, 2, 3]\n",
        "gifts = [tuple(pair) for pair in zip(gifts[::2], gifts[1::2])]\n",
        "n = 3\n",
        "m = 2\n",
        "def find_yougest_member(n,m, gifts):\n",
        "  in_degree = [0] * (n+1)\n",
        "  out_degree = [0] * (n+1)\n",
        "\n",
        "  for a, b in gifts:\n",
        "    in_degree[b] += 1\n",
        "    out_degree[a] += 1\n",
        "  print(in_degree, out_degree)\n",
        "\n",
        "\n",
        "  for i in range(1, n+1):\n",
        "    if in_degree[i] == n - 1 and out_degree[i] == 0:\n",
        "      return i\n",
        "  return -1\n",
        "\n",
        "find_yougest_member(n, m, gifts)"
      ],
      "metadata": {
        "id": "K23SX8HqPxM7"
      },
      "execution_count": null,
      "outputs": []
    },
    {
      "cell_type": "markdown",
      "source": [
        "## Day 6"
      ],
      "metadata": {
        "id": "nVvZZl9Kwhxq"
      }
    },
    {
      "cell_type": "code",
      "source": [
        "def count_sock_sets(socks):\n",
        "\n",
        "  color_counts = {}\n",
        "  for sock_color in socks:\n",
        "    color_counts[sock_color] = color_counts.get(sock_color, 0) + 1\n",
        "\n",
        "  # Count the number of sets for each color\n",
        "  total_sets = 0\n",
        "  for count in color_counts.values():\n",
        "    # Divide the count by 3 (number of socks per set)\n",
        "    total_sets += count // 3\n",
        "\n",
        "  return total_sets\n",
        "\n",
        "# Example usage\n",
        "socks = [1, 3, 3, 1, 1, 3]\n",
        "number_sets = count_sock_sets(socks)\n",
        "print(number_sets)  # Output: 2\n"
      ],
      "metadata": {
        "id": "CdhWFKuQb3_O"
      },
      "execution_count": null,
      "outputs": []
    },
    {
      "cell_type": "code",
      "source": [
        "def count_sock_sets(socks):\n",
        "  # Create a dictionary to store color counts\n",
        "  color_counts = {}\n",
        "  for sock_color in socks:\n",
        "    # Increment the count for the current sock color\n",
        "    color_counts[sock_color] = color_counts.get(sock_color, 0) + 1\n",
        "\n",
        "  # Count the number of sets for each color\n",
        "  total_sets = 0\n",
        "  for color, count in color_counts.items():\n",
        "    # Add full sets (count divisible by 3)\n",
        "    total_sets += count // 3\n",
        "    # Add remaining socks that can't form a full set (remainder)\n",
        "    total_sets += min(count % 3, 1)  # Consider only 1 set if remainder is 1 or 2\n",
        "\n",
        "  return total_sets\n",
        "\n",
        "# Example usage\n",
        "socks = [1, 3, 3, 1, 1, 3, 3]\n",
        "number_sets = count_sock_sets(socks)\n",
        "print(number_sets)  # Output: 5 (correct answer)\n"
      ],
      "metadata": {
        "id": "lIjqs2Nqpj2D"
      },
      "execution_count": null,
      "outputs": []
    },
    {
      "cell_type": "markdown",
      "source": [
        "## Day 7\n",
        "\n",
        "### Dynamic Programming- Deep Dive.\n",
        "\n",
        "Channel :- <a href=\"https://www.youtube.com/watch?v=_i4Yxeh5ceQ\">Watch Video</a>\n",
        "\n",
        "Questions from :- <a href=\"https://neetcode.io/practice\">NeetCode</a>\n",
        "\n",
        "Question 1:- <a href=\"https://neetcode.io/problems/climbing-stairs\">climbing-stairs</a>"
      ],
      "metadata": {
        "id": "Zp9nRF2OknWO"
      }
    },
    {
      "cell_type": "code",
      "source": [
        "def climbStairs(n):\n",
        "  one, two = 1, 1\n",
        "  for i in range(n-1):\n",
        "    temp = one\n",
        "    one += two\n",
        "    two = temp\n",
        "\n",
        "  return one\n",
        "\n",
        "climbStairs(5)"
      ],
      "metadata": {
        "id": "lXfP7TZ9ueMw"
      },
      "execution_count": null,
      "outputs": []
    },
    {
      "cell_type": "code",
      "source": [
        "cost = [10, 15, 20]\n",
        "cost.append(0)\n",
        "for i in range(len(cost)-3, -1, -1):\n",
        "  cost[i] += min(cost[i+1], cost[i+2])\n",
        "print(min(cost[0],cost[1]))"
      ],
      "metadata": {
        "id": "bXkJT3rgowvk"
      },
      "execution_count": null,
      "outputs": []
    },
    {
      "cell_type": "code",
      "source": [
        "nums = [1, 1, 3, 3]\n",
        "rob = []\n",
        "for i in range(0, len(nums)-2):\n",
        "  rob = min(nums[i] + rob[i+1::])\n",
        "\n",
        "print(rob)"
      ],
      "metadata": {
        "id": "XVKaDziuFQ0P"
      },
      "execution_count": null,
      "outputs": []
    },
    {
      "cell_type": "code",
      "source": [
        "nums = [3,4,3]\n",
        "rob1, rob2 = 0, 0\n",
        "for n in nums:\n",
        "  temp = max(n+rob1, rob2)\n",
        "  rob1 = rob2\n",
        "  rob2 = temp\n",
        "\n",
        "print(rob2)"
      ],
      "metadata": {
        "id": "uVXz5GaMK4eS"
      },
      "execution_count": null,
      "outputs": []
    },
    {
      "cell_type": "code",
      "source": [
        "nums = [2,9,8,3,6]\n",
        "rob1, rob2 = 0, 0\n",
        "for n in nums:\n",
        "  temp = max(n+rob1, rob2)\n",
        "  rob1 = rob2\n",
        "  rob2 = temp\n",
        "\n",
        "check = nums[0] + nums[-1]\n",
        "if rob2 <  check:\n",
        "  print(check)\n",
        "else:\n",
        "  print(rob2)"
      ],
      "metadata": {
        "id": "lB_CcIrZQ7fB"
      },
      "execution_count": null,
      "outputs": []
    },
    {
      "cell_type": "code",
      "source": [
        "class Solution:\n",
        "    def rob(self, nums):\n",
        "        return max(nums[0], self.helper(nums[1:]), self.helper(nums[:-1]))\n",
        "\n",
        "\n",
        "    def helper(self, nums):\n",
        "        rob1, rob2 = 0, 0\n",
        "        for n in nums:\n",
        "            newRob = max(rob1+n, rob2)\n",
        "            rob1 = rob2\n",
        "            rob2 = newRob\n",
        "\n",
        "        return rob2\n"
      ],
      "metadata": {
        "id": "DiXV4u6TbaGn"
      },
      "execution_count": null,
      "outputs": []
    },
    {
      "cell_type": "code",
      "source": [
        "s = \"abbc\"\n",
        "sub = ''\n",
        "dict_count = {}\n",
        "for i in s:\n",
        "  sub += i\n",
        "  if sub == sub[::-1]:\n",
        "    print(sub)\n",
        "    sub = ''\n",
        "\n"
      ],
      "metadata": {
        "id": "E6a3evZbowjt"
      },
      "execution_count": null,
      "outputs": []
    },
    {
      "cell_type": "code",
      "source": [
        "def logest_palindromic_substring_length(s):\n",
        "  n = len(s)\n",
        "  if n == 0:\n",
        "    return 0\n",
        "  dp = [[False] * n for _ in range(n)]\n",
        "\n",
        "  # print(len(dp))\n",
        "  for i in range(n):\n",
        "    dp[i][i] = True\n",
        "\n",
        "  # print(dp)\n",
        "\n",
        "  start = 0\n",
        "\n",
        "  for i in range(n-1):\n",
        "    if s[i] == s[i+1]:\n",
        "      dp[i][i+1] == True\n",
        "      start = i\n",
        "      max_length = 2\n",
        "\n",
        "  for length in range(3, n+1):\n",
        "    for i in range(n-length + 1):\n",
        "      j = i + length - 1\n",
        "      # print(j)\n",
        "      if s[i] == s[j] and dp[i+1][j-1]:\n",
        "        dp[i][j] = True\n",
        "        start = i\n",
        "        max_length = length\n",
        "\n",
        "    return max_length\n",
        "\n",
        "logest_palindromic_substring_length('abacc')"
      ],
      "metadata": {
        "id": "6b2Dh8RGqkaQ"
      },
      "execution_count": null,
      "outputs": []
    },
    {
      "cell_type": "code",
      "source": [
        "s = \"ababd\"\n",
        "substring = []\n",
        "sub = ''\n",
        "for i in range(len(s)-1):\n",
        "  sub += s[i]\n",
        "  if sub == sub[::-1]:\n",
        "    substring.append(sub)\n",
        "  sub = s[i]\n",
        "  print(sub)\n",
        "\n",
        "print(substring)"
      ],
      "metadata": {
        "id": "rTsvZ9e8AEsU"
      },
      "execution_count": null,
      "outputs": []
    },
    {
      "cell_type": "markdown",
      "source": [
        "## Day 11\n",
        "\n",
        "Top K Elements in List\n",
        "Given an integer array nums and an integer k, return the k most frequent elements within the array.\n",
        "\n",
        "The test cases are generated such that the answer is always unique.\n",
        "\n",
        "You may return the output in any order.\n",
        "\n",
        "Example 1:\n",
        "\n",
        "Input: nums = [1,2,2,3,3,3], k = 2\n",
        "\n",
        "Output: [2,3]\n",
        "\n",
        "Example 2:\n",
        "\n",
        "Input: nums = [7,7], k = 1\n",
        "\n",
        "Output: [7]"
      ],
      "metadata": {
        "id": "s5HLwNZPcGLq"
      }
    },
    {
      "cell_type": "code",
      "source": [
        "class Solution:\n",
        "    def topKFrequent(self, nums, k):\n",
        "        if len(nums) == k:\n",
        "            return nums\n",
        "        dict_count = {}\n",
        "        for i in nums:\n",
        "            dict_count[i] = dict_count.get(i, 0)+1\n",
        "\n",
        "        output = []\n",
        "        for key, value in dict_count.items():\n",
        "            if value >= k:\n",
        "                output.append(key)\n",
        "        return output\n"
      ],
      "metadata": {
        "id": "nMeUpzHSe5vF"
      },
      "execution_count": null,
      "outputs": []
    },
    {
      "cell_type": "code",
      "source": [
        "arr = [1,2,2,3,3,3]\n",
        "k = 2\n",
        "check = 0\n",
        "hashmap = set()\n",
        "for i in range(len(arr)-1):\n",
        "  if arr[i] == arr[i+1]:\n",
        "     check += 1\n",
        "     print(arr[i])\n",
        "     if check >= k-1:\n",
        "      hashmap.add(arr[i])\n",
        "  else:\n",
        "    check = 0\n",
        "\n",
        "hashmap"
      ],
      "metadata": {
        "id": "5QAS-eYLKHCZ"
      },
      "execution_count": null,
      "outputs": []
    },
    {
      "cell_type": "code",
      "source": [
        "from collections import Counter\n",
        "\n",
        "def topKFrequent(nums, k):\n",
        "    # Count the frequency of each element in the list\n",
        "    count = Counter(nums)\n",
        "\n",
        "    # Get the k most common elements\n",
        "    most_common = count.most_common(k)\n",
        "\n",
        "    # Extract just the elements from the most common list\n",
        "    result = [element for element, frequency in most_common]\n",
        "\n",
        "    return result\n",
        "\n",
        "# Example 1\n",
        "nums1 = [1, 2, 2, 3, 3, 3]\n",
        "k1 = 2\n",
        "print(topKFrequent(nums1, k1))  # Output: [2, 3]\n",
        "\n",
        "# Example 2\n",
        "nums2 = [7, 7]\n",
        "k2 = 1\n",
        "print(topKFrequent(nums2, k2))  # Output: [7]\n"
      ],
      "metadata": {
        "id": "OdaHytfWdyyD"
      },
      "execution_count": null,
      "outputs": []
    },
    {
      "cell_type": "code",
      "source": [
        "def topKFrequent(nums, k):\n",
        "    frequency = {}\n",
        "    for num in nums:\n",
        "        if num in frequency:\n",
        "            frequency[num] += 1\n",
        "        else:\n",
        "            frequency[num] = 1\n",
        "\n",
        "    sorted_elements = sorted(frequency, key=lambda x: frequency[x], reverse=True)\n",
        "    print(sorted_elements)\n",
        "\n",
        "    result = sorted_elements[:k]\n",
        "\n",
        "    return result\n",
        "\n",
        "\n",
        "nums1 = [1, 2, 2, 3, 3, 3]\n",
        "k1 = 2\n",
        "print(topKFrequent(nums1, k1))"
      ],
      "metadata": {
        "id": "G3kqbrA1keCm"
      },
      "execution_count": null,
      "outputs": []
    },
    {
      "cell_type": "markdown",
      "source": [
        "## Day 12\n",
        "\n",
        "```\n",
        "String Encode and Decode\n",
        "Design an algorithm to encode a list of strings to a single string. The encoded string is then decoded back to the original list of strings.\n",
        "\n",
        "Please implement encode and decode\n",
        "\n",
        "Example 1:\n",
        "\n",
        "Input: [\"neet\",\"code\",\"love\",\"you\"]\n",
        "\n",
        "Output:[\"neet\",\"code\",\"love\",\"you\"]\n",
        "Example 2:\n",
        "\n",
        "Input: [\"we\",\"say\",\":\",\"yes\"]\n",
        "\n",
        "Output: [\"we\",\"say\",\":\",\"yes\"]\n",
        "Constraints:\n",
        "\n",
        "0 <= strs.length < 100\n",
        "0 <= strs[i].length < 200\n",
        "strs[i] contains only UTF-8 characters.\n",
        "```"
      ],
      "metadata": {
        "id": "wvXxcJ64BIQk"
      }
    },
    {
      "cell_type": "code",
      "source": [
        "def encode(strs):\n",
        "  new = ''\n",
        "  for word in data:\n",
        "    new += word\n",
        "    new += '  '\n",
        "\n",
        "  return decode(new)\n",
        "\n",
        "def decode(s):\n",
        "  data = s.split(\"  \")\n",
        "  data.remove('')\n",
        "  return data\n",
        "\n",
        "data = [\"The quick brown fox\",\"jumps over the\",\"lazy dog\",\"1234567890\",\"abcdefghijklmnopqrstuvwxyz\"]\n",
        "print(encode(data))"
      ],
      "metadata": {
        "id": "f7IZ6xYOlcTM"
      },
      "execution_count": null,
      "outputs": []
    },
    {
      "cell_type": "code",
      "source": [
        "data = [\"neet\",\"code\",\"love\",\"you\"]\n",
        "new = ''\n",
        "for word in data:\n",
        "  new += word\n",
        "  new += ' '\n",
        "\n",
        "print(new)"
      ],
      "metadata": {
        "id": "Cw9EFearpCfK",
        "colab": {
          "base_uri": "https://localhost:8080/"
        },
        "outputId": "c314ac3e-de72-4795-fe62-2b0c69e12906"
      },
      "execution_count": null,
      "outputs": [
        {
          "output_type": "stream",
          "name": "stdout",
          "text": [
            "neet code love you \n"
          ]
        }
      ]
    },
    {
      "cell_type": "code",
      "source": [
        "encode = '3849 3840 3840 3855   3838 3850 3839 3840   3847 3850 3857 3840   3860 3850 3856'"
      ],
      "metadata": {
        "id": "ookszA42pELG"
      },
      "execution_count": null,
      "outputs": []
    },
    {
      "cell_type": "code",
      "source": [
        "ord('a')\n",
        "\n",
        "ord('1')"
      ],
      "metadata": {
        "id": "-HRg7symr5cP",
        "colab": {
          "base_uri": "https://localhost:8080/"
        },
        "outputId": "d02db0ce-bba8-47ce-e007-546d7d4f62d1"
      },
      "execution_count": null,
      "outputs": [
        {
          "output_type": "execute_result",
          "data": {
            "text/plain": [
              "49"
            ]
          },
          "metadata": {},
          "execution_count": 70
        }
      ]
    },
    {
      "cell_type": "code",
      "source": [
        "print(chr(97))\n",
        "print(chr(49))"
      ],
      "metadata": {
        "id": "5BJtC688sWgz",
        "colab": {
          "base_uri": "https://localhost:8080/"
        },
        "outputId": "e1c4db10-8741-4293-9f9b-6301124763d6"
      },
      "execution_count": null,
      "outputs": [
        {
          "output_type": "stream",
          "name": "stdout",
          "text": [
            "a\n",
            "1\n"
          ]
        }
      ]
    },
    {
      "cell_type": "code",
      "source": [
        "data = [\"neet\",\"code\",\"love\",\"you\"]\n",
        "new = ''\n",
        "for word in data:\n",
        "  for i in word:\n",
        "    new += str(ord(i))\n",
        "    new += ' '\n",
        "  new += '  '\n"
      ],
      "metadata": {
        "id": "PQkfkTdWssIN",
        "colab": {
          "base_uri": "https://localhost:8080/",
          "height": 211
        },
        "outputId": "6b09d963-496b-4768-cd3a-e01d4e22b6ec"
      },
      "execution_count": null,
      "outputs": [
        {
          "output_type": "error",
          "ename": "TypeError",
          "evalue": "'list' object is not callable",
          "traceback": [
            "\u001b[0;31m---------------------------------------------------------------------------\u001b[0m",
            "\u001b[0;31mTypeError\u001b[0m                                 Traceback (most recent call last)",
            "\u001b[0;32m<ipython-input-73-7518115e47cb>\u001b[0m in \u001b[0;36m<cell line: 3>\u001b[0;34m()\u001b[0m\n\u001b[1;32m      3\u001b[0m \u001b[0;32mfor\u001b[0m \u001b[0mword\u001b[0m \u001b[0;32min\u001b[0m \u001b[0mdata\u001b[0m\u001b[0;34m:\u001b[0m\u001b[0;34m\u001b[0m\u001b[0;34m\u001b[0m\u001b[0m\n\u001b[1;32m      4\u001b[0m   \u001b[0;32mfor\u001b[0m \u001b[0mi\u001b[0m \u001b[0;32min\u001b[0m \u001b[0mword\u001b[0m\u001b[0;34m:\u001b[0m\u001b[0;34m\u001b[0m\u001b[0;34m\u001b[0m\u001b[0m\n\u001b[0;32m----> 5\u001b[0;31m     \u001b[0mnew\u001b[0m \u001b[0;34m+=\u001b[0m \u001b[0mstr\u001b[0m\u001b[0;34m(\u001b[0m\u001b[0mord\u001b[0m\u001b[0;34m(\u001b[0m\u001b[0mi\u001b[0m\u001b[0;34m)\u001b[0m\u001b[0;34m)\u001b[0m\u001b[0;34m\u001b[0m\u001b[0;34m\u001b[0m\u001b[0m\n\u001b[0m\u001b[1;32m      6\u001b[0m     \u001b[0mnew\u001b[0m \u001b[0;34m+=\u001b[0m \u001b[0;34m' '\u001b[0m\u001b[0;34m\u001b[0m\u001b[0;34m\u001b[0m\u001b[0m\n\u001b[1;32m      7\u001b[0m   \u001b[0mnew\u001b[0m \u001b[0;34m+=\u001b[0m \u001b[0;34m'  '\u001b[0m\u001b[0;34m\u001b[0m\u001b[0;34m\u001b[0m\u001b[0m\n",
            "\u001b[0;31mTypeError\u001b[0m: 'list' object is not callable"
          ]
        }
      ]
    },
    {
      "cell_type": "code",
      "source": [
        "s = '32 32 32   33 64 35 36 37 94 38 42 40 41 95 43   76 111 110 103 83 116 114 105 110 103 87 105 116 104 78 111 83 112 97 99 101 115   65 110 111 116 104 101 114 44 32 83 116 114 105 110 103 32 87 105 116 104 44 32 67 111 109 109 97 115'\n",
        "data = s.split(' ')\n",
        "srt = ''\n",
        "take = 0\n",
        "new = []\n",
        "for i in data:\n",
        "  if i == '':\n",
        "    take += 1\n",
        "    if take == 2:\n",
        "      new.append(srt)\n",
        "      srt = ''\n",
        "  else:\n",
        "    take = 0\n",
        "    srt += chr(int(i))\n",
        "\n",
        "print(new)"
      ],
      "metadata": {
        "id": "3eDSea4zuAgI",
        "colab": {
          "base_uri": "https://localhost:8080/"
        },
        "outputId": "b95af99e-ae53-4b14-af61-f3d747da096d"
      },
      "execution_count": null,
      "outputs": [
        {
          "output_type": "stream",
          "name": "stdout",
          "text": [
            "['   ', '!@#$%^&*()_+', 'LongStringWithNoSpaces']\n"
          ]
        }
      ]
    },
    {
      "cell_type": "code",
      "source": [
        "class Solution:\n",
        "\n",
        "    def encode(self, strs):\n",
        "        new = ''\n",
        "        for word in strs:\n",
        "            for i in word:\n",
        "                new += str(ord(i))\n",
        "                new += ' '\n",
        "            new += '  '\n",
        "        return new\n",
        "\n",
        "    def decode(self, s):\n",
        "        data = s.split(' ')\n",
        "        srt = ''\n",
        "        take = 0\n",
        "        new = []\n",
        "        for i in data:\n",
        "            if i == '':\n",
        "                take += 1\n",
        "                if take == 2:\n",
        "                    new.append(srt)\n",
        "                    srt = ''\n",
        "            else:\n",
        "                take = 0\n",
        "                srt += chr(int(i))\n",
        "\n",
        "        return new\n"
      ],
      "metadata": {
        "id": "XDeMhVWwx9m0"
      },
      "execution_count": null,
      "outputs": []
    },
    {
      "cell_type": "code",
      "source": [
        "class Solution:\n",
        "    def encode(self, strs):\n",
        "        # Use list comprehension and join for more efficient string operations\n",
        "        encoded_strs = [' '.join(str(ord(char)) for char in word) for word in strs]\n",
        "        return '  '.join(encoded_strs) + '  '\n",
        "\n",
        "    def decode(self, s):\n",
        "        # Split the encoded string on double spaces to get the encoded words\n",
        "        encoded_words = s.strip().split('  ')\n",
        "        decoded_strs = [''.join(chr(int(num)) for num in word.split()) for word in encoded_words]\n",
        "        return decoded_strs\n",
        "\n",
        "# Example usage\n",
        "sol = Solution()\n",
        "encoded = sol.encode([\"hello\", \"world\"])\n",
        "print(\"Encoded:\", encoded)\n",
        "decoded = sol.decode(encoded)\n",
        "print(\"Decoded:\", decoded)\n"
      ],
      "metadata": {
        "id": "qwUIasrvB6sG"
      },
      "execution_count": null,
      "outputs": []
    },
    {
      "cell_type": "markdown",
      "source": [
        "```\n",
        "Products of Array Discluding Self\n",
        "Given an integer array nums, return an array output where output[i] is the product of all the elements of nums except nums[i].\n",
        "\n",
        "Each product is guaranteed to fit in a 32-bit integer.\n",
        "\n",
        "Follow-up: Could you solve it in\n",
        "𝑂(𝑛)\n",
        "O(n) time without using the division operation?\n",
        "\n",
        "Example 1:\n",
        "\n",
        "Input: nums = [1,2,4,6]\n",
        "\n",
        "Output: [48,24,12,8]\n",
        "Example 2:\n",
        "\n",
        "Input: nums = [-1,0,1,2,3]\n",
        "\n",
        "Output: [0,-6,0,0,0]\n",
        "Constraints:\n",
        "\n",
        "2 <= nums.length <= 1000\n",
        "-20 <= nums[i] <= 20\n",
        "```"
      ],
      "metadata": {
        "id": "EbZRCoF4FuUm"
      }
    },
    {
      "cell_type": "markdown",
      "source": [
        "## Day 13\n",
        "\n",
        "Products of Array Discluding Self\n",
        "Solved\n",
        "Given an integer array nums, return an array output where output[i] is the product of all the elements of nums except nums[i].\n",
        "\n",
        "Each product is guaranteed to fit in a 32-bit integer.\n",
        "\n",
        "Follow-up: Could you solve it in\n",
        "𝑂\n",
        "(\n",
        "𝑛\n",
        ")\n",
        "O(n) time without using the division operation?\n",
        "\n",
        "Example 1:\n",
        "\n",
        "Input: nums = [1,2,4,6]\n",
        "\n",
        "Output: [48,24,12,8]\n",
        "\n",
        "Example 2:\n",
        "\n",
        "Input: nums = [-1,0,1,2,3]\n",
        "\n",
        "Output: [0,-6,0,0,0]\n",
        "\n",
        "Constraints:\n",
        "\n",
        "2 <= nums.length <= 1000\n",
        "-20 <= nums[i] <= 20\n"
      ],
      "metadata": {
        "id": "PmeUfO3-451N"
      }
    },
    {
      "cell_type": "code",
      "source": [
        "nums = [1,2,4,6]\n",
        "n = len(nums)\n",
        "left_products = [0]*n\n",
        "right_products = [0]*n\n",
        "output = [0]*n\n",
        "\n",
        "left_products[0] = 1\n",
        "for i in range(1, n):\n",
        "  left_products[i] = left_products[i-1]*nums[i-1]\n",
        "\n",
        "right_products[n-1] = 1\n",
        "for i in range(n-2, -1, -1):\n",
        "  right_products[i] = right_products[i+1]*nums[i+1]\n",
        "\n",
        "for i in range(n):\n",
        "  output[i] = left_products[i] * right_products[i]\n",
        "\n",
        "print(output)"
      ],
      "metadata": {
        "colab": {
          "base_uri": "https://localhost:8080/"
        },
        "id": "jtug47dsonDL",
        "outputId": "0e34dd25-3a1f-43d1-f31b-4a056cf9df11"
      },
      "execution_count": null,
      "outputs": [
        {
          "output_type": "stream",
          "name": "stdout",
          "text": [
            "[48, 24, 12, 8]\n"
          ]
        }
      ]
    },
    {
      "cell_type": "markdown",
      "source": [
        "## Day 14 - (Revision)\n",
        "\n",
        "### Python Basics\n",
        "\n",
        "1. **Explain the difference between lists and tuples in Python.**\n",
        "   - **Lists** are mutable, meaning their elements can be changed, added, or removed. They are defined using square brackets `[]`.\n",
        "   - **Tuples** are immutable, meaning their elements cannot be changed once defined. They are defined using parentheses `()`.\n",
        "\n",
        "2. **What is the purpose of the `self` keyword in Python classes?**\n",
        "   - The `self` keyword represents the instance of the class. It is used to access variables and methods associated with the current object.\n",
        "\n",
        "3. **How does Python's memory management work?**\n",
        "   - Python uses automatic memory management, including a garbage collector to recycle unused memory. It employs reference counting and a cyclic garbage collector to manage memory.\n",
        "\n",
        "4. **What are Python decorators, and how do they work?**\n",
        "   - Decorators are functions that modify the behavior of other functions or methods. They are often used to add functionality to existing code in a clean and readable way. They use the `@decorator_name` syntax.\n",
        "\n",
        "5. **Explain list comprehensions with an example.**\n",
        "   - List comprehensions provide a concise way to create lists. Example: `[x**2 for x in range(10)]` creates a list of squares of numbers from 0 to 9.\n",
        "\n",
        "### Object-Oriented Programming (OOP)\n",
        "\n",
        "6. **What are the four main principles of object-oriented programming?**\n",
        "   - **Encapsulation**: Bundling data with methods that operate on that data.\n",
        "   - **Abstraction**: Hiding implementation details and showing only the necessary features.\n",
        "   - **Inheritance**: Creating new classes from existing ones, inheriting attributes and methods.\n",
        "   - **Polymorphism**: Allowing methods to do different things based on the object it is acting upon.\n",
        "\n",
        "7. **Explain inheritance and polymorphism in Python with examples.**\n",
        "   - **Inheritance**: Creating a new class based on an existing class.\n",
        "     ```python\n",
        "     class Animal:\n",
        "         def sound(self):\n",
        "             pass\n",
        "\n",
        "     class Dog(Animal):\n",
        "         def sound(self):\n",
        "             return \"Bark\"\n",
        "     ```\n",
        "   - **Polymorphism**: Using a single interface to represent different underlying forms (data types).\n",
        "     ```python\n",
        "     def make_sound(animal):\n",
        "         print(animal.sound())\n",
        "\n",
        "     make_sound(Dog())  # Output: Bark\n",
        "     ```\n",
        "\n",
        "8. **What is the difference between class methods and instance methods?**\n",
        "   - **Instance methods** operate on an instance of the class and use the `self` parameter.\n",
        "   - **Class methods** operate on the class itself and use the `cls` parameter, marked with `@classmethod`.\n",
        "\n",
        "9. **How do you implement encapsulation in Python?**\n",
        "   - Encapsulation is implemented using private and protected members. Private members are prefixed with `__` and protected members with `_`.\n",
        "\n",
        "10. **What is a metaclass in Python?**\n",
        "    - A metaclass is a class of a class. It defines how classes behave. Classes are instances of metaclasses.\n",
        "\n",
        "### APIs and Frameworks (Django/Flask)\n",
        "\n",
        "11. **What is the difference between Django and Flask?**\n",
        "    - **Django** is a high-level web framework that includes many built-in features, such as ORM, authentication, and admin interface.\n",
        "    - **Flask** is a micro-framework that is lightweight and modular, allowing developers to choose the components they need.\n",
        "\n",
        "12. **How do you create a RESTful API in Django?**\n",
        "    - Use Django REST framework (DRF) to create RESTful APIs. Define serializers, views, and URLs.\n",
        "      ```python\n",
        "      # serializers.py\n",
        "      from rest_framework import serializers\n",
        "      from .models import MyModel\n",
        "\n",
        "      class MyModelSerializer(serializers.ModelSerializer):\n",
        "          class Meta:\n",
        "              model = MyModel\n",
        "              fields = '__all__'\n",
        "      ```\n",
        "\n",
        "      ```python\n",
        "      # views.py\n",
        "      from rest_framework import viewsets\n",
        "      from .models import MyModel\n",
        "      from .serializers import MyModelSerializer\n",
        "\n",
        "      class MyModelViewSet(viewsets.ModelViewSet):\n",
        "          queryset = MyModel.objects.all()\n",
        "          serializer_class = MyModelSerializer\n",
        "      ```\n",
        "\n",
        "      ```python\n",
        "      # urls.py\n",
        "      from django.urls import path, include\n",
        "      from rest_framework.routers import DefaultRouter\n",
        "      from .views import MyModelViewSet\n",
        "\n",
        "      router = DefaultRouter()\n",
        "      router.register(r'mymodel', MyModelViewSet)\n",
        "\n",
        "      urlpatterns = [\n",
        "          path('', include(router.urls)),\n",
        "      ]\n",
        "      ```\n",
        "\n",
        "13. **Explain the MVC (Model-View-Controller) architecture in Django.**\n",
        "    - **Model**: Defines the data structure (database tables) and business logic.\n",
        "    - **View**: Manages the user interface and presentation logic.\n",
        "    - **Controller**: Handles the request, interacts with the model to fetch data, and passes it to the view for rendering.\n",
        "\n",
        "14. **How do you handle database migrations in Django?**\n",
        "    - Use Django's `makemigrations` and `migrate` commands to create and apply migrations.\n",
        "      ```bash\n",
        "      python manage.py makemigrations\n",
        "      python manage.py migrate\n",
        "      ```\n",
        "\n",
        "15. **How do you set up a route in Flask?**\n",
        "    - Define routes using the `@app.route` decorator.\n",
        "      ```python\n",
        "      from flask import Flask\n",
        "\n",
        "      app = Flask(__name__)\n",
        "\n",
        "      @app.route('/')\n",
        "      def hello():\n",
        "          return \"Hello, World!\"\n",
        "\n",
        "      if __name__ == '__main__':\n",
        "          app.run(debug=True)\n",
        "      ```\n",
        "\n",
        "### Databases\n",
        "\n",
        "16. **What is the difference between SQL and NoSQL databases?**\n",
        "    - **SQL databases** are relational, use structured query language (SQL) for defining and manipulating data, and have a predefined schema.\n",
        "    - **NoSQL databases** are non-relational, can store unstructured data, and offer flexible schema design.\n",
        "\n",
        "17. **Explain how to connect to a MySQL/PostgreSQL database using Python.**\n",
        "    - Use the `mysql-connector-python` library for MySQL and `psycopg2` for PostgreSQL.\n",
        "      ```python\n",
        "      import mysql.connector\n",
        "\n",
        "      conn = mysql.connector.connect(\n",
        "          host=\"localhost\",\n",
        "          user=\"username\",\n",
        "          password=\"password\",\n",
        "          database=\"dbname\"\n",
        "      )\n",
        "      cursor = conn.cursor()\n",
        "      cursor.execute(\"SELECT * FROM mytable\")\n",
        "      for row in cursor.fetchall():\n",
        "          print(row)\n",
        "      ```\n",
        "\n",
        "      ```python\n",
        "      import psycopg2\n",
        "\n",
        "      conn = psycopg2.connect(\n",
        "          host=\"localhost\",\n",
        "          user=\"username\",\n",
        "          password=\"password\",\n",
        "          dbname=\"dbname\"\n",
        "      )\n",
        "      cursor = conn.cursor()\n",
        "      cursor.execute(\"SELECT * FROM mytable\")\n",
        "      for row in cursor.fetchall():\n",
        "          print(row)\n",
        "      ```\n",
        "\n",
        "18. **What are transactions in databases, and why are they important?**\n",
        "    - Transactions are sequences of operations performed as a single logical unit of work. They ensure data integrity and consistency, allowing rollback in case of errors.\n",
        "\n",
        "19. **How do you perform CRUD operations in Django ORM?**\n",
        "    - **Create**: `MyModel.objects.create(field1=value1, field2=value2)`\n",
        "    - **Read**: `MyModel.objects.all()`, `MyModel.objects.get(id=1)`\n",
        "    - **Update**: `obj = MyModel.objects.get(id=1); obj.field = value; obj.save()`\n",
        "    - **Delete**: `obj = MyModel.objects.get(id=1); obj.delete()`\n",
        "\n",
        "20. **What is database indexing, and how does it work?**\n",
        "    - Indexing improves the speed of data retrieval operations. It creates a data structure that allows the database to find data quickly without scanning the entire table.\n",
        "\n",
        "### Code Quality and Best Practices\n",
        "\n",
        "21. **What are some best practices for writing clean and maintainable code in Python?**\n",
        "    - Follow PEP 8 guidelines.\n",
        "    - Write meaningful variable and function names.\n",
        "    - Use comments and docstrings.\n",
        "    - Keep functions short and focused on a single task.\n",
        "    - Write unit tests and perform code reviews.\n",
        "\n",
        "22. **How do you perform unit testing in Python?**\n",
        "    - Use the `unittest` module or third-party libraries like `pytest`.\n",
        "      ```python\n",
        "      import unittest\n",
        "\n",
        "      def add(a, b):\n",
        "          return a + b\n",
        "\n",
        "      class TestMath(unittest.TestCase):\n",
        "          def test_add(self):\n",
        "              self.assertEqual(add(1, 2), 3)\n",
        "\n",
        "      if __name__ == '__main__':\n",
        "          unittest.main()\n",
        "      ```\n",
        "\n",
        "23. **What is PEP 8, and why is it important?**\n",
        "    - PEP 8 is the style guide for Python code. It provides conventions for writing readable and consistent code, which helps maintain code quality across projects.\n",
        "\n",
        "24. **Explain the concept of code reviews and their importance.**\n",
        "    - Code reviews involve evaluating code written by peers to ensure it meets quality standards, catches bugs early, and facilitates knowledge sharing among team members.\n",
        "\n",
        "25. **How do you handle exceptions in Python?**\n",
        "    - Use `try`, `except`, `finally`, and `else` blocks to handle exceptions.\n",
        "      ```python\n",
        "      try:\n",
        "          result = 10 / 0\n",
        "      except ZeroDivisionError:\n",
        "          print(\"Cannot divide by zero\")\n",
        "      finally:\n",
        "          print(\"This will always execute\")\n",
        "      ```\n",
        "\n",
        "### Debugging and Optimization\n",
        "\n",
        "26. **What tools do you use for debugging Python code?**\n",
        "    - Use tools like `pdb`, `ipdb`, or IDEs with built-in debuggers (e.g., PyCharm, VSCode).\n",
        "\n",
        "27. **Explain the concept of profiling in Python.**\n",
        "    - Profiling involves measuring the performance of code to identify\n",
        "\n",
        " bottlenecks. Tools like `cProfile` and `line_profiler` are commonly used.\n",
        "\n",
        "28. **What are some common techniques for optimizing Python code?**\n",
        "    - Use efficient data structures (e.g., lists vs. sets).\n",
        "    - Avoid unnecessary computations (e.g., memoization).\n",
        "    - Use built-in functions and libraries.\n",
        "    - Profile and optimize bottlenecks.\n",
        "\n",
        "29. **How do you identify and fix memory leaks in Python?**\n",
        "    - Use tools like `gc` (garbage collection) module and `objgraph` to identify memory leaks. Fix leaks by ensuring references to objects are properly released.\n",
        "\n",
        "30. **Explain the importance of logging and how to implement it in Python.**\n",
        "    - Logging helps track the execution of a program and diagnose issues. Use the `logging` module to implement logging.\n",
        "      ```python\n",
        "      import logging\n",
        "\n",
        "      logging.basicConfig(level=logging.INFO)\n",
        "      logging.info('This is an info message')\n",
        "      ```\n",
        "\n",
        "### General Questions\n",
        "\n",
        "31. **Describe a challenging project you worked on and how you overcame the difficulties.**\n",
        "    - Share a specific project example, explaining the challenges faced, steps taken to overcome them, and the final outcome.\n",
        "\n",
        "32. **How do you stay updated with the latest developments in Python and software development in general?**\n",
        "    - Follow Python blogs, read documentation, participate in online communities (e.g., Stack Overflow, Reddit), and attend conferences or webinars.\n",
        "\n",
        "33. **Explain a situation where you had to work in a team to complete a project. What role did you play, and what was the outcome?**\n",
        "    - Describe a team project, your role (e.g., developer, team lead), contributions, and the final result.\n",
        "\n",
        "34. **What do you enjoy most about programming in Python?**\n",
        "    - Discuss aspects like Python's readability, versatility, extensive libraries, and community support.\n",
        "\n",
        "35. **Why are you interested in the Python Developer Intern position at Learn Fusion?**\n",
        "    - Highlight specific aspects of the role and company that appeal to you, such as opportunities for learning, projects, company values, and how your skills align with the position.\n",
        "\n",
        "### Practical Coding Questions\n",
        "\n",
        "36. **Write a Python function to reverse a string.**\n",
        "    ```python\n",
        "    def reverse_string(s):\n",
        "        return s[::-1]\n",
        "    ```\n",
        "\n",
        "37. **Write a Python program to find the factorial of a number.**\n",
        "    ```python\n",
        "    def factorial(n):\n",
        "        if n == 0:\n",
        "            return 1\n",
        "        else:\n",
        "            return n * factorial(n-1)\n",
        "    ```\n",
        "\n",
        "38. **Write a Python function to check if a given number is a palindrome.**\n",
        "    ```python\n",
        "    def is_palindrome(n):\n",
        "        return str(n) == str(n)[::-1]\n",
        "    ```\n",
        "\n",
        "39. **Write a Python script to connect to a database and retrieve data from a table.**\n",
        "    ```python\n",
        "    import mysql.connector\n",
        "\n",
        "    conn = mysql.connector.connect(\n",
        "        host=\"localhost\",\n",
        "        user=\"username\",\n",
        "        password=\"password\",\n",
        "        database=\"dbname\"\n",
        "    )\n",
        "    cursor = conn.cursor()\n",
        "    cursor.execute(\"SELECT * FROM mytable\")\n",
        "    for row in cursor.fetchall():\n",
        "        print(row)\n",
        "    ```\n",
        "\n",
        "40. **Write a Python function to merge two sorted lists into a single sorted list.**\n",
        "    ```python\n",
        "    def merge_sorted_lists(list1, list2):\n",
        "        merged_list = []\n",
        "        i = j = 0\n",
        "        while i < len(list1) and j < len(list2):\n",
        "            if list1[i] < list2[j]:\n",
        "                merged_list.append(list1[i])\n",
        "                i += 1\n",
        "            else:\n",
        "                merged_list.append(list2[j])\n",
        "                j += 1\n",
        "        merged_list.extend(list1[i:])\n",
        "        merged_list.extend(list2[j:])\n",
        "        return merged_list\n",
        "    ```\n",
        "\n",
        "### API Development\n",
        "\n",
        "41. **Create a simple Flask API with one endpoint that returns a JSON response.**\n",
        "    ```python\n",
        "    from flask import Flask, jsonify\n",
        "\n",
        "    app = Flask(__name__)\n",
        "\n",
        "    @app.route('/api', methods=['GET'])\n",
        "    def get_api():\n",
        "        return jsonify({\"message\": \"Hello, World!\"})\n",
        "\n",
        "    if __name__ == '__main__':\n",
        "        app.run(debug=True)\n",
        "    ```\n",
        "\n",
        "42. **Implement a Django view that handles GET and POST requests.**\n",
        "    ```python\n",
        "    from django.shortcuts import render\n",
        "    from django.http import JsonResponse\n",
        "\n",
        "    def my_view(request):\n",
        "        if request.method == 'GET':\n",
        "            return JsonResponse({\"message\": \"This is a GET request\"})\n",
        "        elif request.method == 'POST':\n",
        "            return JsonResponse({\"message\": \"This is a POST request\"})\n",
        "    ```\n",
        "\n",
        "43. **Write a Python function to handle pagination in a REST API.**\n",
        "    ```python\n",
        "    def paginate(queryset, page, page_size):\n",
        "        start = (page - 1) * page_size\n",
        "        end = start + page_size\n",
        "        return queryset[start:end]\n",
        "    ```\n",
        "\n",
        "44. **Explain how to use Django's serializers to convert model instances to JSON.**\n",
        "    - Define a serializer class and use it to convert model instances to JSON.\n",
        "      ```python\n",
        "      from rest_framework import serializers\n",
        "      from .models import MyModel\n",
        "\n",
        "      class MyModelSerializer(serializers.ModelSerializer):\n",
        "          class Meta:\n",
        "              model = MyModel\n",
        "              fields = '__all__'\n",
        "\n",
        "      # Usage in a view\n",
        "      from rest_framework.response import Response\n",
        "\n",
        "      def my_view(request):\n",
        "          instance = MyModel.objects.get(id=1)\n",
        "          serializer = MyModelSerializer(instance)\n",
        "          return Response(serializer.data)\n",
        "      ```\n",
        "\n",
        "45. **Create a Flask route that accepts query parameters and returns filtered data.**\n",
        "    ```python\n",
        "    from flask import Flask, request, jsonify\n",
        "\n",
        "    app = Flask(__name__)\n",
        "\n",
        "    data = [\n",
        "        {\"id\": 1, \"name\": \"Alice\"},\n",
        "        {\"id\": 2, \"name\": \"Bob\"},\n",
        "        {\"id\": 3, \"name\": \"Charlie\"}\n",
        "    ]\n",
        "\n",
        "    @app.route('/search', methods=['GET'])\n",
        "    def search():\n",
        "        name = request.args.get('name')\n",
        "        result = [item for item in data if item['name'] == name]\n",
        "        return jsonify(result)\n",
        "\n",
        "    if __name__ == '__main__':\n",
        "        app.run(debug=True)\n",
        "    ```\n"
      ],
      "metadata": {
        "id": "ZEDy9pckQG_u"
      }
    },
    {
      "cell_type": "markdown",
      "source": [
        "Valid Sudoku\n",
        "\n",
        "You are given a a 9 x 9 Sudoku board board. A Sudoku board is valid if the following rules are followed:\n",
        "\n",
        "Each row must contain the digits 1-9 without duplicates.\n",
        "Each column must contain the digits 1-9 without duplicates.\n",
        "Each of the nine 3 x 3 sub-boxes of the grid must contain the digits 1-9 without duplicates.\n",
        "Return true if the Sudoku board is valid, otherwise return false\n",
        "\n",
        "Note: A board does not need to be full or be solvable to be valid.\n",
        "\n",
        "<img src=\"https://imagedelivery.net/CLfkmk9Wzy8_9HRyug4EVA/0be40c5d-2d18-42b8-261b-13ca50de4100/public\"/>\n",
        "\n",
        "```\n",
        "Example 1:\n",
        "\n",
        "\n",
        "\n",
        "Input: board =\n",
        "[[\"1\",\"2\",\".\",\".\",\"3\",\".\",\".\",\".\",\".\"],\n",
        " [\"4\",\".\",\".\",\"5\",\".\",\".\",\".\",\".\",\".\"],\n",
        " [\".\",\"9\",\"8\",\".\",\".\",\".\",\".\",\".\",\"3\"],\n",
        " [\"5\",\".\",\".\",\".\",\"6\",\".\",\".\",\".\",\"4\"],\n",
        " [\".\",\".\",\".\",\"8\",\".\",\"3\",\".\",\".\",\"5\"],\n",
        " [\"7\",\".\",\".\",\".\",\"2\",\".\",\".\",\".\",\"6\"],\n",
        " [\".\",\".\",\".\",\".\",\".\",\".\",\"2\",\".\",\".\"],\n",
        " [\".\",\".\",\".\",\"4\",\"1\",\"9\",\".\",\".\",\"8\"],\n",
        " [\".\",\".\",\".\",\".\",\"8\",\".\",\".\",\"7\",\"9\"]]\n",
        "\n",
        "Output: true\n",
        "Example 2:\n",
        "\n",
        "Input: board =\n",
        "[[\"1\",\"2\",\".\",\".\",\"3\",\".\",\".\",\".\",\".\"],\n",
        " [\"4\",\".\",\".\",\"5\",\".\",\".\",\".\",\".\",\".\"],\n",
        " [\".\",\"9\",\"1\",\".\",\".\",\".\",\".\",\".\",\"3\"],\n",
        " [\"5\",\".\",\".\",\".\",\"6\",\".\",\".\",\".\",\"4\"],\n",
        " [\".\",\".\",\".\",\"8\",\".\",\"3\",\".\",\".\",\"5\"],\n",
        " [\"7\",\".\",\".\",\".\",\"2\",\".\",\".\",\".\",\"6\"],\n",
        " [\".\",\".\",\".\",\".\",\".\",\".\",\"2\",\".\",\".\"],\n",
        " [\".\",\".\",\".\",\"4\",\"1\",\"9\",\".\",\".\",\"8\"],\n",
        " [\".\",\".\",\".\",\".\",\"8\",\".\",\".\",\"7\",\"9\"]]\n",
        "\n",
        "Output: false\n",
        "```\n",
        "Explanation: There are two 1's in the top-left 3x3 sub-box.\n",
        "\n",
        "Constraints:\n",
        "\n",
        "board.length == 9\n",
        "board[i].length == 9\n",
        "board[i][j] is a digit 1-9 or '.'.\n"
      ],
      "metadata": {
        "id": "0YUnQefuV-yN"
      }
    },
    {
      "cell_type": "code",
      "source": [
        "board = [[\"1\",\"2\",\".\",\".\",\"3\",\".\",\".\",\".\",\".\"],\n",
        " [\"4\",\".\",\".\",\"5\",\".\",\".\",\".\",\".\",\".\"],\n",
        " [\".\",\"9\",\"1\",\".\",\".\",\".\",\".\",\".\",\"3\"],\n",
        " [\"5\",\".\",\".\",\".\",\"6\",\".\",\".\",\".\",\"4\"],\n",
        " [\".\",\".\",\".\",\"8\",\".\",\"3\",\".\",\".\",\"5\"],\n",
        " [\"7\",\".\",\".\",\".\",\"2\",\".\",\".\",\".\",\"6\"],\n",
        " [\".\",\".\",\".\",\".\",\".\",\".\",\"2\",\".\",\".\"],\n",
        " [\".\",\".\",\".\",\"4\",\"1\",\"9\",\".\",\".\",\"8\"],\n",
        " [\".\",\".\",\".\",\".\",\"8\",\".\",\".\",\"7\",\"9\"]]\n",
        "\n",
        "value = True\n",
        "\n",
        "rows = [set() for _ in range(9)]\n",
        "cols = [set() for  _ in range(9)]\n",
        "boxes = [set() for _ in range(9)]\n",
        "\n",
        "for i in range(9):\n",
        "  for j in range(9):\n",
        "    if board[i][j] == '.':\n",
        "      continue\n",
        "\n",
        "    digit = board[i][j]\n",
        "    box_index = (i//3) * 3 + (j//3)\n",
        "\n",
        "    if digit in rows[i] or digit in cols[j] or digit in boxes[box_index]:\n",
        "      value = False\n",
        "      break\n",
        "    rows[i].add(digit)\n",
        "    cols[j].add(digit)\n",
        "    boxes[box_index].add(digit)\n",
        "\n",
        "print(value)"
      ],
      "metadata": {
        "id": "F3UnFHWkB7QL",
        "colab": {
          "base_uri": "https://localhost:8080/"
        },
        "outputId": "9429a1ac-74a4-4316-cb11-809a695127e7"
      },
      "execution_count": null,
      "outputs": [
        {
          "output_type": "stream",
          "name": "stdout",
          "text": [
            "False\n"
          ]
        }
      ]
    },
    {
      "cell_type": "markdown",
      "source": [
        "## Day 15\n",
        "\n",
        "Longest Consecutive Sequence\n",
        "Given an array of integers nums, return the length of the longest consecutive sequence of elements.\n",
        "\n",
        "A consecutive sequence is a sequence of elements in which each element is exactly 1 greater than the previous element.\n",
        "\n",
        "You must write an algorithm that runs in O(n) time.\n",
        "\n",
        "Example 1:\n",
        "\n",
        "Input: nums = [2,20,4,10,3,4,5]\n",
        "\n",
        "Output: 4\n",
        "Explanation: The longest consecutive sequence is [2, 3, 4, 5].\n",
        "\n",
        "Example 2:\n",
        "\n",
        "Input: nums = [0,3,2,5,4,6,1,1]\n",
        "\n",
        "Output: 7\n",
        "\n",
        "Constraints:\n",
        "\n",
        "0 <= nums.length <= 1000\n",
        "-10^9 <= nums[i] <= 10^9\n"
      ],
      "metadata": {
        "id": "7nYLgCw-h6CK"
      }
    },
    {
      "cell_type": "code",
      "source": [
        "nums = [0,-1]\n",
        "nums.sort()\n",
        "print(nums)\n",
        "new = set(nums)\n",
        "nums = list(new)\n",
        "print(nums)\n",
        "check = 1\n",
        "for i in range(0, len(nums)-1):\n",
        "  print(nums[i]+1, nums[i+1])\n",
        "  if nums[i] + 1 == nums[i+1]:\n",
        "    print('hi')\n",
        "    check += 1\n",
        "\n",
        "print(check)"
      ],
      "metadata": {
        "id": "xftB8BcISeJ8",
        "colab": {
          "base_uri": "https://localhost:8080/"
        },
        "outputId": "2aa49604-9aa5-4711-e886-7cc8a92ecfca"
      },
      "execution_count": null,
      "outputs": [
        {
          "output_type": "stream",
          "name": "stdout",
          "text": [
            "[-1, 0]\n",
            "[0, -1]\n",
            "1 -1\n",
            "1\n"
          ]
        }
      ]
    },
    {
      "cell_type": "code",
      "source": [
        "nums = [0,-1]\n",
        "nums.sort()\n",
        "nums"
      ],
      "metadata": {
        "colab": {
          "base_uri": "https://localhost:8080/"
        },
        "id": "w6MqKxpBiUew",
        "outputId": "3a0465b3-9a72-4dab-b335-5e52e6259545"
      },
      "execution_count": null,
      "outputs": [
        {
          "output_type": "execute_result",
          "data": {
            "text/plain": [
              "[-1, 0]"
            ]
          },
          "metadata": {},
          "execution_count": 26
        }
      ]
    },
    {
      "cell_type": "code",
      "source": [
        "nums = [0, -1]\n",
        "num_set = set(nums)\n",
        "max_length = 0\n",
        "for num in num_set:\n",
        "  if num - 1 not in num_set:\n",
        "    current_num = num\n",
        "    current_length = 1\n",
        "\n",
        "    while current_num + 1 in num_set:\n",
        "        current_num += 1\n",
        "        current_length += 1\n",
        "\n",
        "    max_length = max(max_length, current_length)\n",
        "\n",
        "print(max_length)"
      ],
      "metadata": {
        "colab": {
          "base_uri": "https://localhost:8080/"
        },
        "id": "n566Ncoepagt",
        "outputId": "523abd18-1b76-4249-b16a-08f29b13457d"
      },
      "execution_count": null,
      "outputs": [
        {
          "output_type": "stream",
          "name": "stdout",
          "text": [
            "2\n"
          ]
        }
      ]
    },
    {
      "cell_type": "markdown",
      "source": [
        "Is Palindrome\n",
        "Given a string s, return true if it is a palindrome, otherwise return false.\n",
        "\n",
        "A palindrome is a string that reads the same forward and backward. It is also case-insensitive and ignores all non-alphanumeric characters.\n",
        "\n",
        "Example 1:\n",
        "\n",
        "Input: s = \"Was it a car or a cat I saw?\"\n",
        "\n",
        "Output: true\n",
        "\n",
        "Explanation: After considering only alphanumerical characters we have \"wasitacaroracatisaw\", which is a palindrome.\n",
        "\n",
        "Example 2:\n",
        "\n",
        "Input: s = \"tab a cat\"\n",
        "\n",
        "Output: false\n",
        "\n",
        "Explanation: \"tabacat\" is not a palindrome.\n",
        "\n",
        "Constraints:\n",
        "\n",
        "1 <= s.length <= 1000\n",
        "s is made up of only printable ASCII characters.\n"
      ],
      "metadata": {
        "id": "ZxkqMXvdGRmD"
      }
    },
    {
      "cell_type": "code",
      "source": [
        "s = \"Was it a car or a cat I saw?\".lower()\n",
        "st = ''\n",
        "for i in s:\n",
        "  if 97 <= ord(i) and 122  >= ord(i):\n",
        "    st += i\n",
        "  elif 48 <= ord(i) and 57 >= ord(i):\n",
        "    st += i\n",
        "\n",
        "if st == st[::-1]:\n",
        "  print(True)\n",
        "else:\n",
        "  print(False)"
      ],
      "metadata": {
        "colab": {
          "base_uri": "https://localhost:8080/"
        },
        "id": "70m91ZwLCeaT",
        "outputId": "bf1c4abb-a7ac-4905-8ae8-3a358488156e"
      },
      "execution_count": null,
      "outputs": [
        {
          "output_type": "stream",
          "name": "stdout",
          "text": [
            "True\n"
          ]
        }
      ]
    },
    {
      "cell_type": "markdown",
      "source": [
        "Two Integer Sum II\n",
        "Given an array of integers numbers that is sorted in non-decreasing order.\n",
        "\n",
        "Return the indices (1-indexed) of two numbers, [index1, index2], such that they add up to a given target number target and index1 < index2. Note that index1 and index2 cannot be equal, therefore you may not use the same element twice.\n",
        "\n",
        "There will always be exactly one valid solution.\n",
        "\n",
        "Your solution must use\n",
        "𝑂\n",
        "(\n",
        "1\n",
        ")\n",
        "O(1) additional space.\n",
        "```\n",
        "Example 1:\n",
        "\n",
        "Input: numbers = [1,2,3,4], target = 3\n",
        "\n",
        "Output: [1,2]\n",
        "Explanation:\n",
        "The sum of 1 and 2 is 3. Since we are assuming a 1-indexed array, index1 = 1, index2 = 2. We return [1, 2].\n",
        "```\n",
        "Constraints:\n",
        "\n",
        "2 <= numbers.length <= 1000\n",
        "-1000 <= numbers[i] <= 1000\n",
        "-1000 <= target <= 1000\n"
      ],
      "metadata": {
        "id": "cPx5_ZPlPENs"
      }
    },
    {
      "cell_type": "code",
      "source": [
        "numbers = [1,2,3,4]\n",
        "target = 3\n",
        "output = []\n",
        "for i in range(len(numbers)):\n",
        "  for j in range(1, len(numbers)):\n",
        "    if numbers[i] + numbers[j] == target:\n",
        "      output.append(i+1)\n",
        "      output.append(j+1)\n",
        "      break\n",
        "print(output)"
      ],
      "metadata": {
        "colab": {
          "base_uri": "https://localhost:8080/"
        },
        "id": "QEpDc737GzqJ",
        "outputId": "40f8cdbe-061d-4d9b-c178-e4dd59a10561"
      },
      "execution_count": null,
      "outputs": [
        {
          "output_type": "stream",
          "name": "stdout",
          "text": [
            "[1, 2]\n"
          ]
        }
      ]
    },
    {
      "cell_type": "code",
      "source": [
        "nums = [[-1,0,1],[-1,2,-1],[-1,-1,2],[0,1,-1],\n",
        "        [0,-1,1],[1,0,-1],[2,2,-4],[2,-1,-1],\n",
        "         [2,-4,2],[-1,0,1],[-1,2,-1],[-1,-1,2],[-4,2,2]]\n",
        "# Sort each subarray to ensure order doesn't matter\n",
        "sorted_subarrays = [tuple(sorted(subarray)) for subarray in nums]\n",
        "# Use a set to remove duplicates\n",
        "unique_set = set(sorted_subarrays)\n",
        "# Convert back to list of lists\n",
        "unique_list = [list(subarray) for subarray in unique_set]\n",
        "\n",
        "unique_list"
      ],
      "metadata": {
        "colab": {
          "base_uri": "https://localhost:8080/"
        },
        "id": "RKemheqgQyEm",
        "outputId": "67b830a8-5749-4cc0-c62a-15e6c34a0fc0"
      },
      "execution_count": null,
      "outputs": [
        {
          "output_type": "execute_result",
          "data": {
            "text/plain": [
              "[[-1, 0, 1], [-1, -1, 2], [-4, 2, 2]]"
            ]
          },
          "metadata": {},
          "execution_count": 32
        }
      ]
    },
    {
      "cell_type": "markdown",
      "source": [
        "Three Integer Sum\n",
        "\n",
        "Given an integer array nums, return all the triplets [nums[i], nums[j], nums[k]] where nums[i] + nums[j] + nums[k] == 0, and the indices i, j and k are all distinct.\n",
        "\n",
        "The output should not contain any duplicate triplets. You may return the output and the triplets in any order.\n",
        "\n",
        "Example 1:\n",
        "\n",
        "Input: nums = [-1,0,1,2,-1,-4]\n",
        "\n",
        "Output: [[-1,-1,2],[-1,0,1]]\n",
        "\n",
        "Explanation:\n",
        "nums[0] + nums[1] + nums[2] = (-1) + 0 + 1 = 0.\n",
        "\n",
        "nums[1] + nums[2] + nums[4] = 0 + 1 + (-1) = 0.\n",
        "\n",
        "nums[0] + nums[3] + nums[4] = (-1) + 2 + (-1) = 0.\n",
        "\n",
        "The distinct triplets are [-1,0,1] and [-1,-1,2].\n",
        "\n",
        "Example 2:\n",
        "\n",
        "Input: nums = [0,1,1]\n",
        "\n",
        "Output: []\n",
        "\n",
        "Explanation: The only possible triplet does not sum up to 0.\n",
        "\n",
        "Example 3:\n",
        "\n",
        "Input: nums = [0,0,0]\n",
        "\n",
        "Output: [[0,0,0]]\n",
        "\n",
        "Explanation: The only possible triplet sums up to 0.\n",
        "\n",
        "Constraints"
      ],
      "metadata": {
        "id": "_ZDHxbxtgyuA"
      }
    },
    {
      "cell_type": "code",
      "source": [
        "class Solution:\n",
        "    def threeSum(self, nums: List[int]) -> List[List[int]]:\n",
        "        nums.sort()\n",
        "        result = []\n",
        "\n",
        "        for i in range(len(nums) - 2):\n",
        "            if i > 0 and nums[i] == nums[i - 1]:\n",
        "                continue\n",
        "\n",
        "            left, right = i + 1, len(nums) - 1\n",
        "            while left < right:\n",
        "                current_sum = nums[i] + nums[left] + nums[right]\n",
        "\n",
        "                if current_sum == 0:\n",
        "                    result.append([nums[i], nums[left], nums[right]])\n",
        "                    while left < right and nums[left] == nums[left + 1]:\n",
        "                        left += 1\n",
        "                    while left < right and nums[right] == nums[right - 1]:\n",
        "                        right -= 1\n",
        "                    left += 1\n",
        "                    right -= 1\n",
        "                elif current_sum < 0:\n",
        "                    left += 1\n",
        "                else:\n",
        "                    right -= 1\n",
        "\n",
        "        return result\n"
      ],
      "metadata": {
        "id": "6YT9ti1ZcAFW"
      },
      "execution_count": null,
      "outputs": []
    },
    {
      "cell_type": "markdown",
      "source": [
        "Max Water Container\n",
        "\n",
        "You are given an integer array heights where heights[i] represents the height of the\n",
        "𝑖\n",
        "𝑡\n",
        "ℎ\n",
        "i\n",
        "th\n",
        "  bar.\n",
        "\n",
        "You may choose any two bars to form a container. Return the maximum amount of water a container can store.\n",
        "\n",
        "`Example 1:`\n",
        "\n",
        "<img src=\"https://imagedelivery.net/CLfkmk9Wzy8_9HRyug4EVA/77f004c6-e773-4e63-7b99-a2309303c700/public\" height=200px/>\n",
        "\n",
        "```\n",
        "Input: height = [1,7,2,5,4,7,3,6]\n",
        "\n",
        "Output: 36\n",
        "Example 2:\n",
        "\n",
        "Input: height = [2,2,2]\n",
        "\n",
        "Output: 4\n",
        "```\n",
        "Constraints:\n",
        "\n",
        "2 <= height.length <= 1000\n",
        "0 <= height[i] <= 1000\n"
      ],
      "metadata": {
        "id": "mtuel6BJxKcN"
      }
    },
    {
      "cell_type": "code",
      "source": [
        "def max_area(height):\n",
        "    left = 0\n",
        "    right = len(height) - 1\n",
        "    max_water = 0\n",
        "\n",
        "    while left < right:\n",
        "        # Calculate the area formed by height[left] and height[right]\n",
        "        width = right - left\n",
        "        h = min(height[left], height[right])\n",
        "        area = width * h\n",
        "        max_water = max(max_water, area)\n",
        "\n",
        "        # Move the pointer pointing to the shorter bar\n",
        "        if height[left] < height[right]:\n",
        "            left += 1\n",
        "        else:\n",
        "            right -= 1\n",
        "\n",
        "    return max_water\n",
        "\n",
        "# Example 1\n",
        "height1 = [1, 7, 2, 5, 4, 7, 3, 6]\n",
        "output1 = max_area(height1)\n",
        "print(f\"Output for height {height1}: {output1}\")\n",
        "\n",
        "# Example 2\n",
        "height2 = [2, 2, 2]\n",
        "output2 = max_area(height2)\n",
        "print(f\"Output for height {height2}: {output2}\")"
      ],
      "metadata": {
        "id": "sg2j-8T9gCjl",
        "outputId": "10583684-5f96-439a-eae3-f3db17f1dcb7",
        "colab": {
          "base_uri": "https://localhost:8080/"
        }
      },
      "execution_count": null,
      "outputs": [
        {
          "output_type": "stream",
          "name": "stdout",
          "text": [
            "Output for height [1, 7, 2, 5, 4, 7, 3, 6]: 36\n",
            "Output for height [2, 2, 2]: 4\n"
          ]
        }
      ]
    },
    {
      "cell_type": "markdown",
      "source": [
        "## Day 16"
      ],
      "metadata": {
        "id": "GYe5X727ashY"
      }
    },
    {
      "cell_type": "code",
      "source": [
        "heights = [0,1,0,2,1,0,1,3,2,1,2,1]\n",
        "left = 0\n",
        "right = len(heights)-1\n",
        "trap = 0\n",
        "while left < len(heights)-1:\n",
        "  if heights[left] < heights[left+1]:\n",
        "    trap += heights[left+1]\n",
        "\n",
        "  if right\n",
        "  left+=1\n",
        "\n",
        "print(trap)"
      ],
      "metadata": {
        "id": "MDH6lpwxhHIo",
        "colab": {
          "base_uri": "https://localhost:8080/"
        },
        "outputId": "f16fdfd0-7a9a-4ba0-ce82-df4d11a21f1b"
      },
      "execution_count": null,
      "outputs": [
        {
          "output_type": "stream",
          "name": "stdout",
          "text": [
            "9\n"
          ]
        }
      ]
    },
    {
      "cell_type": "markdown",
      "source": [
        "##  Day 18"
      ],
      "metadata": {
        "id": "r320USPUV_zB"
      }
    },
    {
      "cell_type": "markdown",
      "source": [
        "Buy and Sell Crypto\n",
        "You are given an integer array prices where prices[i] is the price of NeetCoin on the ith day.\n",
        "\n",
        "You may choose a single day to buy one NeetCoin and choose a different day in the future to sell it.\n",
        "\n",
        "Return the maximum profit you can achieve. You may choose to not make any transactions, in which case the profit would be 0.\n",
        "\n",
        "Example 1:\n",
        "\n",
        "Input: prices = [10,1,5,6,7,1]\n",
        "\n",
        "Output: 6\n",
        "Explanation: Buy prices[1] and sell prices[4], profit = 7 - 1 = 6.\n",
        "\n",
        "Example 2:\n",
        "\n",
        "Input: prices = [10,8,7,5,2]\n",
        "\n",
        "Output: 0\n",
        "Explanation: No profitable transactions can be made, thus the max profit is 0.\n",
        "\n",
        "Constraints:\n",
        "\n",
        "1 <= prices.length <= 100\n",
        "0 <= prices[i] <= 100\n"
      ],
      "metadata": {
        "id": "SLGsNRif04uC"
      }
    },
    {
      "cell_type": "code",
      "source": [
        "min_price = float('inf')\n",
        "print(min_price)"
      ],
      "metadata": {
        "colab": {
          "base_uri": "https://localhost:8080/"
        },
        "id": "w8XSqJAbdOCg",
        "outputId": "dbf44763-66bd-4c43-b4af-69e71e71b5fe"
      },
      "execution_count": null,
      "outputs": [
        {
          "output_type": "stream",
          "name": "stdout",
          "text": [
            "inf\n"
          ]
        }
      ]
    },
    {
      "cell_type": "code",
      "source": [
        "class Solution:\n",
        "    def maxProfit(self, prices):\n",
        "        if not prices:\n",
        "            return 0\n",
        "        min_price = float('inf')\n",
        "        max_profit = 0\n",
        "\n",
        "        for price in prices:\n",
        "            if price < min_price:\n",
        "                min_price = price\n",
        "            potential_profit = price - min_price\n",
        "            if potential_profit > max_profit:\n",
        "                max_profit = potential_profit\n",
        "        return max_profit"
      ],
      "metadata": {
        "id": "stjXL96gpmOg",
        "colab": {
          "base_uri": "https://localhost:8080/"
        },
        "outputId": "9bd8d4be-a74f-4d81-f377-8753a6baec91"
      },
      "execution_count": null,
      "outputs": [
        {
          "output_type": "stream",
          "name": "stdout",
          "text": [
            "1\n",
            "6\n",
            "5\n"
          ]
        }
      ]
    },
    {
      "cell_type": "markdown",
      "source": [
        "## Day 19"
      ],
      "metadata": {
        "id": "17e48yg5fBzU"
      }
    },
    {
      "cell_type": "markdown",
      "source": [
        "Longest Substring Without Duplicates\n",
        "Given a string s, find the length of the longest substring without duplicate characters.\n",
        "\n",
        "A substring is a contiguous sequence of characters within a string.\n",
        "\n",
        "Example 1:\n",
        "\n",
        "Input: s = \"zxyzxyz\"\n",
        "\n",
        "Output: 3\n",
        "Explanation: The string \"xyz\" is the longest without duplicate characters.\n",
        "\n",
        "Example 2:\n",
        "\n",
        "Input: s = \"xxxx\"\n",
        "\n",
        "Output: 1\n",
        "Constraints:\n",
        "\n",
        "0 <= s.length <= 1000\n",
        "s may consist of printable ASCII characters.\n"
      ],
      "metadata": {
        "id": "mGUHqMAgeku8"
      }
    },
    {
      "cell_type": "code",
      "source": [
        "s = \"pwwkew\".lower()\n",
        "hashmap = set()\n",
        "for i in s:\n",
        "  if 97 <= ord(i) and 122  >= ord(i):\n",
        "    hashmap.add(i)\n",
        "  elif 48 <= ord(i) and 57 >= ord(i):\n",
        "    hashmap.add(i)\n",
        "\n",
        "print(len(hashmap))"
      ],
      "metadata": {
        "id": "MFkMNwele4Ue",
        "colab": {
          "base_uri": "https://localhost:8080/"
        },
        "outputId": "c1ccbe02-9ad0-47f1-cac6-a2018a6fd00a"
      },
      "execution_count": null,
      "outputs": [
        {
          "output_type": "stream",
          "name": "stdout",
          "text": [
            "4\n"
          ]
        }
      ]
    },
    {
      "cell_type": "code",
      "source": [
        "def longest_substring_without_repeating_characters(s):\n",
        "    char_index = {}\n",
        "    longest = 0\n",
        "    start = 0\n",
        "\n",
        "    for i, char in enumerate(s):\n",
        "        if char in char_index and char_index[char] >= start:\n",
        "            start = char_index[char] + 1\n",
        "        char_index[char] = i\n",
        "        longest = max(longest, i - start + 1)\n",
        "\n",
        "    return longest\n",
        "\n",
        "s = \"pwwkew\"\n",
        "print(longest_substring_without_repeating_characters(s))"
      ],
      "metadata": {
        "colab": {
          "base_uri": "https://localhost:8080/"
        },
        "id": "oADZjSN7fwPc",
        "outputId": "db9ceec5-2bb0-4e70-e7ed-700a260dc42d"
      },
      "execution_count": null,
      "outputs": [
        {
          "output_type": "stream",
          "name": "stdout",
          "text": [
            "3\n"
          ]
        }
      ]
    },
    {
      "cell_type": "code",
      "source": [
        "s = \"pwwkew\"\n",
        "char_index = {}\n",
        "longest = 0\n",
        "start = 0\n",
        "for i, char in enumerate(s):\n",
        "  if char in char_index and char_index[char] >= start:\n",
        "    start = char_index[char] + 1\n",
        "  char_index[char] = i\n",
        "  longest = max(longest, i-start+1)\n",
        "print(char_index)\n",
        "print(longest)"
      ],
      "metadata": {
        "colab": {
          "base_uri": "https://localhost:8080/"
        },
        "id": "7rD8x1Ytk3Rg",
        "outputId": "846d2a1a-229a-438a-f855-4ffba6ceecf7"
      },
      "execution_count": null,
      "outputs": [
        {
          "output_type": "stream",
          "name": "stdout",
          "text": [
            "{'p': 0, 'w': 5, 'k': 3, 'e': 4}\n",
            "3\n"
          ]
        }
      ]
    },
    {
      "cell_type": "code",
      "source": [
        "s = \"AAABABB\"\n",
        "char_index = {}\n",
        "data = []\n",
        "for i, char in enumerate(s):\n",
        "  if char not in char_index:\n",
        "    char_index[char] = char_index.get(char, 0) + 1\n",
        "\n",
        "char_index"
      ],
      "metadata": {
        "colab": {
          "base_uri": "https://localhost:8080/"
        },
        "id": "6tWrUhSRASsR",
        "outputId": "1a29b3d9-7300-4279-b3a8-3d1e7d3dedd0"
      },
      "execution_count": null,
      "outputs": [
        {
          "output_type": "execute_result",
          "data": {
            "text/plain": [
              "{'A': 1, 'B': 1}"
            ]
          },
          "metadata": {},
          "execution_count": 7
        }
      ]
    },
    {
      "cell_type": "code",
      "source": [
        "def longest_repeating_substring_with_replacement(s, k):\n",
        "    from collections import defaultdict\n",
        "\n",
        "    left = 0\n",
        "    char_count = defaultdict(int)\n",
        "    max_freq = 0\n",
        "    max_length = 0\n",
        "\n",
        "    for right in range(len(s)):\n",
        "        char_count[s[right]] += 1\n",
        "        max_freq = max(max_freq, char_count[s[right]])\n",
        "\n",
        "        # Check if the current window is valid\n",
        "        if (right - left + 1) - max_freq > k:\n",
        "            char_count[s[left]] -= 1\n",
        "            left += 1\n",
        "\n",
        "        max_length = max(max_length, right - left + 1)\n",
        "\n",
        "    return max_length\n",
        "\n",
        "print(longest_repeating_substring_with_replacement(\"AAABABB\", 1))\n"
      ],
      "metadata": {
        "colab": {
          "base_uri": "https://localhost:8080/"
        },
        "id": "bzWMuQirKwIt",
        "outputId": "04dc0994-e675-43fe-fb9c-e09fed9de874"
      },
      "execution_count": null,
      "outputs": [
        {
          "output_type": "stream",
          "name": "stdout",
          "text": [
            "5\n"
          ]
        }
      ]
    },
    {
      "cell_type": "code",
      "source": [
        "from itertools import permutations\n",
        "\n",
        "s1 = \"abc\"\n",
        "s2 = \"lecaabee\"\n",
        "perm = permutations(s1)\n",
        "data = []\n",
        "st = \"\"\n",
        "for i in perm:\n",
        "  for j in i:\n",
        "    st += j\n",
        "  if st in s2:\n",
        "    print(True)\n",
        "    break\n",
        "  st = ''\n",
        "else:\n",
        "  print(False)"
      ],
      "metadata": {
        "colab": {
          "base_uri": "https://localhost:8080/"
        },
        "id": "nL9x6A98OtBS",
        "outputId": "ad135c25-e338-4c25-b0b8-1b8d506dca6c"
      },
      "execution_count": null,
      "outputs": [
        {
          "output_type": "stream",
          "name": "stdout",
          "text": [
            "False\n"
          ]
        }
      ]
    },
    {
      "cell_type": "markdown",
      "source": [
        "Minimum Window With Characters\n",
        "Given two strings s and t, return the shortest substring of s such that every character in t, including duplicates, is present in the substring. If such a substring does not exist, return an empty string \"\".\n",
        "\n",
        "You may assume that the correct output is always unique.\n",
        "\n",
        "Example 1:\n",
        "\n",
        "Input: s = \"OUZODYXAZV\", t = \"XYZ\"\n",
        "\n",
        "Output: \"YXAZ\"\n",
        "\n",
        "Explanation: \"YXAZ\" is the shortest substring that includes \"X\", \"Y\", and \"Z\" from string t.\n",
        "\n",
        "Example 2:\n",
        "\n",
        "Input: s = \"xyz\", t = \"xyz\"\n",
        "\n",
        "Output: \"xyz\"\n",
        "\n",
        "Example 3:\n",
        "\n",
        "Input: s = \"x\", t = \"xy\"\n",
        "\n",
        "Output: \"\"\n",
        "\n",
        "Constraints:\n",
        "\n",
        "1 <= s.length <= 1000\n",
        "1 <= t.length <= 1000\n",
        "s and t consist of uppercase"
      ],
      "metadata": {
        "id": "DZNUjl4ZfnKo"
      }
    },
    {
      "cell_type": "code",
      "source": [
        "t = 'ABC'\n",
        "for i in 'ABC':\n",
        "  if i not in 'ADOBEC':\n",
        "    print('r')\n",
        "    break\n",
        "else:\n",
        "  print(len('ADOBEC'))"
      ],
      "metadata": {
        "colab": {
          "base_uri": "https://localhost:8080/"
        },
        "id": "PRJ6jGI7hwki",
        "outputId": "0b311f6d-35e6-4f79-f05f-090ff9fb103c"
      },
      "execution_count": null,
      "outputs": [
        {
          "output_type": "stream",
          "name": "stdout",
          "text": [
            "6\n"
          ]
        }
      ]
    },
    {
      "cell_type": "code",
      "source": [
        "s=\"ADOBECODEBANC\"\n",
        "t=list(\"ABC\")\n",
        "test = {}\n",
        "st = \"\"\n",
        "for i in s:\n",
        "  st += i\n",
        "  for i in t:\n",
        "    if i not in st:\n",
        "      break\n",
        "  else:\n",
        "    test[st] = len(st)\n",
        "    st = ''\n",
        "test"
      ],
      "metadata": {
        "colab": {
          "base_uri": "https://localhost:8080/"
        },
        "id": "3A3d-VBbcRQ6",
        "outputId": "39c8b85d-4476-41b6-8135-f1aa4dadfa20"
      },
      "execution_count": null,
      "outputs": [
        {
          "output_type": "execute_result",
          "data": {
            "text/plain": [
              "{'ADOBEC': 6, 'ODEBANC': 7}"
            ]
          },
          "metadata": {},
          "execution_count": 36
        }
      ]
    },
    {
      "cell_type": "code",
      "source": [
        "def min_window(s, t):\n",
        "    from collections import Counter\n",
        "\n",
        "    if not s or not t:\n",
        "        return \"\"\n",
        "\n",
        "    target_count = Counter(t)\n",
        "    window_count = Counter()\n",
        "\n",
        "    left = 0\n",
        "    right = 0\n",
        "    have = 0\n",
        "    need = len(target_count)\n",
        "    min_length = float(\"inf\")\n",
        "    min_window_start = 0\n",
        "\n",
        "    while right < len(s):\n",
        "        char = s[right]\n",
        "        window_count[char] += 1\n",
        "\n",
        "        if char in target_count and window_count[char] == target_count[char]:\n",
        "            have += 1\n",
        "\n",
        "        while have == need:\n",
        "            # Update the result\n",
        "            window_length = right - left + 1\n",
        "            if window_length < min_length:\n",
        "                min_length = window_length\n",
        "                min_window_start = left\n",
        "\n",
        "            # Shrink the window\n",
        "            window_count[s[left]] -= 1\n",
        "            if s[left] in target_count and window_count[s[left]] < target_count[s[left]]:\n",
        "                have -= 1\n",
        "            left += 1\n",
        "\n",
        "        right += 1\n",
        "\n",
        "    if min_length == float(\"inf\"):\n",
        "        return \"\"\n",
        "\n",
        "    return s[min_window_start:min_window_start + min_length]\n",
        "\n",
        "# Test cases\n",
        "print(min_window(\"OUZODYXAZV\", \"XYZ\"))  # Output: \"YXAZ\"\n",
        "print(min_window(\"xyz\", \"xyz\"))         # Output: \"xyz\"\n",
        "print(min_window(\"x\", \"xy\"))            # Output: \"\"\n"
      ],
      "metadata": {
        "colab": {
          "base_uri": "https://localhost:8080/"
        },
        "id": "zm9ptaK5jRqK",
        "outputId": "18b3b79d-7ae0-4745-c622-99b9c91d0ed7"
      },
      "execution_count": null,
      "outputs": [
        {
          "output_type": "stream",
          "name": "stdout",
          "text": [
            "YXAZ\n",
            "xyz\n",
            "\n"
          ]
        }
      ]
    },
    {
      "cell_type": "markdown",
      "source": [
        "## Day 20- (InterVP)\n",
        "\n",
        "## Interview Prepration\n",
        "\n",
        "\n",
        "### Programming and Problem-Solving\n",
        "\n",
        "1. **Basic Python Programming**\n",
        "   - **Reverse a String**\n",
        "     ```python\n",
        "     def reverse_string(s):\n",
        "         return s[::-1]\n",
        "\n",
        "     # Example usage\n",
        "     print(reverse_string(\"hello\"))  # Output: \"olle\"\n",
        "     ```\n",
        "\n",
        "   - **Factorial of a Number**\n",
        "     ```python\n",
        "     def factorial(n):\n",
        "         if n == 0:\n",
        "             return 1\n",
        "         else:\n",
        "             return n * factorial(n-1)\n",
        "\n",
        "     # Example usage\n",
        "     print(factorial(5))  # Output: 120\n",
        "     ```\n",
        "\n",
        "   - **Palindrome Check**\n",
        "     ```python\n",
        "     def is_palindrome(n):\n",
        "         return str(n) == str(n)[::-1]\n",
        "\n",
        "     # Example usage\n",
        "     print(is_palindrome(121))  # Output: True\n",
        "     ```\n",
        "\n",
        "2. **Data Structures and Algorithms**\n",
        "   - **Sort a List**\n",
        "     ```python\n",
        "     def sort_list(lst):\n",
        "         return sorted(lst)\n",
        "\n",
        "     # Example usage\n",
        "     print(sort_list([3, 1, 4, 1, 5, 9]))  # Output: [1, 1, 3, 4, 5, 9]\n",
        "     ```\n",
        "\n",
        "   - **Find Maximum and Minimum in a List**\n",
        "     ```python\n",
        "     def find_max_min(lst):\n",
        "         return max(lst), min(lst)\n",
        "\n",
        "     # Example usage\n",
        "     print(find_max_min([3, 1, 4, 1, 5, 9]))  # Output: (9, 1)\n",
        "     ```\n",
        "\n",
        "   - **Binary Search**\n",
        "     ```python\n",
        "     def binary_search(arr, x):\n",
        "         left, right = 0, len(arr) - 1\n",
        "         while left <= right:\n",
        "             mid = (left + right) // 2\n",
        "             if arr[mid] == x:\n",
        "                 return mid\n",
        "             elif arr[mid] < x:\n",
        "                 left = mid + 1\n",
        "             else:\n",
        "                 right = mid - 1\n",
        "         return -1\n",
        "\n",
        "     # Example usage\n",
        "     print(binary_search([1, 2, 3, 4, 5], 3))  # Output: 2\n",
        "     ```\n",
        "\n",
        "3. **Error Handling**\n",
        "   - **Handle Division by Zero**\n",
        "     ```python\n",
        "     try:\n",
        "         result = 10 / 0\n",
        "     except ZeroDivisionError:\n",
        "         print(\"Cannot divide by zero\")\n",
        "     ```\n",
        "\n",
        "   - **Try-Except Blocks**\n",
        "     ```python\n",
        "     try:\n",
        "         num = int(input(\"Enter a number: \"))\n",
        "         print(f\"You entered {num}\")\n",
        "     except ValueError:\n",
        "         print(\"That's not a valid number\")\n",
        "     ```\n",
        "\n",
        "### Back-End Web Development\n",
        "\n",
        "1. **Django Framework**\n",
        "   - **Django Project Architecture**\n",
        "     - **Model**: Defines the data structure.\n",
        "     - **View**: Handles user interface logic.\n",
        "     - **Template**: Renders the HTML pages.\n",
        "     - **URL Configuration**: Maps URLs to views.\n",
        "\n",
        "   - **Django View Handling GET and POST Requests**\n",
        "     ```python\n",
        "     from django.shortcuts import render\n",
        "     from django.http import JsonResponse\n",
        "\n",
        "     def my_view(request):\n",
        "         if request.method == 'GET':\n",
        "             return JsonResponse({\"message\": \"This is a GET request\"})\n",
        "         elif request.method == 'POST':\n",
        "             return JsonResponse({\"message\": \"This is a POST request\"})\n",
        "     ```\n",
        "\n",
        "   - **Database Migrations in Django**\n",
        "     ```bash\n",
        "     python manage.py makemigrations\n",
        "     python manage.py migrate\n",
        "     ```\n",
        "\n",
        "2. **Flask Framework**\n",
        "   - **Simple Flask API Endpoint**\n",
        "     ```python\n",
        "     from flask import Flask, jsonify\n",
        "\n",
        "     app = Flask(__name__)\n",
        "\n",
        "     @app.route('/api', methods=['GET'])\n",
        "     def get_api():\n",
        "         return jsonify({\"message\": \"Hello, World!\"})\n",
        "\n",
        "     if __name__ == '__main__':\n",
        "         app.run(debug=True)\n",
        "     ```\n",
        "\n",
        "   - **Differences between Django and Flask**\n",
        "     - **Django**: Full-fledged framework with built-in features like ORM, authentication, and admin panel.\n",
        "     - **Flask**: Lightweight and flexible micro-framework with fewer built-in features, giving more control to the developer.\n",
        "\n",
        "3. **API Development**\n",
        "   - **Creating a RESTful API in Django**\n",
        "     ```python\n",
        "     # serializers.py\n",
        "     from rest_framework import serializers\n",
        "     from .models import MyModel\n",
        "\n",
        "     class MyModelSerializer(serializers.ModelSerializer):\n",
        "         class Meta:\n",
        "             model = MyModel\n",
        "             fields = '__all__'\n",
        "     ```\n",
        "\n",
        "     ```python\n",
        "     # views.py\n",
        "     from rest_framework import viewsets\n",
        "     from .models import MyModel\n",
        "     from .serializers import MyModelSerializer\n",
        "\n",
        "     class MyModelViewSet(viewsets.ModelViewSet):\n",
        "         queryset = MyModel.objects.all()\n",
        "         serializer_class = MyModelSerializer\n",
        "     ```\n",
        "\n",
        "     ```python\n",
        "     # urls.py\n",
        "     from django.urls import path, include\n",
        "     from rest_framework.routers import DefaultRouter\n",
        "     from .views import MyModelViewSet\n",
        "\n",
        "     router = DefaultRouter()\n",
        "     router.register(r'mymodel', MyModelViewSet)\n",
        "\n",
        "     urlpatterns = [\n",
        "         path('', include(router.urls)),\n",
        "     ]\n",
        "     ```\n",
        "\n",
        "### JavaScript and Front-End Basics\n",
        "\n",
        "1. **JavaScript Fundamentals**\n",
        "   - **`var`, `let`, and `const` Differences**\n",
        "     - `var`: Function-scoped, can be redeclared.\n",
        "     - `let`: Block-scoped, cannot be redeclared.\n",
        "     - `const`: Block-scoped, cannot be redeclared or reassigned.\n",
        "\n",
        "   - **Fetch Data from a Public API**\n",
        "     ```javascript\n",
        "     fetch('https://api.example.com/data')\n",
        "         .then(response => response.json())\n",
        "         .then(data => console.log(data))\n",
        "         .catch(error => console.error('Error:', error));\n",
        "     ```\n",
        "\n",
        "2. **HTML5**\n",
        "   - **HTML5 Document Structure**\n",
        "     ```html\n",
        "     <!DOCTYPE html>\n",
        "     <html lang=\"en\">\n",
        "     <head>\n",
        "         <meta charset=\"UTF-8\">\n",
        "         <meta name=\"viewport\" content=\"width=device-width, initial-scale=1.0\">\n",
        "         <title>Document</title>\n",
        "     </head>\n",
        "     <body>\n",
        "         <header>Header Content</header>\n",
        "         <main>Main Content</main>\n",
        "         <footer>Footer Content</footer>\n",
        "     </body>\n",
        "     </html>\n",
        "     ```\n",
        "\n",
        "   - **HTML5 Semantic Tags**\n",
        "     - `<header>`: Represents introductory content or a set of navigational links.\n",
        "     - `<footer>`: Represents the footer of a document or section.\n",
        "     - `<article>`: Represents a self-contained composition in a document, page, or application.\n",
        "\n",
        "### System Architecture\n",
        "\n",
        "1. **Design Patterns**\n",
        "   - **Model-View-Controller (MVC) Architecture**\n",
        "     - **Model**: Represents the data and the business logic.\n",
        "     - **View**: Displays the data.\n",
        "     - **Controller**: Handles the input and updates the model.\n",
        "\n",
        "   - **Singleton Design Pattern in Python**\n",
        "     ```python\n",
        "     class Singleton:\n",
        "         _instance = None\n",
        "\n",
        "         def __new__(cls, *args, **kwargs):\n",
        "             if not cls._instance:\n",
        "                 cls._instance = super().__new__(cls, *args, **kwargs)\n",
        "             return cls._instance\n",
        "     ```\n",
        "\n",
        "2. **Database Design**\n",
        "   - **SQL vs NoSQL**\n",
        "     - **SQL**: Structured query language, relational databases, predefined schema.\n",
        "     - **NoSQL**: Non-relational, flexible schema, can handle unstructured data.\n",
        "\n",
        "   - **Designing a Relational Database Schema for a Blog Application**\n",
        "     ```sql\n",
        "     CREATE TABLE users (\n",
        "         id INT PRIMARY KEY,\n",
        "         username VARCHAR(50) NOT NULL,\n",
        "         email VARCHAR(100) NOT NULL\n",
        "     );\n",
        "\n",
        "     CREATE TABLE posts (\n",
        "         id INT PRIMARY KEY,\n",
        "         user_id INT,\n",
        "         title VARCHAR(100) NOT NULL,\n",
        "         content TEXT NOT NULL,\n",
        "         FOREIGN KEY (user_id) REFERENCES users(id)\n",
        "     );\n",
        "\n",
        "     CREATE TABLE comments (\n",
        "         id INT PRIMARY KEY,\n",
        "         post_id INT,\n",
        "         user_id INT,\n",
        "         content TEXT NOT NULL,\n",
        "         FOREIGN KEY (post_id) REFERENCES posts(id),\n",
        "         FOREIGN KEY (user_id) REFERENCES users(id)\n",
        "     );\n",
        "     ```\n",
        "\n",
        "3. **Scalability and Performance**\n",
        "   - **Strategies to Optimize Web Application Performance**\n",
        "     - Caching\n",
        "     - Database indexing\n",
        "     - Load balancing\n",
        "     - Using CDNs for static assets\n",
        "\n",
        "   - **Horizontal vs Vertical Scaling**\n",
        "     - **Horizontal Scaling**: Adding more machines to handle load.\n",
        "     - **Vertical Scaling**: Increasing the capacity of a single machine.\n",
        "\n",
        "### Sample Assignment Questions\n",
        "\n",
        "1. **Python Coding Challenge**\n",
        "   - **Sum of All Even Numbers**\n",
        "     ```python\n",
        "     def sum_of_even_numbers(lst):\n",
        "         return sum(x for x in lst if x % 2 == 0)\n",
        "\n",
        "     # Example usage\n",
        "     print(sum_of_even_numbers([1, 2, 3, 4, 5, 6]))  # Output: 12\n",
        "     ```\n",
        "\n",
        "   - **Read a CSV File and Display Contents**\n",
        "     ```python\n",
        "     import csv\n",
        "\n",
        "     def read_csv(file_path):\n",
        "         with open(file_path, mode='r') as file:\n",
        "             csv_reader = csv.reader(file)\n",
        "             for row in csv_reader:\n",
        "                 print(row)\n",
        "\n",
        "     # Example usage\n",
        "     read_csv('example.csv')\n",
        "     ```\n",
        "\n",
        "2. **Web Development Task**\n",
        "   - **Simple Django Project**\n",
        "     ```python\n",
        "     # models.py\n",
        "     from django.db import models\n",
        "\n",
        "     class Item(models.Model):\n",
        "         name = models.CharField(max_length=100)\n",
        "         description = models.TextField()\n",
        "\n",
        "     # views.py\n",
        "     from django"
      ],
      "metadata": {
        "id": "aI1zmEqNJ7HL"
      }
    },
    {
      "cell_type": "markdown",
      "source": [
        "**For stack you can visit on this github link**\n",
        "\n",
        "\n",
        "<a href=\"https://github.com/Nayan-Bebale/DSA-Practice/blob/main/12_stack.ipynb\">stack</a>"
      ],
      "metadata": {
        "id": "6QsxkHI1K2x1"
      }
    },
    {
      "cell_type": "markdown",
      "source": [
        "## Day 21\n",
        "\n",
        "Generate Parentheses\n",
        "\n",
        "You are given an integer n. Return all well-formed parentheses strings that you can generate with n pairs of parentheses.\n",
        "\n",
        "Example 1:\n",
        "\n",
        "Input: n = 1\n",
        "\n",
        "Output: [\"()\"]\n",
        "\n",
        "Example 2:\n",
        "\n",
        "Input: n = 3\n",
        "\n",
        "Output: [\"((()))\",\"(()())\",\"(())()\",\"()(())\",\"()()()\"]\n",
        "\n",
        "You may return the answer in any order.\n",
        "\n",
        "Constraints:\n",
        "\n",
        "1 <= n <= 7\n"
      ],
      "metadata": {
        "id": "5RtjrOYc-Sww"
      }
    },
    {
      "cell_type": "code",
      "source": [
        "def generateParenthesis(n):\n",
        "    def backtrack(s, open_count, close_count):\n",
        "        if len(s) == 2 * n:\n",
        "            result.append(s)\n",
        "            return\n",
        "        if open_count < n:\n",
        "            backtrack(s + \"(\", open_count + 1, close_count)\n",
        "        if close_count < open_count:\n",
        "            backtrack(s + \")\", open_count, close_count + 1)\n",
        "\n",
        "    result = []\n",
        "    backtrack(\"\", 0, 0)\n",
        "    return result\n",
        "\n",
        "n = 1\n",
        "print(generateParenthesis(n))\n",
        "\n",
        "n = 3\n",
        "print(generateParenthesis(n))"
      ],
      "metadata": {
        "id": "3e9tfg7XuAed",
        "colab": {
          "base_uri": "https://localhost:8080/"
        },
        "outputId": "3a2c49f6-09a1-406f-bf51-4c9ad036533f"
      },
      "execution_count": null,
      "outputs": [
        {
          "output_type": "stream",
          "name": "stdout",
          "text": [
            "['()']\n",
            "['((()))', '(()())', '(())()', '()(())', '()()()']\n"
          ]
        }
      ]
    },
    {
      "cell_type": "markdown",
      "source": [
        "## Day 22\n",
        "\n",
        "Deep Dive Into Stack Visit on this NoteBook (repo)\n",
        "\n",
        "<a href=\"https://github.com/Nayan-Bebale/DSA-Practice/blob/main/12_stack.ipynb\">Stack Questions</a>"
      ],
      "metadata": {
        "id": "sKHAdASQStFI"
      }
    },
    {
      "cell_type": "markdown",
      "source": [
        "## Day 25\n",
        "\n",
        "Deep Dive Into Stack Visit on this NoteBook (repo)\n",
        "\n",
        "<a href=\"https://github.com/Nayan-Bebale/DSA-Practice/blob/main/12_stack.ipynb\">Stack Questions</a>"
      ],
      "metadata": {
        "id": "2cqjB6WXBkwR"
      }
    },
    {
      "cell_type": "markdown",
      "source": [
        "**Binary Search**\n",
        "\n",
        "You are given an array of distinct integers nums, sorted in ascending order, and an integer target.\n",
        "\n",
        "Implement a function to search for target within nums. If it exists, then return its index, otherwise, return -1.\n",
        "\n",
        "Your solution must run in\n",
        "𝑂\n",
        "(\n",
        "𝑙\n",
        "𝑜\n",
        "𝑔\n",
        "𝑛\n",
        ")\n",
        "O(logn) time.\n",
        "\n",
        "Example 1:\n",
        "\n",
        "Input: nums = [-1,0,2,4,6,8], target = 4\n",
        "\n",
        "Output: 3\n",
        "Example 2:\n",
        "\n",
        "Input: nums = [-1,0,2,4,6,8], target = 3\n",
        "\n",
        "Output: -1\n",
        "Constraints:\n",
        "\n",
        "1 <= nums.length <= 10000.\n",
        "-10000 < nums[i], target < 10000\n"
      ],
      "metadata": {
        "id": "HNqJ_nEJBxZo"
      }
    },
    {
      "cell_type": "code",
      "source": [
        "def binarySearch(nums, target):\n",
        "  n = len(nums)\n",
        "  mid = n//2\n",
        "  mid_value = nums[mid]\n",
        "  if target >= mid_value:\n",
        "    for i in range(mid, n):\n",
        "      if target == nums[i]:\n",
        "        return i\n",
        "  elif target < mid_value:\n",
        "    for i in range(0, mid):\n",
        "      if target == nums[i]:\n",
        "        return i\n",
        "  return -1\n",
        "\n",
        "nums = [-1,0,2,4,6,8]\n",
        "target = 3\n",
        "print(binarySearch(nums, target))\n"
      ],
      "metadata": {
        "id": "-cAMmelN-ejz",
        "colab": {
          "base_uri": "https://localhost:8080/"
        },
        "outputId": "68ff22b0-e9f1-4cf4-d03d-a31a51dcc586"
      },
      "execution_count": null,
      "outputs": [
        {
          "output_type": "stream",
          "name": "stdout",
          "text": [
            "-1\n"
          ]
        }
      ]
    },
    {
      "cell_type": "markdown",
      "source": [
        "**Search 2D Matrix**\n",
        "\n",
        "You are given an m x n 2-D integer array matrix and an integer target.\n",
        "\n",
        "Each row in matrix is sorted in non-decreasing order.\n",
        "The first integer of every row is greater than the last integer of the previous row.\n",
        "Return true if target exists within matrix or false otherwise.\n",
        "\n",
        "Can you write a solution that runs in O(log(m * n)) time?\n",
        "\n",
        "Example 1:\n",
        "\n",
        "\n",
        "<img src=\"https://imagedelivery.net/CLfkmk9Wzy8_9HRyug4EVA/7ca61f56-00d4-4fa0-26cf-56809028ac00/public\"/>\n",
        "\n",
        "\n",
        "Input:\n",
        "matrix = [[1,2,4,8],[10,11,12,13],[14,20,30,40]],\n",
        "\n",
        "target = 10\n",
        "\n",
        "Output: true\n",
        "\n",
        "**Example 2:**\n",
        "\n",
        "<img src=\"https://imagedelivery.net/CLfkmk9Wzy8_9HRyug4EVA/f25f2085-ce04-4447-9cee-f0a66c32a300/public\"/>\n",
        "\n",
        "Input:\n",
        "matrix = [[1,2,4,8],[10,11,12,13],[14,20,30,40]],\n",
        "\n",
        "target = 15\n",
        "\n",
        "Output: false\n",
        "\n",
        "Constraints:\n",
        "\n",
        "m == matrix.length\n",
        "\n",
        "n == matrix[i].length\n",
        "\n",
        "1 <= m, n <= 100\n",
        "\n",
        "-10000 <= matrix[i][j], target <= 10000\n"
      ],
      "metadata": {
        "id": "du0hfJeIGrKT"
      }
    },
    {
      "cell_type": "code",
      "source": [
        "matrix = [\n",
        "    [1, 2, 4, 8],\n",
        "    [10, 11, 12, 13],\n",
        "    [14, 20, 30, 40]\n",
        "]\n",
        "target = 10\n",
        "def search2D(matrix, target):\n",
        "  start = 0\n",
        "  end = len(matrix[0]) - 1\n",
        "  if target <= matrix[0][end]:\n",
        "      for i in range(len(matrix[0])):\n",
        "        if target == matrix[0][i]:\n",
        "          return True\n",
        "  elif matrix[1][0] <= target <= matrix[1][end]:\n",
        "      for i in range(len(matrix[0])):\n",
        "        if target == matrix[1][i]:\n",
        "          return True\n",
        "  elif matrix[2][0] <= target <= matrix[1][end]:\n",
        "    for i in range(len(matrix[0])):\n",
        "        if target == matrix[1][i]:\n",
        "          return True\n",
        "  return False\n",
        "\n",
        "print(search2D(matrix, target))"
      ],
      "metadata": {
        "colab": {
          "base_uri": "https://localhost:8080/"
        },
        "id": "K0kACRB5ERYX",
        "outputId": "9ea76370-3dfa-4a6d-f0bc-b6a0ec004780"
      },
      "execution_count": null,
      "outputs": [
        {
          "output_type": "stream",
          "name": "stdout",
          "text": [
            "True\n"
          ]
        }
      ]
    },
    {
      "cell_type": "code",
      "source": [
        "from typing import List\n",
        "\n",
        "class Solution:\n",
        "    def searchMatrix(self, matrix: List[List[int]], target: int) -> bool:\n",
        "        if not matrix or not matrix[0]:\n",
        "            return False\n",
        "\n",
        "        m, n = len(matrix), len(matrix[0])\n",
        "        left, right = 0, m * n - 1\n",
        "\n",
        "        while left <= right:\n",
        "            mid = (left + right) // 2\n",
        "            mid_value = matrix[mid // n][mid % n]\n",
        "\n",
        "            if mid_value == target:\n",
        "                return True\n",
        "            elif mid_value < target:\n",
        "                left = mid + 1\n",
        "            else:\n",
        "                right = mid - 1\n",
        "\n",
        "        return False\n",
        "\n",
        "matrix1 = [[1, 2, 4, 8], [10, 11, 12, 13], [14, 20, 30, 40]]\n",
        "target1 = 10\n",
        "matrix2 = [[1, 2, 4, 8], [10, 11, 12, 13], [14, 20, 30, 40]]\n",
        "target2 = 15\n",
        "\n",
        "solution = Solution()\n",
        "print(solution.searchMatrix(matrix1, target1))  # Output: True\n",
        "print(solution.searchMatrix(matrix2, target2))  # Output: False"
      ],
      "metadata": {
        "colab": {
          "base_uri": "https://localhost:8080/"
        },
        "id": "R1yOaDx2IVsq",
        "outputId": "a023c522-b9ec-4aac-800e-886b438187ae"
      },
      "execution_count": null,
      "outputs": [
        {
          "output_type": "stream",
          "name": "stdout",
          "text": [
            "True\n",
            "False\n"
          ]
        }
      ]
    },
    {
      "cell_type": "markdown",
      "source": [],
      "metadata": {
        "id": "yGP_KxYRQdw3"
      }
    }
  ]
}