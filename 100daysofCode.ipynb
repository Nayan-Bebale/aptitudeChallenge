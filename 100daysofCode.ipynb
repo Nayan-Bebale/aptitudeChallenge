{
  "nbformat": 4,
  "nbformat_minor": 0,
  "metadata": {
    "colab": {
      "provenance": [],
      "authorship_tag": "ABX9TyMmf7OJs80tFXlihvdsvp7c",
      "include_colab_link": true
    },
    "kernelspec": {
      "name": "python3",
      "display_name": "Python 3"
    },
    "language_info": {
      "name": "python"
    }
  },
  "cells": [
    {
      "cell_type": "markdown",
      "metadata": {
        "id": "view-in-github",
        "colab_type": "text"
      },
      "source": [
        "<a href=\"https://colab.research.google.com/github/Nayan-Bebale/aptitudeChallenge/blob/main/100daysofCode.ipynb\" target=\"_parent\"><img src=\"https://colab.research.google.com/assets/colab-badge.svg\" alt=\"Open In Colab\"/></a>"
      ]
    },
    {
      "cell_type": "markdown",
      "source": [
        "# 100 days of challenge\n",
        "\n",
        "## day 1"
      ],
      "metadata": {
        "id": "Mnsf_5YnfiMB"
      }
    },
    {
      "cell_type": "code",
      "execution_count": null,
      "metadata": {
        "colab": {
          "base_uri": "https://localhost:8080/"
        },
        "id": "mUSUBxJyffjZ",
        "outputId": "851d89d4-9061-4603-bef9-72c1fef32815"
      },
      "outputs": [
        {
          "output_type": "stream",
          "name": "stdout",
          "text": [
            "b\n"
          ]
        }
      ],
      "source": [
        "strings = ['d', 'b', 'c', 'b', 'c', 'a']\n",
        "k = 2\n",
        "unique = set(strings)\n",
        "list_unique = list(unique)\n",
        "\n",
        "if len(list_unique) >= k:\n",
        "  print(list_unique[k-1])\n",
        "else:\n",
        "  print(\" \")\n"
      ]
    },
    {
      "cell_type": "code",
      "source": [
        "strings = ['d', 'b', 'c', 'b', 'c', 'a']\n",
        "k = 2\n",
        "strings.sort()\n",
        "hashmap = list()\n",
        "for i in range(0, len(strings)):\n",
        "  if i not in hashmap:\n",
        "    hashmap.append(strings[i])\n",
        "\n",
        "if len(hashmap) >= k:\n",
        "  print(hashmap[k-1])\n",
        "else:\n",
        "  print(\"\")"
      ],
      "metadata": {
        "colab": {
          "base_uri": "https://localhost:8080/"
        },
        "id": "zKPctXNbggK7",
        "outputId": "17be962b-e7dd-4361-d8a4-3a883a98fbf9"
      },
      "execution_count": null,
      "outputs": [
        {
          "output_type": "stream",
          "name": "stdout",
          "text": [
            "b\n"
          ]
        }
      ]
    },
    {
      "cell_type": "code",
      "source": [
        "string_count = {}\n",
        "for s in strings:\n",
        "    if s in string_count:\n",
        "        string_count[s] += 1\n",
        "    else:\n",
        "        string_count[s] = 1\n",
        "\n",
        "# List to collect unique strings in order of first appearance\n",
        "unique_strings = [s for s in strings if string_count[s] == 1]\n",
        "\n",
        "# Return the k-th unique string if it exists, else return an empty string\n",
        "if len(unique_strings) >= k:\n",
        "    print(unique_strings[k-1])\n",
        "else:\n",
        "    print(\"\")"
      ],
      "metadata": {
        "colab": {
          "base_uri": "https://localhost:8080/"
        },
        "id": "h_a9jvkbikYZ",
        "outputId": "4fa63582-6c20-4534-9de9-11f94ae11fcf"
      },
      "execution_count": null,
      "outputs": [
        {
          "output_type": "stream",
          "name": "stdout",
          "text": [
            "d\n"
          ]
        }
      ]
    },
    {
      "cell_type": "code",
      "source": [
        "n= 5\n",
        "k = 2\n",
        "strings = 'abdfa'\n",
        "new = strings[::-1]\n",
        "print(new)\n",
        "print(new[k-1])"
      ],
      "metadata": {
        "colab": {
          "base_uri": "https://localhost:8080/"
        },
        "id": "rT8nEVr2nyn0",
        "outputId": "a91a77ae-f21c-470f-ca6c-a77bfe8909f4"
      },
      "execution_count": null,
      "outputs": [
        {
          "output_type": "stream",
          "name": "stdout",
          "text": [
            "afdba\n",
            "f\n"
          ]
        }
      ]
    },
    {
      "cell_type": "code",
      "source": [
        "pairs = [1, 1, 2, 12, 4, 9]\n",
        "dict_pair = {}\n",
        "for i in range(0, len(pairs)-1, 2):\n",
        "  dict_pair[pairs[i]] = pairs[i+1]\n",
        "\n",
        "for l, r in dict_pair.items():\n",
        "  if r >= 2*l:\n",
        "    b = round((r+1)/2)\n",
        "    result = r-b\n",
        "    print(result)\n",
        "  else:\n",
        "    result = r - 1\n",
        "    print(result)"
      ],
      "metadata": {
        "colab": {
          "base_uri": "https://localhost:8080/"
        },
        "id": "XeI0jES9wmAO",
        "outputId": "e9899441-4258-4266-88e4-615aa085e98a"
      },
      "execution_count": null,
      "outputs": [
        {
          "output_type": "stream",
          "name": "stdout",
          "text": [
            "0\n",
            "6\n",
            "4\n"
          ]
        }
      ]
    },
    {
      "cell_type": "code",
      "source": [
        "s = ['1', '2', '1', '3', '2', '5', '4', '4']\n",
        "dict_count = {}\n",
        "for i in range(0, len(s)-1, 2):\n",
        "  dict_count[s[i+1]] = s[i]\n",
        "values = [value for key, value in dict_count.items()]\n",
        "min_gain = min(values)\n",
        "max_gain = max(values)\n",
        "\n",
        "# one-liner\n",
        "max_key = int(list(dict_count.keys())[list(dict_count.values()).index(max_gain)])\n",
        "min_key= int(list(dict_count.keys())[list(dict_count.values()).index(min_gain)])\n",
        "\n",
        "print(max_key-min_key)"
      ],
      "metadata": {
        "colab": {
          "base_uri": "https://localhost:8080/"
        },
        "id": "VJUse8nftIQp",
        "outputId": "e7cf353c-1650-4087-ccff-8d9cdca4b63b"
      },
      "execution_count": null,
      "outputs": [
        {
          "output_type": "stream",
          "name": "stdout",
          "text": [
            "4 2\n",
            "2\n"
          ]
        }
      ]
    },
    {
      "cell_type": "code",
      "source": [
        "# creating a new dictionary\n",
        "my_dict ={\"Java\":100, \"Python\":112, \"C\":11}\n",
        "\n",
        "# one-liner\n",
        "max_key = int(list(dict_count.keys())[list(dict_count.values()).index(max_gain)])\n",
        "min_key= int(list(dict_count.keys())[list(dict_count.values()).index(min_gain)])\n",
        "print(max_key, min_key)\n",
        "print(max_key-min_key)"
      ],
      "metadata": {
        "colab": {
          "base_uri": "https://localhost:8080/"
        },
        "id": "_HYORX5v3ilr",
        "outputId": "4c6cca30-3bf4-4e41-b8a1-56d79484997e"
      },
      "execution_count": null,
      "outputs": [
        {
          "output_type": "stream",
          "name": "stdout",
          "text": [
            "4 2\n",
            "2\n"
          ]
        }
      ]
    },
    {
      "cell_type": "code",
      "source": [
        "strings = ['d', 'b', 'c', 'b', 'c', 'a']\n",
        "k = 2\n",
        "\n",
        "distinct= {}\n",
        "unique = []\n",
        "for i in strings:\n",
        "  if i in distinct:\n",
        "    distinct[i] += 1\n",
        "  else:\n",
        "    distinct[i] = 1\n",
        "\n",
        "unique = [key for key, value in distinct.items() if value == 1]\n",
        "\n",
        "if len(unique) >= k:\n",
        "  print(unique[k-1])\n",
        "else:\n",
        "  print(\"\")\n"
      ],
      "metadata": {
        "id": "Ml-HooF2hcQT",
        "colab": {
          "base_uri": "https://localhost:8080/"
        },
        "outputId": "d91d6918-f685-4f31-f9b2-9b86a5b8fe05"
      },
      "execution_count": null,
      "outputs": [
        {
          "output_type": "stream",
          "name": "stdout",
          "text": [
            "a\n"
          ]
        }
      ]
    },
    {
      "cell_type": "markdown",
      "source": [
        "## Day 2"
      ],
      "metadata": {
        "id": "aJOKrqvalNCl"
      }
    },
    {
      "cell_type": "markdown",
      "source": [
        "Problem Statement\n",
        "\n",
        "In a lively car showroom, an array of cars awaits, each with its distinctive features. Picture yourself mixing and matching these cars in unique combinations to create dream blends which has a fscore equal to the XOR value of the combination.\n",
        "\n",
        "Your mission: compute the blend score, which is the XOR of the fscore values for all these dreamy combinations.\n",
        "\n",
        "Now, it's time to reveal the grand total!\n",
        "\n",
        "Input Format\n",
        "The first line of input consists of the integer n – representing the number of cars in the showroom.\n",
        "\n",
        "The second line consists of n integers - representing the features of the car.\n",
        "\n",
        "Output Format\n",
        "Print the sum of fscore obtained.\n",
        "```\n",
        "Constraints\n",
        "1 <= n<= 10000\n",
        "\n",
        "0 <= fi <= 10000.\n",
        "\n",
        "Sample Testcase 0\n",
        "Testcase Input\n",
        "5\n",
        "4 3 5 1 2\n",
        "Testcase Output\n",
        "3\n",
        "Explanation\n",
        "The xor of all the combinations possible is:\n",
        "```\n",
        "`\n",
        "4 ^ (4^3) ^ (4^3^5) ^ (4^3^5^1) ^ (4^3^5^1^2) ^ (3) ^ (3^5) ^ (3^5^1) ^ (3^5^1^2) ^ (5) ^ (5^1) ^ (5^1^2) ^ (1) ^ (1^2) ^ 2 = 3\n",
        "`\n",
        "```\n",
        "Sample Testcase 1\n",
        "Testcase Input\n",
        "4\n",
        "1 4 5 2\n",
        "Testcase Output\n",
        "0\n",
        "```"
      ],
      "metadata": {
        "id": "xRsnODo4_0UH"
      }
    },
    {
      "cell_type": "code",
      "source": [
        "import math\n",
        "def justCheck(arr, val):\n",
        "  if val in [0, 1]:\n",
        "    return 0\n",
        "  else:\n",
        "    print(arr)\n",
        "    print(val)\n",
        "    return math.pow(arr[val-1], justCheck(arr, val-1))\n",
        "arr = [4, 3, 5, 1, 2]\n",
        "justCheck(arr, len(arr))"
      ],
      "metadata": {
        "colab": {
          "base_uri": "https://localhost:8080/"
        },
        "id": "Ld_H43Cx88pJ",
        "outputId": "d609646f-503c-47d7-8196-936cd5c9189e"
      },
      "execution_count": null,
      "outputs": [
        {
          "output_type": "stream",
          "name": "stdout",
          "text": [
            "[4, 3, 5, 1, 2]\n",
            "5\n",
            "[4, 3, 5, 1, 2]\n",
            "4\n",
            "[4, 3, 5, 1, 2]\n",
            "3\n",
            "[4, 3, 5, 1, 2]\n",
            "2\n"
          ]
        },
        {
          "output_type": "execute_result",
          "data": {
            "text/plain": [
              "2.0"
            ]
          },
          "metadata": {},
          "execution_count": 11
        }
      ]
    },
    {
      "cell_type": "code",
      "source": [
        "from itertools import combinations\n",
        "def blend_score(n, features):\n",
        "    result = 0\n",
        "    for r in range(1, n+1):\n",
        "        for combo in combinations(features, r):\n",
        "            combo_xor = 0\n",
        "            for num in combo:\n",
        "                combo_xor ^= num\n",
        "                result = math.pow(combo_xor, num)\n",
        "\n",
        "    return result\n",
        "\n",
        "blend_score(5, [4, 3, 5, 1, 2])"
      ],
      "metadata": {
        "colab": {
          "base_uri": "https://localhost:8080/"
        },
        "id": "2jxoqfWYCgZo",
        "outputId": "54a4b353-f562-4efd-aae1-9d6e85c4406d"
      },
      "execution_count": null,
      "outputs": [
        {
          "output_type": "execute_result",
          "data": {
            "text/plain": [
              "1.0"
            ]
          },
          "metadata": {},
          "execution_count": 22
        }
      ]
    },
    {
      "cell_type": "code",
      "source": [
        "def blend_score(n, features):\n",
        "    # Initialize the result\n",
        "    result = 0\n",
        "\n",
        "    # The count of combinations each element appears in is 2^(n-1)\n",
        "    count = 2 ** (n - 1)\n",
        "\n",
        "    # If count is odd, the element will contribute to the final XOR\n",
        "    if count % 2 == 1:\n",
        "        for feature in features:\n",
        "            result ^= feature\n",
        "\n",
        "    return result\n",
        "\n",
        "blend_score(5, [4, 3, 5, 1, 2])"
      ],
      "metadata": {
        "colab": {
          "base_uri": "https://localhost:8080/"
        },
        "id": "WaVbF5tLJUq-",
        "outputId": "3f390b4f-d977-4193-e11d-e49bab38c604"
      },
      "execution_count": null,
      "outputs": [
        {
          "output_type": "execute_result",
          "data": {
            "text/plain": [
              "0"
            ]
          },
          "metadata": {},
          "execution_count": 23
        }
      ]
    },
    {
      "cell_type": "code",
      "source": [
        "def blend_score(features):\n",
        "\n",
        "    result = features[0]\n",
        "    for feature in features[1:]:\n",
        "      result ^= feature  # XOR operation\n",
        "    return result\n",
        "\n",
        "\n",
        "blend_score([4, 3, 5, 1, 2])"
      ],
      "metadata": {
        "colab": {
          "base_uri": "https://localhost:8080/"
        },
        "id": "_n68Ff_zD9BI",
        "outputId": "4d5f4cea-c46f-48fe-fbb4-a037e533fe90"
      },
      "execution_count": null,
      "outputs": [
        {
          "output_type": "execute_result",
          "data": {
            "text/plain": [
              "1"
            ]
          },
          "metadata": {},
          "execution_count": 27
        }
      ]
    },
    {
      "cell_type": "code",
      "source": [
        "import sys\n",
        "input = sys.stdin.read\n",
        "\n",
        "def max_min_diff(arr):\n",
        "  max_freq = float('-inf')\n",
        "  min_freq = float('inf')\n",
        "\n",
        "  for i in range(len(arr)):\n",
        "    count = 0\n",
        "    for j in range(len(arr)):\n",
        "      if arr[i] == arr[j]:\n",
        "        count += 1\n",
        "\n",
        "    max_freq = max(max_freq, count)\n",
        "    min_freq = min(min_freq, count)\n",
        "  return max_freq - min_freq\n",
        "\n",
        "# Read input\n",
        "data = input().strip().split()\n",
        "q = int(data[0])  # number of queries\n",
        "s = data[1:]  # remaining are the queries\n",
        "\n",
        "min_max = max_min_diff(s)\n",
        "print(min_max)"
      ],
      "metadata": {
        "id": "rZJv2DIPHB3d",
        "colab": {
          "base_uri": "https://localhost:8080/",
          "height": 211
        },
        "outputId": "f42256c1-5a09-4453-b76e-6ddc93a81b0f"
      },
      "execution_count": 1,
      "outputs": [
        {
          "output_type": "error",
          "ename": "IndexError",
          "evalue": "list index out of range",
          "traceback": [
            "\u001b[0;31m---------------------------------------------------------------------------\u001b[0m",
            "\u001b[0;31mIndexError\u001b[0m                                Traceback (most recent call last)",
            "\u001b[0;32m<ipython-input-1-530e27c5f9c5>\u001b[0m in \u001b[0;36m<cell line: 20>\u001b[0;34m()\u001b[0m\n\u001b[1;32m     18\u001b[0m \u001b[0;31m# Read input\u001b[0m\u001b[0;34m\u001b[0m\u001b[0;34m\u001b[0m\u001b[0m\n\u001b[1;32m     19\u001b[0m \u001b[0mdata\u001b[0m \u001b[0;34m=\u001b[0m \u001b[0minput\u001b[0m\u001b[0;34m(\u001b[0m\u001b[0;34m)\u001b[0m\u001b[0;34m.\u001b[0m\u001b[0mstrip\u001b[0m\u001b[0;34m(\u001b[0m\u001b[0;34m)\u001b[0m\u001b[0;34m.\u001b[0m\u001b[0msplit\u001b[0m\u001b[0;34m(\u001b[0m\u001b[0;34m)\u001b[0m\u001b[0;34m\u001b[0m\u001b[0;34m\u001b[0m\u001b[0m\n\u001b[0;32m---> 20\u001b[0;31m \u001b[0mq\u001b[0m \u001b[0;34m=\u001b[0m \u001b[0mint\u001b[0m\u001b[0;34m(\u001b[0m\u001b[0mdata\u001b[0m\u001b[0;34m[\u001b[0m\u001b[0;36m0\u001b[0m\u001b[0;34m]\u001b[0m\u001b[0;34m)\u001b[0m  \u001b[0;31m# number of queries\u001b[0m\u001b[0;34m\u001b[0m\u001b[0;34m\u001b[0m\u001b[0m\n\u001b[0m\u001b[1;32m     21\u001b[0m \u001b[0ms\u001b[0m \u001b[0;34m=\u001b[0m \u001b[0mdata\u001b[0m\u001b[0;34m[\u001b[0m\u001b[0;36m1\u001b[0m\u001b[0;34m:\u001b[0m\u001b[0;34m]\u001b[0m  \u001b[0;31m# remaining are the queries\u001b[0m\u001b[0;34m\u001b[0m\u001b[0;34m\u001b[0m\u001b[0m\n\u001b[1;32m     22\u001b[0m \u001b[0;34m\u001b[0m\u001b[0m\n",
            "\u001b[0;31mIndexError\u001b[0m: list index out of range"
          ]
        }
      ]
    },
    {
      "cell_type": "code",
      "source": [
        "s = ['1', '2', '1', '3', '2', '5', '4', '4']\n",
        "\n",
        "index = 1\n",
        "results = []\n",
        "check = int(s[1])\n",
        "for i in range(1, len(s)-1, 2):\n",
        "  val = int(s[i])\n",
        "  print(val)\n",
        "  min_val = min(check, val)\n",
        "  max_val = max(check, val)\n",
        "  check = val\n",
        "\n",
        "\n",
        "print(max_val, min_val)"
      ],
      "metadata": {
        "colab": {
          "base_uri": "https://localhost:8080/"
        },
        "id": "koW8ywMe_T99",
        "outputId": "71d51c60-00c0-498a-99b4-6850b1ac3e67"
      },
      "execution_count": 17,
      "outputs": [
        {
          "output_type": "stream",
          "name": "stdout",
          "text": [
            "2\n",
            "3\n",
            "5\n",
            "5 3\n"
          ]
        }
      ]
    },
    {
      "cell_type": "code",
      "source": [
        "def compute_blend_score(n, features):\n",
        "    total_xor = 0\n",
        "    if n % 2 == 0:\n",
        "        return 0\n",
        "    else:\n",
        "        for feature in features:\n",
        "            total_xor ^= feature\n",
        "    return total_xor\n",
        "\n",
        "# Sample Input\n",
        "n = 5\n",
        "features = [4, 3, 5, 1, 2]\n",
        "\n",
        "# Calculate and Print Output\n",
        "print(compute_blend_score(n, features))  # Output should be 3\n",
        "\n",
        "# Another Sample Input\n",
        "n = 4\n",
        "features = [1, 4, 5, 2]\n",
        "\n",
        "# Calculate and Print Output\n",
        "print(compute_blend_score(n, features))  # Output should be 0\n"
      ],
      "metadata": {
        "colab": {
          "base_uri": "https://localhost:8080/"
        },
        "id": "GXKiyduqCQim",
        "outputId": "59925caf-02ab-472f-e93a-d56849acc917"
      },
      "execution_count": 19,
      "outputs": [
        {
          "output_type": "stream",
          "name": "stdout",
          "text": [
            "1\n",
            "0\n"
          ]
        }
      ]
    },
    {
      "cell_type": "code",
      "source": [
        "# Python3 implementation\n",
        "\n",
        "# Function to return the\n",
        "# maximum xor\n",
        "def max_xor(arr, n):\n",
        "\n",
        "\tmaxXor = 0;\n",
        "\n",
        "\t# Calculating xor of each pair\n",
        "\tfor i in range(n):\n",
        "\t\tfor j in range(i + 1, n):\n",
        "\t\t\tmaxXor = max(maxXor,\\\n",
        "\t\t\t\t\t\tarr[i] ^ arr[j]);\n",
        "\n",
        "\treturn maxXor;\n",
        "\n",
        "# Driver Code\n",
        "if __name__ == '__main__':\n",
        "\n",
        "\tarr = [4, 3, 5, 1, 2];\n",
        "\tn = len(arr);\n",
        "\n",
        "\tprint(max_xor(arr, n));\n",
        "\n",
        "# This code is contributed by 29AjayKumar\n"
      ],
      "metadata": {
        "colab": {
          "base_uri": "https://localhost:8080/"
        },
        "id": "Q2DbnafHTX6t",
        "outputId": "48fb6386-6858-46fe-baa6-49cd35a1049f"
      },
      "execution_count": 20,
      "outputs": [
        {
          "output_type": "stream",
          "name": "stdout",
          "text": [
            "7\n"
          ]
        }
      ]
    },
    {
      "cell_type": "code",
      "source": [
        "# Python program to find minimum\n",
        "# XOR value in an array.\n",
        "\n",
        "# Function to find minimum XOR pair\n",
        "def minXOR(arr, n):\n",
        "\n",
        "\t# Sort given array\n",
        "\tarr.sort();\n",
        "\n",
        "\tmin_xor = 999999\n",
        "\tval = 0\n",
        "\n",
        "\t# calculate min xor of\n",
        "\t# consecutive pairs\n",
        "\tfor i in range (0, n-1):\n",
        "\t\tfor j in range (i+1, n-1):\n",
        "\n",
        "\t\t\t# update minimum xor value\n",
        "\t\t\t# if required\n",
        "\t\t\tval = arr[i] ^ arr[j]\n",
        "\t\t\tmin_xor = min(min_xor, val)\n",
        "\treturn min_xor\n",
        "\n",
        "# Driver program\n",
        "arr = [4, 3, 5, 1, 2]\n",
        "n = len(arr)\n",
        "\n",
        "print(minXOR(arr, n))\n",
        "\n",
        "# This code is contributed by Sam007.\n"
      ],
      "metadata": {
        "colab": {
          "base_uri": "https://localhost:8080/"
        },
        "id": "dvy3BtywUtfR",
        "outputId": "6feb07f7-cb5b-4f3d-e99f-ee2d450d9e08"
      },
      "execution_count": 21,
      "outputs": [
        {
          "output_type": "stream",
          "name": "stdout",
          "text": [
            "1\n"
          ]
        }
      ]
    },
    {
      "cell_type": "code",
      "source": [
        "def compute_blend_score(n, features):\n",
        "    total_xor = 0\n",
        "    if n % 2 == 0:\n",
        "        return 0\n",
        "    else:\n",
        "        for feature in features:\n",
        "            total_xor ^= feature\n",
        "    return total_xor\n",
        "\n",
        "# Sample Input\n",
        "n = 5\n",
        "features = [4, 3, 5, 1, 2]\n",
        "\n",
        "# Calculate and Print Output\n",
        "print(compute_blend_score(n, features))  # Output should be 3\n",
        "\n",
        "# Another Sample Input\n",
        "n = 4\n",
        "features = [1, 4, 5, 2]\n",
        "\n",
        "# Calculate and Print Output\n",
        "print(compute_blend_score(n, features))  # Output should be 0\n"
      ],
      "metadata": {
        "colab": {
          "base_uri": "https://localhost:8080/"
        },
        "id": "yZANrvCRVBs7",
        "outputId": "3508a2ea-1c08-4e65-fa2f-1650bac88d9a"
      },
      "execution_count": 22,
      "outputs": [
        {
          "output_type": "stream",
          "name": "stdout",
          "text": [
            "1\n",
            "0\n"
          ]
        }
      ]
    },
    {
      "cell_type": "code",
      "source": [
        "def compute_blend_score(n, features):\n",
        "    # If n is even, the result is always 0\n",
        "    if n % 2 == 0:\n",
        "        return 0\n",
        "\n",
        "    # If n is odd, compute the XOR of all elements\n",
        "    total_xor = 0\n",
        "    for feature in features:\n",
        "        total_xor ^= feature\n",
        "\n",
        "    return total_xor\n",
        "\n",
        "# Sample Input 0\n",
        "n = 5\n",
        "features = [4, 3, 5, 1, 2]\n",
        "print(compute_blend_score(n, features))  # Output: 3\n",
        "\n",
        "# Sample Input 1\n",
        "n = 4\n",
        "features = [1, 4, 5, 2]\n",
        "print(compute_blend_score(n, features))  # Output: 0\n"
      ],
      "metadata": {
        "colab": {
          "base_uri": "https://localhost:8080/"
        },
        "id": "fVuEPJ3IW2nO",
        "outputId": "82267bc4-3915-491f-d9dc-3274915d4ab3"
      },
      "execution_count": 23,
      "outputs": [
        {
          "output_type": "stream",
          "name": "stdout",
          "text": [
            "1\n",
            "0\n"
          ]
        }
      ]
    },
    {
      "cell_type": "code",
      "source": [],
      "metadata": {
        "id": "hGUjqESqW_Ij"
      },
      "execution_count": null,
      "outputs": []
    }
  ]
}