{
  "nbformat": 4,
  "nbformat_minor": 0,
  "metadata": {
    "colab": {
      "provenance": [],
      "authorship_tag": "ABX9TyPqO6Vmoc03e7k8H1sfFUqh",
      "include_colab_link": true
    },
    "kernelspec": {
      "name": "python3",
      "display_name": "Python 3"
    },
    "language_info": {
      "name": "python"
    }
  },
  "cells": [
    {
      "cell_type": "markdown",
      "metadata": {
        "id": "view-in-github",
        "colab_type": "text"
      },
      "source": [
        "<a href=\"https://colab.research.google.com/github/Nayan-Bebale/aptitudeChallenge/blob/main/100daysofCode.ipynb\" target=\"_parent\"><img src=\"https://colab.research.google.com/assets/colab-badge.svg\" alt=\"Open In Colab\"/></a>"
      ]
    },
    {
      "cell_type": "markdown",
      "source": [
        "# 100 days of challenge\n",
        "\n",
        "## day 1"
      ],
      "metadata": {
        "id": "Mnsf_5YnfiMB"
      }
    },
    {
      "cell_type": "code",
      "execution_count": null,
      "metadata": {
        "colab": {
          "base_uri": "https://localhost:8080/"
        },
        "id": "mUSUBxJyffjZ",
        "outputId": "851d89d4-9061-4603-bef9-72c1fef32815"
      },
      "outputs": [
        {
          "output_type": "stream",
          "name": "stdout",
          "text": [
            "b\n"
          ]
        }
      ],
      "source": [
        "strings = ['d', 'b', 'c', 'b', 'c', 'a']\n",
        "k = 2\n",
        "unique = set(strings)\n",
        "list_unique = list(unique)\n",
        "\n",
        "if len(list_unique) >= k:\n",
        "  print(list_unique[k-1])\n",
        "else:\n",
        "  print(\" \")\n"
      ]
    },
    {
      "cell_type": "code",
      "source": [
        "strings = ['d', 'b', 'c', 'b', 'c', 'a']\n",
        "k = 2\n",
        "strings.sort()\n",
        "hashmap = list()\n",
        "for i in range(0, len(strings)):\n",
        "  if i not in hashmap:\n",
        "    hashmap.append(strings[i])\n",
        "\n",
        "if len(hashmap) >= k:\n",
        "  print(hashmap[k-1])\n",
        "else:\n",
        "  print(\"\")"
      ],
      "metadata": {
        "colab": {
          "base_uri": "https://localhost:8080/"
        },
        "id": "zKPctXNbggK7",
        "outputId": "17be962b-e7dd-4361-d8a4-3a883a98fbf9"
      },
      "execution_count": null,
      "outputs": [
        {
          "output_type": "stream",
          "name": "stdout",
          "text": [
            "b\n"
          ]
        }
      ]
    },
    {
      "cell_type": "code",
      "source": [
        "string_count = {}\n",
        "for s in strings:\n",
        "    if s in string_count:\n",
        "        string_count[s] += 1\n",
        "    else:\n",
        "        string_count[s] = 1\n",
        "\n",
        "# List to collect unique strings in order of first appearance\n",
        "unique_strings = [s for s in strings if string_count[s] == 1]\n",
        "\n",
        "# Return the k-th unique string if it exists, else return an empty string\n",
        "if len(unique_strings) >= k:\n",
        "    print(unique_strings[k-1])\n",
        "else:\n",
        "    print(\"\")"
      ],
      "metadata": {
        "colab": {
          "base_uri": "https://localhost:8080/"
        },
        "id": "h_a9jvkbikYZ",
        "outputId": "4fa63582-6c20-4534-9de9-11f94ae11fcf"
      },
      "execution_count": null,
      "outputs": [
        {
          "output_type": "stream",
          "name": "stdout",
          "text": [
            "d\n"
          ]
        }
      ]
    },
    {
      "cell_type": "code",
      "source": [
        "n= 5\n",
        "k = 2\n",
        "strings = 'abdfa'\n",
        "new = strings[::-1]\n",
        "print(new)\n",
        "print(new[k-1])"
      ],
      "metadata": {
        "colab": {
          "base_uri": "https://localhost:8080/"
        },
        "id": "rT8nEVr2nyn0",
        "outputId": "a91a77ae-f21c-470f-ca6c-a77bfe8909f4"
      },
      "execution_count": null,
      "outputs": [
        {
          "output_type": "stream",
          "name": "stdout",
          "text": [
            "afdba\n",
            "f\n"
          ]
        }
      ]
    },
    {
      "cell_type": "code",
      "source": [
        "pairs = [1, 1, 2, 12, 4, 9]\n",
        "dict_pair = {}\n",
        "for i in range(0, len(pairs)-1, 2):\n",
        "  dict_pair[pairs[i]] = pairs[i+1]\n",
        "\n",
        "for l, r in dict_pair.items():\n",
        "  if r >= 2*l:\n",
        "    b = round((r+1)/2)\n",
        "    result = r-b\n",
        "    print(result)\n",
        "  else:\n",
        "    result = r - 1\n",
        "    print(result)"
      ],
      "metadata": {
        "colab": {
          "base_uri": "https://localhost:8080/"
        },
        "id": "XeI0jES9wmAO",
        "outputId": "e9899441-4258-4266-88e4-615aa085e98a"
      },
      "execution_count": null,
      "outputs": [
        {
          "output_type": "stream",
          "name": "stdout",
          "text": [
            "0\n",
            "6\n",
            "4\n"
          ]
        }
      ]
    },
    {
      "cell_type": "code",
      "source": [
        "s = ['1', '2', '1', '3', '2', '5', '4', '4']\n",
        "dict_count = {}\n",
        "for i in range(0, len(s)-1, 2):\n",
        "  dict_count[s[i+1]] = s[i]\n",
        "values = [value for key, value in dict_count.items()]\n",
        "min_gain = min(values)\n",
        "max_gain = max(values)\n",
        "\n",
        "# one-liner\n",
        "max_key = int(list(dict_count.keys())[list(dict_count.values()).index(max_gain)])\n",
        "min_key= int(list(dict_count.keys())[list(dict_count.values()).index(min_gain)])\n",
        "\n",
        "print(max_key-min_key)"
      ],
      "metadata": {
        "colab": {
          "base_uri": "https://localhost:8080/"
        },
        "id": "VJUse8nftIQp",
        "outputId": "e7cf353c-1650-4087-ccff-8d9cdca4b63b"
      },
      "execution_count": null,
      "outputs": [
        {
          "output_type": "stream",
          "name": "stdout",
          "text": [
            "4 2\n",
            "2\n"
          ]
        }
      ]
    },
    {
      "cell_type": "code",
      "source": [
        "# creating a new dictionary\n",
        "my_dict ={\"Java\":100, \"Python\":112, \"C\":11}\n",
        "\n",
        "# one-liner\n",
        "max_key = int(list(dict_count.keys())[list(dict_count.values()).index(max_gain)])\n",
        "min_key= int(list(dict_count.keys())[list(dict_count.values()).index(min_gain)])\n",
        "print(max_key, min_key)\n",
        "print(max_key-min_key)"
      ],
      "metadata": {
        "colab": {
          "base_uri": "https://localhost:8080/"
        },
        "id": "_HYORX5v3ilr",
        "outputId": "4c6cca30-3bf4-4e41-b8a1-56d79484997e"
      },
      "execution_count": null,
      "outputs": [
        {
          "output_type": "stream",
          "name": "stdout",
          "text": [
            "4 2\n",
            "2\n"
          ]
        }
      ]
    },
    {
      "cell_type": "code",
      "source": [
        "strings = ['d', 'b', 'c', 'b', 'c', 'a']\n",
        "k = 2\n",
        "\n",
        "distinct= {}\n",
        "unique = []\n",
        "for i in strings:\n",
        "  if i in distinct:\n",
        "    distinct[i] += 1\n",
        "  else:\n",
        "    distinct[i] = 1\n",
        "\n",
        "unique = [key for key, value in distinct.items() if value == 1]\n",
        "\n",
        "if len(unique) >= k:\n",
        "  print(unique[k-1])\n",
        "else:\n",
        "  print(\"\")\n"
      ],
      "metadata": {
        "id": "Ml-HooF2hcQT",
        "colab": {
          "base_uri": "https://localhost:8080/"
        },
        "outputId": "d91d6918-f685-4f31-f9b2-9b86a5b8fe05"
      },
      "execution_count": null,
      "outputs": [
        {
          "output_type": "stream",
          "name": "stdout",
          "text": [
            "a\n"
          ]
        }
      ]
    },
    {
      "cell_type": "markdown",
      "source": [
        "## Day 2"
      ],
      "metadata": {
        "id": "aJOKrqvalNCl"
      }
    },
    {
      "cell_type": "markdown",
      "source": [
        "Problem Statement\n",
        "\n",
        "In a lively car showroom, an array of cars awaits, each with its distinctive features. Picture yourself mixing and matching these cars in unique combinations to create dream blends which has a fscore equal to the XOR value of the combination.\n",
        "\n",
        "Your mission: compute the blend score, which is the XOR of the fscore values for all these dreamy combinations.\n",
        "\n",
        "Now, it's time to reveal the grand total!\n",
        "\n",
        "Input Format\n",
        "The first line of input consists of the integer n – representing the number of cars in the showroom.\n",
        "\n",
        "The second line consists of n integers - representing the features of the car.\n",
        "\n",
        "Output Format\n",
        "Print the sum of fscore obtained.\n",
        "```\n",
        "Constraints\n",
        "1 <= n<= 10000\n",
        "\n",
        "0 <= fi <= 10000.\n",
        "\n",
        "Sample Testcase 0\n",
        "Testcase Input\n",
        "5\n",
        "4 3 5 1 2\n",
        "Testcase Output\n",
        "3\n",
        "Explanation\n",
        "The xor of all the combinations possible is:\n",
        "```\n",
        "`\n",
        "4 ^ (4^3) ^ (4^3^5) ^ (4^3^5^1) ^ (4^3^5^1^2) ^ (3) ^ (3^5) ^ (3^5^1) ^ (3^5^1^2) ^ (5) ^ (5^1) ^ (5^1^2) ^ (1) ^ (1^2) ^ 2 = 3\n",
        "`\n",
        "```\n",
        "Sample Testcase 1\n",
        "Testcase Input\n",
        "4\n",
        "1 4 5 2\n",
        "Testcase Output\n",
        "0\n",
        "```"
      ],
      "metadata": {
        "id": "xRsnODo4_0UH"
      }
    },
    {
      "cell_type": "code",
      "source": [
        "import math\n",
        "def justCheck(arr, val):\n",
        "  if val in [0, 1]:\n",
        "    return 0\n",
        "  else:\n",
        "    print(arr)\n",
        "    print(val)\n",
        "    return math.pow(arr[val-1], justCheck(arr, val-1))\n",
        "arr = [4, 3, 5, 1, 2]\n",
        "justCheck(arr, len(arr))"
      ],
      "metadata": {
        "colab": {
          "base_uri": "https://localhost:8080/"
        },
        "id": "Ld_H43Cx88pJ",
        "outputId": "d609646f-503c-47d7-8196-936cd5c9189e"
      },
      "execution_count": null,
      "outputs": [
        {
          "output_type": "stream",
          "name": "stdout",
          "text": [
            "[4, 3, 5, 1, 2]\n",
            "5\n",
            "[4, 3, 5, 1, 2]\n",
            "4\n",
            "[4, 3, 5, 1, 2]\n",
            "3\n",
            "[4, 3, 5, 1, 2]\n",
            "2\n"
          ]
        },
        {
          "output_type": "execute_result",
          "data": {
            "text/plain": [
              "2.0"
            ]
          },
          "metadata": {},
          "execution_count": 11
        }
      ]
    },
    {
      "cell_type": "code",
      "source": [
        "from itertools import combinations\n",
        "def blend_score(n, features):\n",
        "    result = 0\n",
        "    for r in range(1, n+1):\n",
        "        for combo in combinations(features, r):\n",
        "            combo_xor = 0\n",
        "            for num in combo:\n",
        "                combo_xor ^= num\n",
        "                result = math.pow(combo_xor, num)\n",
        "\n",
        "    return result\n",
        "\n",
        "blend_score(5, [4, 3, 5, 1, 2])"
      ],
      "metadata": {
        "colab": {
          "base_uri": "https://localhost:8080/"
        },
        "id": "2jxoqfWYCgZo",
        "outputId": "54a4b353-f562-4efd-aae1-9d6e85c4406d"
      },
      "execution_count": null,
      "outputs": [
        {
          "output_type": "execute_result",
          "data": {
            "text/plain": [
              "1.0"
            ]
          },
          "metadata": {},
          "execution_count": 22
        }
      ]
    },
    {
      "cell_type": "code",
      "source": [
        "def blend_score(n, features):\n",
        "    # Initialize the result\n",
        "    result = 0\n",
        "\n",
        "    # The count of combinations each element appears in is 2^(n-1)\n",
        "    count = 2 ** (n - 1)\n",
        "\n",
        "    # If count is odd, the element will contribute to the final XOR\n",
        "    if count % 2 == 1:\n",
        "        for feature in features:\n",
        "            result ^= feature\n",
        "\n",
        "    return result\n",
        "\n",
        "blend_score(5, [4, 3, 5, 1, 2])"
      ],
      "metadata": {
        "colab": {
          "base_uri": "https://localhost:8080/"
        },
        "id": "WaVbF5tLJUq-",
        "outputId": "3f390b4f-d977-4193-e11d-e49bab38c604"
      },
      "execution_count": null,
      "outputs": [
        {
          "output_type": "execute_result",
          "data": {
            "text/plain": [
              "0"
            ]
          },
          "metadata": {},
          "execution_count": 23
        }
      ]
    },
    {
      "cell_type": "code",
      "source": [
        "def blend_score(features):\n",
        "\n",
        "    result = features[0]\n",
        "    for feature in features[1:]:\n",
        "      result ^= feature  # XOR operation\n",
        "    return result\n",
        "\n",
        "\n",
        "blend_score([4, 3, 5, 1, 2])"
      ],
      "metadata": {
        "colab": {
          "base_uri": "https://localhost:8080/"
        },
        "id": "_n68Ff_zD9BI",
        "outputId": "4d5f4cea-c46f-48fe-fbb4-a037e533fe90"
      },
      "execution_count": null,
      "outputs": [
        {
          "output_type": "execute_result",
          "data": {
            "text/plain": [
              "1"
            ]
          },
          "metadata": {},
          "execution_count": 27
        }
      ]
    },
    {
      "cell_type": "code",
      "source": [
        "import sys\n",
        "input = sys.stdin.read\n",
        "\n",
        "def max_min_diff(arr):\n",
        "  max_freq = float('-inf')\n",
        "  min_freq = float('inf')\n",
        "\n",
        "  for i in range(len(arr)):\n",
        "    count = 0\n",
        "    for j in range(len(arr)):\n",
        "      if arr[i] == arr[j]:\n",
        "        count += 1\n",
        "\n",
        "    max_freq = max(max_freq, count)\n",
        "    min_freq = min(min_freq, count)\n",
        "  return max_freq - min_freq\n",
        "\n",
        "# Read input\n",
        "data = input().strip().split()\n",
        "q = int(data[0])  # number of queries\n",
        "s = data[1:]  # remaining are the queries\n",
        "\n",
        "min_max = max_min_diff(s)\n",
        "print(min_max)"
      ],
      "metadata": {
        "id": "rZJv2DIPHB3d",
        "colab": {
          "base_uri": "https://localhost:8080/",
          "height": 211
        },
        "outputId": "f42256c1-5a09-4453-b76e-6ddc93a81b0f"
      },
      "execution_count": null,
      "outputs": [
        {
          "output_type": "error",
          "ename": "IndexError",
          "evalue": "list index out of range",
          "traceback": [
            "\u001b[0;31m---------------------------------------------------------------------------\u001b[0m",
            "\u001b[0;31mIndexError\u001b[0m                                Traceback (most recent call last)",
            "\u001b[0;32m<ipython-input-1-530e27c5f9c5>\u001b[0m in \u001b[0;36m<cell line: 20>\u001b[0;34m()\u001b[0m\n\u001b[1;32m     18\u001b[0m \u001b[0;31m# Read input\u001b[0m\u001b[0;34m\u001b[0m\u001b[0;34m\u001b[0m\u001b[0m\n\u001b[1;32m     19\u001b[0m \u001b[0mdata\u001b[0m \u001b[0;34m=\u001b[0m \u001b[0minput\u001b[0m\u001b[0;34m(\u001b[0m\u001b[0;34m)\u001b[0m\u001b[0;34m.\u001b[0m\u001b[0mstrip\u001b[0m\u001b[0;34m(\u001b[0m\u001b[0;34m)\u001b[0m\u001b[0;34m.\u001b[0m\u001b[0msplit\u001b[0m\u001b[0;34m(\u001b[0m\u001b[0;34m)\u001b[0m\u001b[0;34m\u001b[0m\u001b[0;34m\u001b[0m\u001b[0m\n\u001b[0;32m---> 20\u001b[0;31m \u001b[0mq\u001b[0m \u001b[0;34m=\u001b[0m \u001b[0mint\u001b[0m\u001b[0;34m(\u001b[0m\u001b[0mdata\u001b[0m\u001b[0;34m[\u001b[0m\u001b[0;36m0\u001b[0m\u001b[0;34m]\u001b[0m\u001b[0;34m)\u001b[0m  \u001b[0;31m# number of queries\u001b[0m\u001b[0;34m\u001b[0m\u001b[0;34m\u001b[0m\u001b[0m\n\u001b[0m\u001b[1;32m     21\u001b[0m \u001b[0ms\u001b[0m \u001b[0;34m=\u001b[0m \u001b[0mdata\u001b[0m\u001b[0;34m[\u001b[0m\u001b[0;36m1\u001b[0m\u001b[0;34m:\u001b[0m\u001b[0;34m]\u001b[0m  \u001b[0;31m# remaining are the queries\u001b[0m\u001b[0;34m\u001b[0m\u001b[0;34m\u001b[0m\u001b[0m\n\u001b[1;32m     22\u001b[0m \u001b[0;34m\u001b[0m\u001b[0m\n",
            "\u001b[0;31mIndexError\u001b[0m: list index out of range"
          ]
        }
      ]
    },
    {
      "cell_type": "code",
      "source": [
        "s = ['1', '2', '1', '3', '2', '5', '4', '4']\n",
        "\n",
        "index = 1\n",
        "results = []\n",
        "check = int(s[1])\n",
        "for i in range(1, len(s)-1, 2):\n",
        "  val = int(s[i])\n",
        "  print(val)\n",
        "  min_val = min(check, val)\n",
        "  max_val = max(check, val)\n",
        "  check = val\n",
        "\n",
        "\n",
        "print(max_val, min_val)"
      ],
      "metadata": {
        "colab": {
          "base_uri": "https://localhost:8080/"
        },
        "id": "koW8ywMe_T99",
        "outputId": "71d51c60-00c0-498a-99b4-6850b1ac3e67"
      },
      "execution_count": null,
      "outputs": [
        {
          "output_type": "stream",
          "name": "stdout",
          "text": [
            "2\n",
            "3\n",
            "5\n",
            "5 3\n"
          ]
        }
      ]
    },
    {
      "cell_type": "code",
      "source": [
        "def compute_blend_score(n, features):\n",
        "    total_xor = 0\n",
        "    if n % 2 == 0:\n",
        "        return 0\n",
        "    else:\n",
        "        for feature in features:\n",
        "            total_xor ^= feature\n",
        "    return total_xor\n",
        "\n",
        "# Sample Input\n",
        "n = 5\n",
        "features = [4, 3, 5, 1, 2]\n",
        "\n",
        "# Calculate and Print Output\n",
        "print(compute_blend_score(n, features))  # Output should be 3\n",
        "\n",
        "# Another Sample Input\n",
        "n = 4\n",
        "features = [1, 4, 5, 2]\n",
        "\n",
        "# Calculate and Print Output\n",
        "print(compute_blend_score(n, features))  # Output should be 0\n"
      ],
      "metadata": {
        "colab": {
          "base_uri": "https://localhost:8080/"
        },
        "id": "GXKiyduqCQim",
        "outputId": "59925caf-02ab-472f-e93a-d56849acc917"
      },
      "execution_count": null,
      "outputs": [
        {
          "output_type": "stream",
          "name": "stdout",
          "text": [
            "1\n",
            "0\n"
          ]
        }
      ]
    },
    {
      "cell_type": "code",
      "source": [
        "# Python3 implementation\n",
        "\n",
        "# Function to return the\n",
        "# maximum xor\n",
        "def max_xor(arr, n):\n",
        "\n",
        "\tmaxXor = 0;\n",
        "\n",
        "\t# Calculating xor of each pair\n",
        "\tfor i in range(n):\n",
        "\t\tfor j in range(i + 1, n):\n",
        "\t\t\tmaxXor = max(maxXor,\\\n",
        "\t\t\t\t\t\tarr[i] ^ arr[j]);\n",
        "\n",
        "\treturn maxXor;\n",
        "\n",
        "# Driver Code\n",
        "if __name__ == '__main__':\n",
        "\n",
        "\tarr = [4, 3, 5, 1, 2];\n",
        "\tn = len(arr);\n",
        "\n",
        "\tprint(max_xor(arr, n));\n",
        "\n",
        "# This code is contributed by 29AjayKumar\n"
      ],
      "metadata": {
        "colab": {
          "base_uri": "https://localhost:8080/"
        },
        "id": "Q2DbnafHTX6t",
        "outputId": "48fb6386-6858-46fe-baa6-49cd35a1049f"
      },
      "execution_count": null,
      "outputs": [
        {
          "output_type": "stream",
          "name": "stdout",
          "text": [
            "7\n"
          ]
        }
      ]
    },
    {
      "cell_type": "code",
      "source": [
        "# Python program to find minimum\n",
        "# XOR value in an array.\n",
        "\n",
        "# Function to find minimum XOR pair\n",
        "def minXOR(arr, n):\n",
        "\n",
        "\t# Sort given array\n",
        "\tarr.sort();\n",
        "\n",
        "\tmin_xor = 999999\n",
        "\tval = 0\n",
        "\n",
        "\t# calculate min xor of\n",
        "\t# consecutive pairs\n",
        "\tfor i in range (0, n-1):\n",
        "\t\tfor j in range (i+1, n-1):\n",
        "\n",
        "\t\t\t# update minimum xor value\n",
        "\t\t\t# if required\n",
        "\t\t\tval = arr[i] ^ arr[j]\n",
        "\t\t\tmin_xor = min(min_xor, val)\n",
        "\treturn min_xor\n",
        "\n",
        "# Driver program\n",
        "arr = [4, 3, 5, 1, 2]\n",
        "n = len(arr)\n",
        "\n",
        "print(minXOR(arr, n))\n",
        "\n",
        "# This code is contributed by Sam007.\n"
      ],
      "metadata": {
        "colab": {
          "base_uri": "https://localhost:8080/"
        },
        "id": "dvy3BtywUtfR",
        "outputId": "6feb07f7-cb5b-4f3d-e99f-ee2d450d9e08"
      },
      "execution_count": null,
      "outputs": [
        {
          "output_type": "stream",
          "name": "stdout",
          "text": [
            "1\n"
          ]
        }
      ]
    },
    {
      "cell_type": "code",
      "source": [
        "def compute_blend_score(n, features):\n",
        "    total_xor = 0\n",
        "    if n % 2 == 0:\n",
        "        return 0\n",
        "    else:\n",
        "        for feature in features:\n",
        "            total_xor ^= feature\n",
        "    return total_xor\n",
        "\n",
        "# Sample Input\n",
        "n = 5\n",
        "features = [4, 3, 5, 1, 2]\n",
        "\n",
        "# Calculate and Print Output\n",
        "print(compute_blend_score(n, features))  # Output should be 3\n",
        "\n",
        "# Another Sample Input\n",
        "n = 4\n",
        "features = [1, 4, 5, 2]\n",
        "\n",
        "# Calculate and Print Output\n",
        "print(compute_blend_score(n, features))  # Output should be 0\n"
      ],
      "metadata": {
        "colab": {
          "base_uri": "https://localhost:8080/"
        },
        "id": "yZANrvCRVBs7",
        "outputId": "3508a2ea-1c08-4e65-fa2f-1650bac88d9a"
      },
      "execution_count": null,
      "outputs": [
        {
          "output_type": "stream",
          "name": "stdout",
          "text": [
            "1\n",
            "0\n"
          ]
        }
      ]
    },
    {
      "cell_type": "code",
      "source": [
        "def compute_blend_score(n, features):\n",
        "    # If n is even, the result is always 0\n",
        "    if n % 2 == 0:\n",
        "        return 0\n",
        "\n",
        "    # If n is odd, compute the XOR of all elements\n",
        "    total_xor = 0\n",
        "    for feature in features:\n",
        "        total_xor ^= feature\n",
        "\n",
        "    return total_xor\n",
        "\n",
        "# Sample Input 0\n",
        "n = 5\n",
        "features = [4, 3, 5, 1, 2]\n",
        "print(compute_blend_score(n, features))  # Output: 3\n",
        "\n",
        "# Sample Input 1\n",
        "n = 4\n",
        "features = [1, 4, 5, 2]\n",
        "print(compute_blend_score(n, features))  # Output: 0\n"
      ],
      "metadata": {
        "colab": {
          "base_uri": "https://localhost:8080/"
        },
        "id": "fVuEPJ3IW2nO",
        "outputId": "82267bc4-3915-491f-d9dc-3274915d4ab3"
      },
      "execution_count": null,
      "outputs": [
        {
          "output_type": "stream",
          "name": "stdout",
          "text": [
            "1\n",
            "0\n"
          ]
        }
      ]
    },
    {
      "cell_type": "markdown",
      "source": [
        "## Day 3"
      ],
      "metadata": {
        "id": "A41vWLoOnNWZ"
      }
    },
    {
      "cell_type": "code",
      "source": [
        "moves = 'UUDDLR'\n",
        "x = 0\n",
        "y = 0\n",
        "for i in moves:\n",
        "  if 'R' == i:\n",
        "    x += 1\n",
        "  elif 'L' == i:\n",
        "    x -= 1\n",
        "  elif 'U' == i:\n",
        "    y += 1\n",
        "  elif 'D' == i:\n",
        "    y -= 1\n",
        "\n",
        "if x == y:\n",
        "  print('yes')\n",
        "else:\n",
        "  print('No')"
      ],
      "metadata": {
        "id": "hGUjqESqW_Ij",
        "colab": {
          "base_uri": "https://localhost:8080/"
        },
        "outputId": "e050008e-2095-4ffa-9ba3-8c2eeb751127"
      },
      "execution_count": null,
      "outputs": [
        {
          "output_type": "stream",
          "name": "stdout",
          "text": [
            "yes\n"
          ]
        }
      ]
    },
    {
      "cell_type": "code",
      "source": [
        "str = '2123'\n",
        "str[::-1]"
      ],
      "metadata": {
        "colab": {
          "base_uri": "https://localhost:8080/",
          "height": 35
        },
        "id": "-Y21moy6nT8X",
        "outputId": "4bb9e142-6e42-45ae-b32f-fe38b282c0e8"
      },
      "execution_count": null,
      "outputs": [
        {
          "output_type": "execute_result",
          "data": {
            "text/plain": [
              "'3212'"
            ],
            "application/vnd.google.colaboratory.intrinsic+json": {
              "type": "string"
            }
          },
          "metadata": {},
          "execution_count": 2
        }
      ]
    },
    {
      "cell_type": "code",
      "source": [
        "def dictionay(s, dictionary):\n",
        "  temp = ''\n",
        "  check = []\n",
        "  for i in s:\n",
        "    temp += i\n",
        "    if temp in dictionary:\n",
        "      check.append(temp)\n",
        "      temp = ''\n",
        "\n",
        "  value = False\n",
        "  for j in dictionary:\n",
        "    if j in check:\n",
        "      value = True\n",
        "    else:\n",
        "      value = False\n",
        "      break\n",
        "\n",
        "  if value:\n",
        "    print('true')\n",
        "  else:\n",
        "    print('false')\n",
        "\n",
        "s = 'applepenapple'\n",
        "dictionary = ['apple', 'pen']\n",
        "dictionay(s, dictionary)"
      ],
      "metadata": {
        "colab": {
          "base_uri": "https://localhost:8080/"
        },
        "id": "uthy0pxdnX1g",
        "outputId": "952dd57f-50ef-4689-87b4-81c665639a2f"
      },
      "execution_count": null,
      "outputs": [
        {
          "output_type": "stream",
          "name": "stdout",
          "text": [
            "true\n"
          ]
        }
      ]
    },
    {
      "cell_type": "code",
      "source": [
        "def can_segment_string(s, dictionary):\n",
        "  for i in range(1, len(s) + 1):\n",
        "    first = s[0:i]\n",
        "    if first in dictionary:\n",
        "      second = s[i:]\n",
        "      if not second or second in dictionary or can_segment_string(second, dictionary):\n",
        "        return True\n",
        "  return False\n",
        "\n",
        "s = \"hellonow\";\n",
        "dictionary= set([\"hello\",\"hell\",\"on\",\"now\"])\n",
        "can_segment_string(s, dictionary)\n"
      ],
      "metadata": {
        "colab": {
          "base_uri": "https://localhost:8080/"
        },
        "id": "aIdmmmTona90",
        "outputId": "954679b9-e414-40e1-f437-b5936eb99573"
      },
      "execution_count": null,
      "outputs": [
        {
          "output_type": "execute_result",
          "data": {
            "text/plain": [
              "True"
            ]
          },
          "metadata": {},
          "execution_count": 5
        }
      ]
    },
    {
      "cell_type": "code",
      "source": [
        "def can_segment(s, dictionary):\n",
        "    n = len(s)\n",
        "    dp = [False] * (n + 1)\n",
        "    dp[0] = True  # Base case: an empty string can be segmented\n",
        "\n",
        "    for i in range(1, n + 1):\n",
        "        for word in dictionary:\n",
        "            if dp[i - len(word)] and s[i - len(word):i] == word:\n",
        "                dp[i] = True\n",
        "                break\n",
        "\n",
        "    return 'true' if dp[n] else 'false'\n",
        "\n",
        "s = 'tttt'\n",
        "dictionary = ['ttt','tt','t']\n",
        "can_segment(s, dictionary)"
      ],
      "metadata": {
        "colab": {
          "base_uri": "https://localhost:8080/",
          "height": 35
        },
        "id": "FGNUgKDZnmN2",
        "outputId": "cc67b34b-9814-400a-d2bc-bc757367fa1b"
      },
      "execution_count": null,
      "outputs": [
        {
          "output_type": "execute_result",
          "data": {
            "text/plain": [
              "'true'"
            ],
            "application/vnd.google.colaboratory.intrinsic+json": {
              "type": "string"
            }
          },
          "metadata": {},
          "execution_count": 6
        }
      ]
    },
    {
      "cell_type": "markdown",
      "source": [
        "### Dynamic Programming or DP\n",
        "\n",
        "**Dynamic Programming** is a method used in mathematics and computer science to solve complex problems by breaking them down into simpler subproblems. By solving each subproblem only once and storing the results, it avoids redundant computations, leading to more efficient solutions for a wide range of problems.\n",
        "\n",
        "<img src=\"https://media.geeksforgeeks.org/wp-content/uploads/20240319104901/dynamic-programming.webp\" height=200px/>\n",
        "\n",
        "<a href=\"https://www.geeksforgeeks.org/dynamic-programming/\">GfG DP</a>"
      ],
      "metadata": {
        "id": "X2ImxpyRnvPj"
      }
    },
    {
      "cell_type": "markdown",
      "source": [
        "**How Does Dynamic Programming (DP) Work?**\n",
        "\n",
        "* **Identify Subproblems**: Divide the main problem into smaller, independent subproblems.\n",
        "* **Store Solutions**: Solve each subproblem and store the solution in a table or array.\n",
        "* **Build Up Solutions**: Use the stored solutions to build up the solution to the main problem.\n",
        "* **Avoid Redundancy**: By storing solutions, DP ensures that each subproblem is solved only once, reducing computation time.\n",
        "\n",
        "\n",
        "\n",
        "**Examples of Dynamic Programming (DP)**\n",
        "\n",
        "Example 1: Consider the problem of finding the Fibonacci sequence:\n",
        "\n",
        "Fibonacci sequence: 0, 1, 1, 2, 3, 5, 8, 13, 21, 34, …\n",
        "\n",
        "**Brute Force Approach:**\n",
        "\n",
        "To find the nth Fibonacci number using a brute force approach, you would simply add the (n-1)th and (n-2)th Fibonacci numbers. This would work, but it would be inefficient for large values of n, as it would require calculating all the previous Fibonacci numbers.\n",
        "\n",
        "Dynamic Programming Approach:\n",
        "\n",
        "\n",
        "Fibonacci Series using Dynamic Programming\n",
        "\n",
        "\n",
        "* **Subproblems**: F(0), F(1), F(2), F(3), …\n",
        "* **Store Solutions**: Create a table to store the values of F(n) as they are calculated.\n",
        "* **Build Up Solutions**: For F(n), look up F(n-1) and F(n-2) in the table and add them.\n",
        "* **Avoid Redundancy**: The table ensures that each subproblem (e.g., F(2)) is solved only once.\n",
        "By using DP, we can efficiently calculate the Fibonacci sequence without having to recompute subproblems.\n",
        "\n",
        "Example 2: Longest common subsequence (finding the longest subsequence that is common to two strings)\n",
        "\n",
        "Example 3: Shortest path in a graph (finding the shortest path between two nodes in a graph)\n",
        "\n",
        "Example 4: Knapsack problem (finding the maximum value of items that can be placed in a knapsack with a given capacity)\n",
        "\n",
        "\n",
        "\n",
        "**Approaches of Dynamic Programming (DP)\n",
        "Dynamic programming can be achieved using two approaches:**\n",
        "\n",
        "1. **Top-Down Approach (Memoization):**\n",
        "In the top-down approach, also known as memoization, we start with the final solution and recursively break it down into smaller subproblems. To avoid redundant calculations, we store the results of solved subproblems in a memoization table.\n",
        "\n",
        "Let’s breakdown Top down approach:\n",
        "\n",
        "* Starts with the final solution and recursively breaks it down into smaller subproblems.\n",
        "* Stores the solutions to subproblems in a table to avoid redundant calculations.\n",
        "* Suitable when the number of subproblems is large and many of them are reused.\n",
        "\n",
        "2. **Bottom-Up Approach (Tabulation):**\n",
        "In the bottom-up approach, also known as tabulation, we start with the smallest subproblems and gradually build up to the final solution. We store the results of solved subproblems in a table to avoid redundant calculations.\n",
        "\n",
        "Let’s breakdown Bottom-up approach:\n",
        "\n",
        "* Starts with the smallest subproblems and gradually builds up to the final solution.\n",
        "* Fills a table with solutions to subproblems in a bottom-up manner.\n",
        "* Suitable when the number of subproblems is small and the optimal solution can be directly computed from the solutions to smaller subproblems.\n",
        "\n",
        "**Dynamic Programming (DP) Algorithm**\n",
        "\n",
        "Dynamic programming is a algorithmic technique that solves complex problems by breaking them down into smaller subproblems and storing their solutions for future use. It is particularly effective for problems that contains overlapping subproblems and optimal substructure.\n",
        "\n",
        "**Common Algorithms that Use Dynamic Programming:**\n",
        "* **Longest Common Subsequence (LCS)**: Finds the longest common subsequence between two strings.\n",
        "* **Shortest Path in a Graph**: Finds the shortest path between two nodes in a graph.\n",
        "* **Knapsack Problem**: Determines the maximum value of items that can be placed in a knapsack with a given capacity.\n",
        "* **Matrix Chain Multiplication**: Optimizes the order of matrix multiplication to minimize the number of operations.\n",
        "* **Fibonacci Sequence**: Calculates the nth Fibonacci number.\n",
        "\n",
        "**Advantages of Dynamic Programming (DP)**\n",
        "Dynamic programming has a wide range of advantages, including:\n",
        "\n",
        "* Avoids recomputing the same subproblems multiple times, leading to significant time savings.\n",
        "* Ensures that the optimal solution is found by considering all possible combinations.\n",
        "* Breaks down complex problems into smaller, more manageable subproblems.\n",
        "* Applications of Dynamic Programming (DP)\n",
        "\n",
        "**Dynamic programming has a wide range of applications, including:**\n",
        "\n",
        "* **Optimization**: Knapsack problem, shortest path problem, maximum subarray problem\n",
        "* **Computer Science**: Longest common subsequence, edit distance, string matching\n",
        "* **Operations Research**: Inventory management, scheduling, resource allocation"
      ],
      "metadata": {
        "id": "5Jz1zOBjpIGE"
      }
    },
    {
      "cell_type": "markdown",
      "source": [
        "**Problem Statement**\n",
        "\n",
        "James has two binary strings, ‘a’ and ‘b’. He asked Jimmy to find the sum of the number of positions at which the corresponding bits are different between a and all contiguous substrings of b of length of a.\n",
        "\n",
        "Help Jimmy to find the total sum.\n",
        "```\n",
        "Input Format\n",
        "The first line of input consists of string a.\n",
        "The second line of input consists of string b.\n",
        "Output Format\n",
        "Print a single line of output consisting of the total sum.\n",
        "\n",
        "Constraints\n",
        "1<= a.length , b.length<= 2 * 105\n",
        "\n",
        "Sample Testcase 0\n",
        "Testcase Input\n",
        "01\n",
        "00111\n",
        "Testcase Output\n",
        "3\n",
        "Explanation\n",
        "For the first sample case, there are four contiguous\n",
        "substrings of b of length |a|: \"00\", \"01\", \"11\", and\n",
        "\"11\". The distance between \"01\" and \"00\" is |0 - 0| + |1 - 0| = 1.\n",
        "The distance between \"01\" and\n",
        "\"01\" is |0 - 0| + |1 - 1| = 0. The distance between \"01\" and\n",
        "\"11\" is |0 - 1| + |1 - 1| = 1.\n",
        " Last distance counts\n",
        "twice, as there are two occurrences of string \"11\".\n",
        "The sum of these edit distances is 1 + 0 + 1 + 1 = 3.\n",
        " ```\n",
        " ```\n",
        "Sample Testcase 1\n",
        "Testcase Input\n",
        "0011\n",
        "0110\n",
        "Testcase Output\n",
        "2\n",
        "Explanation\n",
        "The total distance between string \"0011\" and string \"0110\"\n",
        "is |0 - 0| + |0 - 1| + |1 - 1| + |1 - 0| = 0 + 1 + 0 + 1 = 2.\n",
        "```\n"
      ],
      "metadata": {
        "id": "qZOr86CwQ5ew"
      }
    },
    {
      "cell_type": "code",
      "source": [
        "a = '0011'\n",
        "b = '0110'\n",
        "m = len(a)\n",
        "n = len(b)\n",
        "total_sum = 0\n",
        "\n",
        "for i in range(n-m+1):\n",
        "  sub_b = b[i:i+m]\n",
        "  hamming_distance = 0\n",
        "  for j in range(m):\n",
        "    if a[j] != sub_b[j]:\n",
        "      hamming_distance += 1\n",
        "  total_sum += hamming_distance\n",
        "\n",
        "print(total_sum)"
      ],
      "metadata": {
        "colab": {
          "base_uri": "https://localhost:8080/"
        },
        "id": "keOrptsxnqHK",
        "outputId": "61d523ea-f3eb-4958-ad68-56dc0a5bb546"
      },
      "execution_count": null,
      "outputs": [
        {
          "output_type": "stream",
          "name": "stdout",
          "text": [
            "2\n"
          ]
        }
      ]
    },
    {
      "cell_type": "code",
      "source": [
        "a = '0011'\n",
        "b = '0110'\n",
        "m = len(a)\n",
        "n = len(b)\n",
        "total_sum = 0\n",
        "\n",
        "for i in range(n - m + 1):\n",
        "  sub_b = b[i:i + m]\n",
        "  hamming_distance = 0\n",
        "  for j in range(m):\n",
        "    if a[j] != sub_b[j]:\n",
        "      hamming_distance += 1\n",
        "  total_sum += hamming_distance\n",
        "\n",
        "print(total_sum)"
      ],
      "metadata": {
        "colab": {
          "base_uri": "https://localhost:8080/"
        },
        "id": "h43A-GceS2_l",
        "outputId": "68328189-aca4-4035-926a-4ff042682a4f"
      },
      "execution_count": null,
      "outputs": [
        {
          "output_type": "stream",
          "name": "stdout",
          "text": [
            "2\n"
          ]
        }
      ]
    },
    {
      "cell_type": "markdown",
      "source": [
        "## Day 4\n",
        "\n",
        "```\n",
        "Let the index of last occurence of ch be idx, reverse the string from idx.\n",
        "\n",
        "Input Format\n",
        "First line contains a string s.\n",
        "\n",
        "Output Format\n",
        "Return the transformed string\n",
        "\n",
        "Constraints\n",
        "1<=|s|<=100000\n",
        "\n",
        "Sample Testcase 0\n",
        "Testcase Input\n",
        "abc c\n",
        "Testcase Output\n",
        "abc\n",
        "Explanation\n",
        "Last occurrence of c is the last character of the string, so reversing it won’t change the string.\n",
        "Sample Testcase 1\n",
        "Testcase Input\n",
        "abxcced c\n",
        "Testcase Output\n",
        "abxcdec\n",
        "Explanation\n",
        "The last index of 'c' occuring is:4. Reersing the string from 4th index: \"ced\" to \"dec\".\n",
        "\n",
        "\n",
        "The final string therefore is: \"abxcdec\".\n",
        "\n",
        "```"
      ],
      "metadata": {
        "id": "rM-6D5HNVNSr"
      }
    },
    {
      "cell_type": "code",
      "source": [
        "s = \"abc\"\n",
        "ch = \"c\"\n",
        "if ch not in s:\n",
        "  print(s)\n",
        "rev = s[::-1]\n",
        "re_idx = rev.index(ch)\n",
        "idx = (len(s) - re_idx)-1\n",
        "if idx == 0:\n",
        "  print(s)\n",
        "else:\n",
        "  first = s[:idx]\n",
        "  second = s[idx:]\n",
        "  reverse = second[::-1]\n",
        "  output = first+reverse\n",
        "  print(output)\n"
      ],
      "metadata": {
        "colab": {
          "base_uri": "https://localhost:8080/"
        },
        "id": "2X4RipE2YHH7",
        "outputId": "d0357f89-b050-4165-aa13-9c23514b8b34"
      },
      "execution_count": null,
      "outputs": [
        {
          "output_type": "stream",
          "name": "stdout",
          "text": [
            "abc\n"
          ]
        }
      ]
    },
    {
      "cell_type": "code",
      "source": [
        "s = \"abxcdec\"\n",
        "ch = \"c\"\n",
        "\n",
        "if ch not in s:\n",
        "  print(s)\n",
        "\n",
        "val = s.index(\"c\")\n",
        "print(val)\n",
        "\n",
        "if len(s) == (val-len(s)):\n",
        "  print(s)\n",
        "else:\n",
        "  new = s[:val+1]\n",
        "\n",
        "  new2 = s[val+1:]\n",
        "  revs = new2[::-1]\n",
        "  output = new+revs\n",
        "  print(output)"
      ],
      "metadata": {
        "id": "AtXQ2Qj2TX3L",
        "colab": {
          "base_uri": "https://localhost:8080/"
        },
        "outputId": "b670e024-1435-458d-98de-86adc23fdf1e"
      },
      "execution_count": null,
      "outputs": [
        {
          "output_type": "stream",
          "name": "stdout",
          "text": [
            "0\n",
            "cabxcde\n"
          ]
        }
      ]
    },
    {
      "cell_type": "markdown",
      "source": [
        "```\n",
        "Problem Statement\n",
        "Imagine you have a row of boxes. Each box can be either an \"a\" or a \"b\".\n",
        "\n",
        "To check if it's an ab pattern, you need to make sure that all the \"a\" boxes, if they exist, come before any \"b\" boxes, if they exist.\n",
        "\n",
        "If this order is maintained, it's an ab pattern; otherwise, it's not. Display \"YES\" if it is maintained else \"NO\".\n",
        "\n",
        "Input Format\n",
        "The first line contains a string s, deonting the row of boxes.\n",
        "\n",
        "Output Format\n",
        "If the boxes are in ab pattern print \"YES\" else \"NO\".\n",
        "\n",
        "Constraints\n",
        "1<= s.length <=106\n",
        "\n",
        "Sample Testcase 0\n",
        "Testcase Input\n",
        "aaaaab\n",
        "Testcase Output\n",
        "YES\n",
        "Explanation\n",
        "In the given sequence of boxes:\n",
        "\n",
        "\n",
        "All the boxes with 'a's are occuring before boxes with 'b's.\n",
        "\n",
        "\n",
        "So we print \"YES\".\n",
        "\n",
        "Sample Testcase 1\n",
        "Testcase Input\n",
        "aaba\n",
        "Testcase Output\n",
        "NO\n",
        "Explanation\n",
        "In the given sequence of boxes:\n",
        "\n",
        "\n",
        "The boxes with 'a' at index 3 is occuring after the box with 'b' so it doesn't follow the ab pattern.\n",
        "\n",
        "\n",
        "So we print \"NO\".\n",
        "```"
      ],
      "metadata": {
        "id": "1WtUERBt1wc2"
      }
    },
    {
      "cell_type": "code",
      "source": [
        "s = 'aaaaab'\n",
        "new = s[-1]\n",
        "\n",
        "if new == 'a':\n",
        "  print('No')"
      ],
      "metadata": {
        "id": "jHDyFfeOQWM3"
      },
      "execution_count": null,
      "outputs": []
    },
    {
      "cell_type": "markdown",
      "source": [
        "```\n",
        "Problem Statement\n",
        "Kritika has a collection of 2*n boxes, with n unique labels. Among them, one box is repeated n times.\n",
        "\n",
        "How can Kritika identify and print the label of the repeated box?\n",
        "\n",
        "Input Format\n",
        "An integer 2*n which represents the number of boxes.\n",
        "\n",
        "2*n space-separated integers representing the labels on the boxes.\n",
        "\n",
        "Output Format\n",
        "An integer value representing the label of the box repeated n times.\n",
        "\n",
        "Constraints\n",
        "2 <= n <= 5000\n",
        "number of boxes = 2*n\n",
        "0 <= label[i] <= 10^4\n",
        "Sample Testcase 0\n",
        "Testcase Input\n",
        "6\n",
        "6 5 1 5 5 7\n",
        "Testcase Output\n",
        "5\n",
        "Explanation\n",
        "The number of boxes is 6. And we can see that the boxes with label 5 gets repeated 3 times and therefore we display 5.\n",
        "\n",
        "Sample Testcase 1\n",
        "Testcase Input\n",
        "4\n",
        "0 1 1 2\n",
        "Testcase Output\n",
        "1\n",
        "Explanation\n",
        "The number of boxes is 4. And we can see that the boxes with label 1 gets repeated 2 times and therefore we display 1.\n",
        "```"
      ],
      "metadata": {
        "id": "tpZowrkR5R5n"
      }
    },
    {
      "cell_type": "code",
      "source": [
        "nums = [6, 5, 1, 5, 5, 7]\n",
        "dict_count = {}\n",
        "\n",
        "for i in nums:\n",
        "  dict_count[i] = dict_count.get(i, 0)+1\n",
        "\n",
        "for key, value in dict_count.items():\n",
        "  if value > 1:\n",
        "    print(key)\n"
      ],
      "metadata": {
        "colab": {
          "base_uri": "https://localhost:8080/"
        },
        "id": "9tybUN2j2TPc",
        "outputId": "aac65e4b-0dfb-4b8f-fdb5-625c3e769ba8"
      },
      "execution_count": null,
      "outputs": [
        {
          "output_type": "execute_result",
          "data": {
            "text/plain": [
              "{6: 1, 5: 3, 1: 1, 7: 1}"
            ]
          },
          "metadata": {},
          "execution_count": 3
        }
      ]
    },
    {
      "cell_type": "code",
      "source": [
        "s = \"aaaaa\"\n",
        "sub = ''\n",
        "dict_count = {}\n",
        "for i in s:\n",
        "  sub += i\n",
        "  if sub == sub[::-1]:\n",
        "    dict_count[sub] = len(sub)\n",
        "\n",
        "\n",
        "output = max(dict_count.values())\n",
        "print(output)\n"
      ],
      "metadata": {
        "id": "8z8Udvjq5-ex",
        "colab": {
          "base_uri": "https://localhost:8080/"
        },
        "outputId": "a0d8d159-ee72-4a6e-d2ca-4d016b0bdf34"
      },
      "execution_count": null,
      "outputs": [
        {
          "output_type": "stream",
          "name": "stdout",
          "text": [
            "5\n"
          ]
        }
      ]
    },
    {
      "cell_type": "markdown",
      "source": [
        "##Day 5"
      ],
      "metadata": {
        "id": "kRASFGo0OoET"
      }
    },
    {
      "cell_type": "code",
      "source": [
        "def logest_palindromic_substring_length(s):\n",
        "  n = len(s)\n",
        "  if n == 0:\n",
        "    return 0\n",
        "  dp = [[False] * n for _ in range(n)]\n",
        "\n",
        "  # print(len(dp))\n",
        "  for i in range(n):\n",
        "    dp[i][i] = True\n",
        "\n",
        "  # print(dp)\n",
        "\n",
        "  start = 0\n",
        "\n",
        "  for i in range(n-1):\n",
        "    if s[i] == s[i+1]:\n",
        "      dp[i][i+1] == True\n",
        "      start = i\n",
        "      max_length = 2\n",
        "\n",
        "  for length in range(3, n+1):\n",
        "    for i in range(n-length + 1):\n",
        "      j = i + length - 1\n",
        "      # print(j)\n",
        "      if s[i] == s[j] and dp[i+1][j-1]:\n",
        "        dp[i][j] = True\n",
        "        start = i\n",
        "        max_length = length\n",
        "\n",
        "    return max_length\n",
        "\n",
        "logest_palindromic_substring_length('abacc')"
      ],
      "metadata": {
        "id": "Io7V5daF3VDp",
        "colab": {
          "base_uri": "https://localhost:8080/"
        },
        "outputId": "4320d0f3-66cb-4088-b848-97eabd4a654e"
      },
      "execution_count": null,
      "outputs": [
        {
          "output_type": "execute_result",
          "data": {
            "text/plain": [
              "3"
            ]
          },
          "metadata": {},
          "execution_count": 7
        }
      ]
    },
    {
      "cell_type": "code",
      "source": [
        "gifts = [ 1, 3, 2, 3]\n",
        "gifts = [tuple(map(gifts[i], gifts[i+1])) for i in range(0, len(gifts)-1, 2)]\n",
        "\n",
        "print(gifts)"
      ],
      "metadata": {
        "colab": {
          "base_uri": "https://localhost:8080/",
          "height": 332
        },
        "id": "MyOKWzAyenQh",
        "outputId": "37215c2b-5171-4e8d-c12e-b0ff20cab21f"
      },
      "execution_count": null,
      "outputs": [
        {
          "output_type": "error",
          "ename": "TypeError",
          "evalue": "'int' object is not iterable",
          "traceback": [
            "\u001b[0;31m---------------------------------------------------------------------------\u001b[0m",
            "\u001b[0;31mTypeError\u001b[0m                                 Traceback (most recent call last)",
            "\u001b[0;32m<ipython-input-22-0c8165bc8f05>\u001b[0m in \u001b[0;36m<cell line: 2>\u001b[0;34m()\u001b[0m\n\u001b[1;32m      1\u001b[0m \u001b[0mgifts\u001b[0m \u001b[0;34m=\u001b[0m \u001b[0;34m[\u001b[0m \u001b[0;36m1\u001b[0m\u001b[0;34m,\u001b[0m \u001b[0;36m3\u001b[0m\u001b[0;34m,\u001b[0m \u001b[0;36m2\u001b[0m\u001b[0;34m,\u001b[0m \u001b[0;36m3\u001b[0m\u001b[0;34m]\u001b[0m\u001b[0;34m\u001b[0m\u001b[0;34m\u001b[0m\u001b[0m\n\u001b[0;32m----> 2\u001b[0;31m \u001b[0mgifts\u001b[0m \u001b[0;34m=\u001b[0m \u001b[0;34m[\u001b[0m\u001b[0mtuple\u001b[0m\u001b[0;34m(\u001b[0m\u001b[0mmap\u001b[0m\u001b[0;34m(\u001b[0m\u001b[0mgifts\u001b[0m\u001b[0;34m[\u001b[0m\u001b[0mi\u001b[0m\u001b[0;34m]\u001b[0m\u001b[0;34m,\u001b[0m \u001b[0mgifts\u001b[0m\u001b[0;34m[\u001b[0m\u001b[0mi\u001b[0m\u001b[0;34m+\u001b[0m\u001b[0;36m1\u001b[0m\u001b[0;34m]\u001b[0m\u001b[0;34m)\u001b[0m\u001b[0;34m)\u001b[0m \u001b[0;32mfor\u001b[0m \u001b[0mi\u001b[0m \u001b[0;32min\u001b[0m \u001b[0mrange\u001b[0m\u001b[0;34m(\u001b[0m\u001b[0;36m0\u001b[0m\u001b[0;34m,\u001b[0m \u001b[0mlen\u001b[0m\u001b[0;34m(\u001b[0m\u001b[0mgifts\u001b[0m\u001b[0;34m)\u001b[0m\u001b[0;34m-\u001b[0m\u001b[0;36m1\u001b[0m\u001b[0;34m,\u001b[0m \u001b[0;36m2\u001b[0m\u001b[0;34m)\u001b[0m\u001b[0;34m]\u001b[0m\u001b[0;34m\u001b[0m\u001b[0;34m\u001b[0m\u001b[0m\n\u001b[0m\u001b[1;32m      3\u001b[0m \u001b[0;34m\u001b[0m\u001b[0m\n\u001b[1;32m      4\u001b[0m \u001b[0mprint\u001b[0m\u001b[0;34m(\u001b[0m\u001b[0mgifts\u001b[0m\u001b[0;34m)\u001b[0m\u001b[0;34m\u001b[0m\u001b[0;34m\u001b[0m\u001b[0m\n",
            "\u001b[0;32m<ipython-input-22-0c8165bc8f05>\u001b[0m in \u001b[0;36m<listcomp>\u001b[0;34m(.0)\u001b[0m\n\u001b[1;32m      1\u001b[0m \u001b[0mgifts\u001b[0m \u001b[0;34m=\u001b[0m \u001b[0;34m[\u001b[0m \u001b[0;36m1\u001b[0m\u001b[0;34m,\u001b[0m \u001b[0;36m3\u001b[0m\u001b[0;34m,\u001b[0m \u001b[0;36m2\u001b[0m\u001b[0;34m,\u001b[0m \u001b[0;36m3\u001b[0m\u001b[0;34m]\u001b[0m\u001b[0;34m\u001b[0m\u001b[0;34m\u001b[0m\u001b[0m\n\u001b[0;32m----> 2\u001b[0;31m \u001b[0mgifts\u001b[0m \u001b[0;34m=\u001b[0m \u001b[0;34m[\u001b[0m\u001b[0mtuple\u001b[0m\u001b[0;34m(\u001b[0m\u001b[0mmap\u001b[0m\u001b[0;34m(\u001b[0m\u001b[0mgifts\u001b[0m\u001b[0;34m[\u001b[0m\u001b[0mi\u001b[0m\u001b[0;34m]\u001b[0m\u001b[0;34m,\u001b[0m \u001b[0mgifts\u001b[0m\u001b[0;34m[\u001b[0m\u001b[0mi\u001b[0m\u001b[0;34m+\u001b[0m\u001b[0;36m1\u001b[0m\u001b[0;34m]\u001b[0m\u001b[0;34m)\u001b[0m\u001b[0;34m)\u001b[0m \u001b[0;32mfor\u001b[0m \u001b[0mi\u001b[0m \u001b[0;32min\u001b[0m \u001b[0mrange\u001b[0m\u001b[0;34m(\u001b[0m\u001b[0;36m0\u001b[0m\u001b[0;34m,\u001b[0m \u001b[0mlen\u001b[0m\u001b[0;34m(\u001b[0m\u001b[0mgifts\u001b[0m\u001b[0;34m)\u001b[0m\u001b[0;34m-\u001b[0m\u001b[0;36m1\u001b[0m\u001b[0;34m,\u001b[0m \u001b[0;36m2\u001b[0m\u001b[0;34m)\u001b[0m\u001b[0;34m]\u001b[0m\u001b[0;34m\u001b[0m\u001b[0;34m\u001b[0m\u001b[0m\n\u001b[0m\u001b[1;32m      3\u001b[0m \u001b[0;34m\u001b[0m\u001b[0m\n\u001b[1;32m      4\u001b[0m \u001b[0mprint\u001b[0m\u001b[0;34m(\u001b[0m\u001b[0mgifts\u001b[0m\u001b[0;34m)\u001b[0m\u001b[0;34m\u001b[0m\u001b[0;34m\u001b[0m\u001b[0m\n",
            "\u001b[0;31mTypeError\u001b[0m: 'int' object is not iterable"
          ]
        }
      ]
    },
    {
      "cell_type": "code",
      "source": [
        "gifts = [1, 3, 2, 3]\n",
        "gifts = [tuple(pair) for pair in zip(gifts[::2], gifts[1::2])]\n",
        "\n",
        "print(gifts)\n"
      ],
      "metadata": {
        "colab": {
          "base_uri": "https://localhost:8080/"
        },
        "id": "zWOd5-Lxg_JI",
        "outputId": "b976c2a3-2f8f-495d-c859-b1733ba0f9de"
      },
      "execution_count": null,
      "outputs": [
        {
          "output_type": "stream",
          "name": "stdout",
          "text": [
            "[(1, 3), (2, 3)]\n"
          ]
        }
      ]
    },
    {
      "cell_type": "code",
      "source": [
        "gifts = [ 1, 3, 2, 3]\n",
        "gifts = [tuple(pair) for pair in zip(gifts[::2], gifts[1::2])]\n",
        "n = 3\n",
        "m = 2\n",
        "def find_yougest_member(n,m, gifts):\n",
        "  in_degree = [0] * (n+1)\n",
        "  out_degree = [0] * (n+1)\n",
        "\n",
        "  for a, b in gifts:\n",
        "    in_degree[b] += 1\n",
        "    out_degree[a] += 1\n",
        "  print(in_degree, out_degree)\n",
        "\n",
        "\n",
        "  for i in range(1, n+1):\n",
        "    if in_degree[i] == n - 1 and out_degree[i] == 0:\n",
        "      return i\n",
        "  return -1\n",
        "\n",
        "find_yougest_member(n, m, gifts)"
      ],
      "metadata": {
        "id": "K23SX8HqPxM7",
        "colab": {
          "base_uri": "https://localhost:8080/"
        },
        "outputId": "1fbc1fb3-962d-48b8-d6d2-7a6aa72d6f4e"
      },
      "execution_count": null,
      "outputs": [
        {
          "output_type": "stream",
          "name": "stdout",
          "text": [
            "[0, 0, 0, 2] [0, 1, 1, 0]\n"
          ]
        },
        {
          "output_type": "execute_result",
          "data": {
            "text/plain": [
              "3"
            ]
          },
          "metadata": {},
          "execution_count": 26
        }
      ]
    },
    {
      "cell_type": "markdown",
      "source": [
        "## Day 6"
      ],
      "metadata": {
        "id": "nVvZZl9Kwhxq"
      }
    },
    {
      "cell_type": "code",
      "source": [
        "def count_sock_sets(socks):\n",
        "\n",
        "  color_counts = {}\n",
        "  for sock_color in socks:\n",
        "    color_counts[sock_color] = color_counts.get(sock_color, 0) + 1\n",
        "\n",
        "  # Count the number of sets for each color\n",
        "  total_sets = 0\n",
        "  for count in color_counts.values():\n",
        "    # Divide the count by 3 (number of socks per set)\n",
        "    total_sets += count // 3\n",
        "\n",
        "  return total_sets\n",
        "\n",
        "# Example usage\n",
        "socks = [1, 3, 3, 1, 1, 3]\n",
        "number_sets = count_sock_sets(socks)\n",
        "print(number_sets)  # Output: 2\n"
      ],
      "metadata": {
        "id": "CdhWFKuQb3_O",
        "colab": {
          "base_uri": "https://localhost:8080/"
        },
        "outputId": "589dce94-b38c-490e-f4f4-3672749e01a5"
      },
      "execution_count": null,
      "outputs": [
        {
          "output_type": "stream",
          "name": "stdout",
          "text": [
            "2\n"
          ]
        }
      ]
    },
    {
      "cell_type": "code",
      "source": [
        "def count_sock_sets(socks):\n",
        "  # Create a dictionary to store color counts\n",
        "  color_counts = {}\n",
        "  for sock_color in socks:\n",
        "    # Increment the count for the current sock color\n",
        "    color_counts[sock_color] = color_counts.get(sock_color, 0) + 1\n",
        "\n",
        "  # Count the number of sets for each color\n",
        "  total_sets = 0\n",
        "  for color, count in color_counts.items():\n",
        "    # Add full sets (count divisible by 3)\n",
        "    total_sets += count // 3\n",
        "    # Add remaining socks that can't form a full set (remainder)\n",
        "    total_sets += min(count % 3, 1)  # Consider only 1 set if remainder is 1 or 2\n",
        "\n",
        "  return total_sets\n",
        "\n",
        "# Example usage\n",
        "socks = [1, 3, 3, 1, 1, 3, 3]\n",
        "number_sets = count_sock_sets(socks)\n",
        "print(number_sets)  # Output: 5 (correct answer)\n"
      ],
      "metadata": {
        "colab": {
          "base_uri": "https://localhost:8080/"
        },
        "id": "lIjqs2Nqpj2D",
        "outputId": "9b9a2ea1-592d-45ba-e2af-375e1ec8f3c5"
      },
      "execution_count": null,
      "outputs": [
        {
          "output_type": "stream",
          "name": "stdout",
          "text": [
            "3\n"
          ]
        }
      ]
    },
    {
      "cell_type": "markdown",
      "source": [
        "## Day 7\n",
        "\n",
        "### Dynamic Programming- Deep Dive.\n",
        "\n",
        "Channel :- <a href=\"https://www.youtube.com/watch?v=_i4Yxeh5ceQ\">Watch Video</a>\n",
        "\n",
        "Questions from :- <a href=\"https://neetcode.io/practice\">NeetCode</a>\n",
        "\n",
        "Question 1:- <a href=\"https://neetcode.io/problems/climbing-stairs\">climbing-stairs</a>"
      ],
      "metadata": {
        "id": "Zp9nRF2OknWO"
      }
    },
    {
      "cell_type": "code",
      "source": [
        "def climbStairs(n):\n",
        "  one, two = 1, 1\n",
        "  for i in range(n-1):\n",
        "    temp = one\n",
        "    one += two\n",
        "    two = temp\n",
        "\n",
        "  return one\n",
        "\n",
        "climbStairs(5)"
      ],
      "metadata": {
        "id": "lXfP7TZ9ueMw",
        "colab": {
          "base_uri": "https://localhost:8080/"
        },
        "outputId": "ba73432c-cf82-4257-cc09-2e86b366ccb6"
      },
      "execution_count": null,
      "outputs": [
        {
          "output_type": "execute_result",
          "data": {
            "text/plain": [
              "8"
            ]
          },
          "metadata": {},
          "execution_count": 3
        }
      ]
    },
    {
      "cell_type": "code",
      "source": [
        "cost = [10, 15, 20]\n",
        "cost.append(0)\n",
        "for i in range(len(cost)-3, -1, -1):\n",
        "  cost[i] += min(cost[i+1], cost[i+2])\n",
        "print(min(cost[0],cost[1]))"
      ],
      "metadata": {
        "id": "bXkJT3rgowvk",
        "colab": {
          "base_uri": "https://localhost:8080/"
        },
        "outputId": "51a6ed10-e7e7-4b0e-cd0a-cec3429fb2ea"
      },
      "execution_count": null,
      "outputs": [
        {
          "output_type": "stream",
          "name": "stdout",
          "text": [
            "15\n"
          ]
        }
      ]
    },
    {
      "cell_type": "code",
      "source": [
        "nums = [1, 1, 3, 3]\n",
        "rob = []\n",
        "for i in range(0, len(nums)-2):\n",
        "  rob = min(nums[i] + rob[i+1::])\n",
        "\n",
        "print(rob)"
      ],
      "metadata": {
        "colab": {
          "base_uri": "https://localhost:8080/",
          "height": 211
        },
        "id": "XVKaDziuFQ0P",
        "outputId": "c5099bde-96b1-4a8c-aa3a-f1aa391990d3"
      },
      "execution_count": null,
      "outputs": [
        {
          "output_type": "error",
          "ename": "TypeError",
          "evalue": "unsupported operand type(s) for +: 'int' and 'list'",
          "traceback": [
            "\u001b[0;31m---------------------------------------------------------------------------\u001b[0m",
            "\u001b[0;31mTypeError\u001b[0m                                 Traceback (most recent call last)",
            "\u001b[0;32m<ipython-input-16-b08be03dcc41>\u001b[0m in \u001b[0;36m<cell line: 3>\u001b[0;34m()\u001b[0m\n\u001b[1;32m      2\u001b[0m \u001b[0mrob\u001b[0m \u001b[0;34m=\u001b[0m \u001b[0;34m[\u001b[0m\u001b[0;34m]\u001b[0m\u001b[0;34m\u001b[0m\u001b[0;34m\u001b[0m\u001b[0m\n\u001b[1;32m      3\u001b[0m \u001b[0;32mfor\u001b[0m \u001b[0mi\u001b[0m \u001b[0;32min\u001b[0m \u001b[0mrange\u001b[0m\u001b[0;34m(\u001b[0m\u001b[0;36m0\u001b[0m\u001b[0;34m,\u001b[0m \u001b[0mlen\u001b[0m\u001b[0;34m(\u001b[0m\u001b[0mnums\u001b[0m\u001b[0;34m)\u001b[0m\u001b[0;34m-\u001b[0m\u001b[0;36m2\u001b[0m\u001b[0;34m)\u001b[0m\u001b[0;34m:\u001b[0m\u001b[0;34m\u001b[0m\u001b[0;34m\u001b[0m\u001b[0m\n\u001b[0;32m----> 4\u001b[0;31m   \u001b[0mrob\u001b[0m \u001b[0;34m=\u001b[0m \u001b[0mmin\u001b[0m\u001b[0;34m(\u001b[0m\u001b[0mnums\u001b[0m\u001b[0;34m[\u001b[0m\u001b[0mi\u001b[0m\u001b[0;34m]\u001b[0m \u001b[0;34m+\u001b[0m \u001b[0mrob\u001b[0m\u001b[0;34m[\u001b[0m\u001b[0mi\u001b[0m\u001b[0;34m+\u001b[0m\u001b[0;36m1\u001b[0m\u001b[0;34m:\u001b[0m\u001b[0;34m:\u001b[0m\u001b[0;34m]\u001b[0m\u001b[0;34m)\u001b[0m\u001b[0;34m\u001b[0m\u001b[0;34m\u001b[0m\u001b[0m\n\u001b[0m\u001b[1;32m      5\u001b[0m \u001b[0;34m\u001b[0m\u001b[0m\n\u001b[1;32m      6\u001b[0m \u001b[0mprint\u001b[0m\u001b[0;34m(\u001b[0m\u001b[0mrob\u001b[0m\u001b[0;34m)\u001b[0m\u001b[0;34m\u001b[0m\u001b[0;34m\u001b[0m\u001b[0m\n",
            "\u001b[0;31mTypeError\u001b[0m: unsupported operand type(s) for +: 'int' and 'list'"
          ]
        }
      ]
    },
    {
      "cell_type": "code",
      "source": [
        "nums = [3,4,3]\n",
        "rob1, rob2 = 0, 0\n",
        "for n in nums:\n",
        "  temp = max(n+rob1, rob2)\n",
        "  rob1 = rob2\n",
        "  rob2 = temp\n",
        "\n",
        "print(rob2)"
      ],
      "metadata": {
        "colab": {
          "base_uri": "https://localhost:8080/"
        },
        "id": "uVXz5GaMK4eS",
        "outputId": "fc3e3753-cbc9-470b-aed3-90072f72a6a6"
      },
      "execution_count": null,
      "outputs": [
        {
          "output_type": "stream",
          "name": "stdout",
          "text": [
            "6\n"
          ]
        }
      ]
    },
    {
      "cell_type": "code",
      "source": [
        "nums = [2,9,8,3,6]\n",
        "rob1, rob2 = 0, 0\n",
        "for n in nums:\n",
        "  temp = max(n+rob1, rob2)\n",
        "  rob1 = rob2\n",
        "  rob2 = temp\n",
        "\n",
        "check = nums[0] + nums[-1]\n",
        "if rob2 <  check:\n",
        "  print(check)\n",
        "else:\n",
        "  print(rob2)"
      ],
      "metadata": {
        "colab": {
          "base_uri": "https://localhost:8080/"
        },
        "id": "lB_CcIrZQ7fB",
        "outputId": "6d3c4ab6-9362-4df7-b4e7-7fab36909e3e"
      },
      "execution_count": null,
      "outputs": [
        {
          "output_type": "stream",
          "name": "stdout",
          "text": [
            "16\n"
          ]
        }
      ]
    },
    {
      "cell_type": "code",
      "source": [
        "class Solution:\n",
        "    def rob(self, nums):\n",
        "        return max(nums[0], self.helper(nums[1:]), self.helper(nums[:-1]))\n",
        "\n",
        "\n",
        "    def helper(self, nums):\n",
        "        rob1, rob2 = 0, 0\n",
        "        for n in nums:\n",
        "            newRob = max(rob1+n, rob2)\n",
        "            rob1 = rob2\n",
        "            rob2 = newRob\n",
        "\n",
        "        return rob2\n"
      ],
      "metadata": {
        "id": "DiXV4u6TbaGn"
      },
      "execution_count": null,
      "outputs": []
    },
    {
      "cell_type": "code",
      "source": [
        "s = \"abbc\"\n",
        "sub = ''\n",
        "dict_count = {}\n",
        "for i in s:\n",
        "  sub += i\n",
        "  if sub == sub[::-1]:\n",
        "    print(sub)\n",
        "    sub = ''\n",
        "\n"
      ],
      "metadata": {
        "colab": {
          "base_uri": "https://localhost:8080/"
        },
        "id": "E6a3evZbowjt",
        "outputId": "ee4cf6d6-3eee-4fbf-9fe4-8d1d8a2096ea"
      },
      "execution_count": null,
      "outputs": [
        {
          "output_type": "stream",
          "name": "stdout",
          "text": [
            "a\n",
            "b\n",
            "b\n",
            "c\n"
          ]
        }
      ]
    },
    {
      "cell_type": "code",
      "source": [
        "def logest_palindromic_substring_length(s):\n",
        "  n = len(s)\n",
        "  if n == 0:\n",
        "    return 0\n",
        "  dp = [[False] * n for _ in range(n)]\n",
        "\n",
        "  # print(len(dp))\n",
        "  for i in range(n):\n",
        "    dp[i][i] = True\n",
        "\n",
        "  # print(dp)\n",
        "\n",
        "  start = 0\n",
        "\n",
        "  for i in range(n-1):\n",
        "    if s[i] == s[i+1]:\n",
        "      dp[i][i+1] == True\n",
        "      start = i\n",
        "      max_length = 2\n",
        "\n",
        "  for length in range(3, n+1):\n",
        "    for i in range(n-length + 1):\n",
        "      j = i + length - 1\n",
        "      # print(j)\n",
        "      if s[i] == s[j] and dp[i+1][j-1]:\n",
        "        dp[i][j] = True\n",
        "        start = i\n",
        "        max_length = length\n",
        "\n",
        "    return max_length\n",
        "\n",
        "logest_palindromic_substring_length('abacc')"
      ],
      "metadata": {
        "id": "6b2Dh8RGqkaQ",
        "colab": {
          "base_uri": "https://localhost:8080/"
        },
        "outputId": "f6fd1f41-fb5a-46d9-8d72-7479e0844deb"
      },
      "execution_count": null,
      "outputs": [
        {
          "output_type": "stream",
          "name": "stdout",
          "text": [
            "a\n"
          ]
        },
        {
          "output_type": "execute_result",
          "data": {
            "text/plain": [
              "3"
            ]
          },
          "metadata": {},
          "execution_count": 1
        }
      ]
    },
    {
      "cell_type": "code",
      "source": [
        "s = \"ababd\"\n",
        "substring = []\n",
        "sub = ''\n",
        "for i in range(len(s)-1):\n",
        "  sub += s[i]\n",
        "  if sub == sub[::-1]:\n",
        "    substring.append(sub)\n",
        "  sub = s[i]\n",
        "  print(sub)\n",
        "\n",
        "print(substring)"
      ],
      "metadata": {
        "id": "rTsvZ9e8AEsU",
        "colab": {
          "base_uri": "https://localhost:8080/"
        },
        "outputId": "9458d73f-9a75-40f8-afad-1f991d27ccb0"
      },
      "execution_count": null,
      "outputs": [
        {
          "output_type": "stream",
          "name": "stdout",
          "text": [
            "a\n",
            "b\n",
            "a\n",
            "b\n",
            "['a']\n"
          ]
        }
      ]
    },
    {
      "cell_type": "markdown",
      "source": [
        "Top K Elements in List\n",
        "Given an integer array nums and an integer k, return the k most frequent elements within the array.\n",
        "\n",
        "The test cases are generated such that the answer is always unique.\n",
        "\n",
        "You may return the output in any order.\n",
        "\n",
        "Example 1:\n",
        "\n",
        "Input: nums = [1,2,2,3,3,3], k = 2\n",
        "\n",
        "Output: [2,3]\n",
        "\n",
        "Example 2:\n",
        "\n",
        "Input: nums = [7,7], k = 1\n",
        "\n",
        "Output: [7]"
      ],
      "metadata": {
        "id": "s5HLwNZPcGLq"
      }
    },
    {
      "cell_type": "code",
      "source": [
        "class Solution:\n",
        "    def topKFrequent(self, nums, k):\n",
        "        if len(nums) == k:\n",
        "            return nums\n",
        "        dict_count = {}\n",
        "        for i in nums:\n",
        "            dict_count[i] = dict_count.get(i, 0)+1\n",
        "\n",
        "        output = []\n",
        "        for key, value in dict_count.items():\n",
        "            if value >= k:\n",
        "                output.append(key)\n",
        "        return output\n",
        ""
      ],
      "metadata": {
        "id": "nMeUpzHSe5vF"
      },
      "execution_count": null,
      "outputs": []
    },
    {
      "cell_type": "code",
      "source": [
        "arr = [1,2,2,3,3,3]\n",
        "k = 2\n",
        "check = 0\n",
        "hashmap = set()\n",
        "for i in range(len(arr)-1):\n",
        "  if arr[i] == arr[i+1]:\n",
        "     check += 1\n",
        "     print(arr[i])\n",
        "     if check >= k-1:\n",
        "      hashmap.add(arr[i])\n",
        "  else:\n",
        "    check = 0\n",
        "\n",
        "hashmap"
      ],
      "metadata": {
        "id": "5QAS-eYLKHCZ",
        "colab": {
          "base_uri": "https://localhost:8080/"
        },
        "outputId": "6496bf84-1fc6-4560-a4cc-6ad754273772"
      },
      "execution_count": 14,
      "outputs": [
        {
          "output_type": "stream",
          "name": "stdout",
          "text": [
            "2\n",
            "3\n",
            "3\n"
          ]
        },
        {
          "output_type": "execute_result",
          "data": {
            "text/plain": [
              "{2, 3}"
            ]
          },
          "metadata": {},
          "execution_count": 14
        }
      ]
    },
    {
      "cell_type": "code",
      "source": [
        "from collections import Counter\n",
        "\n",
        "def topKFrequent(nums, k):\n",
        "    # Count the frequency of each element in the list\n",
        "    count = Counter(nums)\n",
        "\n",
        "    # Get the k most common elements\n",
        "    most_common = count.most_common(k)\n",
        "\n",
        "    # Extract just the elements from the most common list\n",
        "    result = [element for element, frequency in most_common]\n",
        "\n",
        "    return result\n",
        "\n",
        "# Example 1\n",
        "nums1 = [1, 2, 2, 3, 3, 3]\n",
        "k1 = 2\n",
        "print(topKFrequent(nums1, k1))  # Output: [2, 3]\n",
        "\n",
        "# Example 2\n",
        "nums2 = [7, 7]\n",
        "k2 = 1\n",
        "print(topKFrequent(nums2, k2))  # Output: [7]\n"
      ],
      "metadata": {
        "colab": {
          "base_uri": "https://localhost:8080/"
        },
        "id": "OdaHytfWdyyD",
        "outputId": "d1e92000-537e-4ce7-c43a-be94ef704bdf"
      },
      "execution_count": 15,
      "outputs": [
        {
          "output_type": "stream",
          "name": "stdout",
          "text": [
            "[3, 2]\n",
            "[7]\n"
          ]
        }
      ]
    },
    {
      "cell_type": "code",
      "source": [
        "def topKFrequent(nums, k):\n",
        "    frequency = {}\n",
        "    for num in nums:\n",
        "        if num in frequency:\n",
        "            frequency[num] += 1\n",
        "        else:\n",
        "            frequency[num] = 1\n",
        "\n",
        "    sorted_elements = sorted(frequency, key=lambda x: frequency[x], reverse=True)\n",
        "    print(sorted_elements)\n",
        "\n",
        "    result = sorted_elements[:k]\n",
        "\n",
        "    return result\n",
        "\n",
        "\n",
        "nums1 = [1, 2, 2, 3, 3, 3]\n",
        "k1 = 2\n",
        "print(topKFrequent(nums1, k1))"
      ],
      "metadata": {
        "colab": {
          "base_uri": "https://localhost:8080/"
        },
        "id": "G3kqbrA1keCm",
        "outputId": "223b5f72-ba3f-4391-e998-cc5ecfc10839"
      },
      "execution_count": 18,
      "outputs": [
        {
          "output_type": "stream",
          "name": "stdout",
          "text": [
            "[3, 2, 1]\n",
            "[3, 2]\n"
          ]
        }
      ]
    },
    {
      "cell_type": "code",
      "source": [
        "def encode(self, strs):\n",
        "  key = 3739\n",
        "  new = ''\n",
        "  for word in data:\n",
        "    for chr in word:\n",
        "      new += str(ord(chr)+key)\n",
        "    new += ' '\n",
        "\n",
        "def decode(self, s):"
      ],
      "metadata": {
        "id": "f7IZ6xYOlcTM"
      },
      "execution_count": null,
      "outputs": []
    },
    {
      "cell_type": "code",
      "source": [
        "data = [\"neet\",\"code\",\"love\",\"you\"]\n",
        "key = 3739\n",
        "new = ''\n",
        "for word in data:\n",
        "  for chr in word:\n",
        "    new += str(ord(chr)+key)\n",
        "    new += ' '\n",
        "  new += '  '\n",
        "\n",
        "print(new)"
      ],
      "metadata": {
        "colab": {
          "base_uri": "https://localhost:8080/"
        },
        "id": "Cw9EFearpCfK",
        "outputId": "20134fb1-d796-4bc4-e86f-8285a19fa681"
      },
      "execution_count": 25,
      "outputs": [
        {
          "output_type": "stream",
          "name": "stdout",
          "text": [
            "3849 3840 3840 3855   3838 3850 3839 3840   3847 3850 3857 3840   3860 3850 3856   \n"
          ]
        }
      ]
    },
    {
      "cell_type": "code",
      "source": [
        "encode = '3849 3840 3840 3855   3838 3850 3839 3840   3847 3850 3857 3840   3860 3850 3856'"
      ],
      "metadata": {
        "colab": {
          "base_uri": "https://localhost:8080/",
          "height": 176
        },
        "id": "ookszA42pELG",
        "outputId": "ca1e962f-f6d1-4e9c-b964-e55fdb5dbf21"
      },
      "execution_count": 29,
      "outputs": [
        {
          "output_type": "error",
          "ename": "TypeError",
          "evalue": "'str' object is not callable",
          "traceback": [
            "\u001b[0;31m---------------------------------------------------------------------------\u001b[0m",
            "\u001b[0;31mTypeError\u001b[0m                                 Traceback (most recent call last)",
            "\u001b[0;32m<ipython-input-29-78f12b71a2b7>\u001b[0m in \u001b[0;36m<cell line: 3>\u001b[0;34m()\u001b[0m\n\u001b[1;32m      1\u001b[0m \u001b[0mencode\u001b[0m \u001b[0;34m=\u001b[0m \u001b[0;34m'3849 3840 3840 3855   3838 3850 3839 3840   3847 3850 3857 3840   3860 3850 3856'\u001b[0m\u001b[0;34m\u001b[0m\u001b[0;34m\u001b[0m\u001b[0m\n\u001b[1;32m      2\u001b[0m \u001b[0;34m\u001b[0m\u001b[0m\n\u001b[0;32m----> 3\u001b[0;31m \u001b[0mchr\u001b[0m\u001b[0;34m(\u001b[0m\u001b[0;34m'79'\u001b[0m\u001b[0;34m)\u001b[0m\u001b[0;34m\u001b[0m\u001b[0;34m\u001b[0m\u001b[0m\n\u001b[0m",
            "\u001b[0;31mTypeError\u001b[0m: 'str' object is not callable"
          ]
        }
      ]
    },
    {
      "cell_type": "code",
      "source": [],
      "metadata": {
        "id": "jhMhrCZIsneL"
      },
      "execution_count": null,
      "outputs": []
    }
  ]
}